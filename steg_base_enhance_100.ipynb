{
  "cells": [
    {
      "cell_type": "code",
      "execution_count": null,
      "metadata": {
        "id": "B4h73oUzEJ_L"
      },
      "outputs": [],
      "source": [
        "#!/usr/bin/env bash\n",
        "\n",
        "# Div2K\n",
        "# -------------------------\n",
        "! mkdir div2k\n",
        "% cd div2k\n",
        "\n",
        "! wget http://data.vision.ee.ethz.ch/cvl/DIV2K/DIV2K_valid_HR.zip\n",
        "! mkdir val\n",
        "! unzip -j DIV2K_valid_HR.zip -d val/_\n",
        "! rm DIV2K_valid_HR.zip\n",
        "\n",
        "! wget http://data.vision.ee.ethz.ch/cvl/DIV2K/DIV2K_train_HR.zip\n",
        "! mkdir train\n",
        "! unzip -j DIV2K_train_HR.zip -d train/_\n",
        "! rm DIV2K_train_HR.zip\n",
        "\n",
        "% cd ..\n"
      ]
    },
    {
      "cell_type": "code",
      "execution_count": null,
      "metadata": {
        "colab": {
          "base_uri": "https://localhost:8080/"
        },
        "id": "Zp9zApxK755n",
        "outputId": "18437a83-d8bf-4089-e35d-cf33f5529005"
      },
      "outputs": [
        {
          "name": "stdout",
          "output_type": "stream",
          "text": [
            "/content\n"
          ]
        }
      ],
      "source": [
        "!pwd"
      ]
    },
    {
      "cell_type": "code",
      "execution_count": null,
      "metadata": {
        "colab": {
          "base_uri": "https://localhost:8080/"
        },
        "id": "G1S1_Sn4Fz8R",
        "outputId": "85e0fde6-e5f0-45c8-9251-a4f42b72e02c"
      },
      "outputs": [
        {
          "name": "stdout",
          "output_type": "stream",
          "text": [
            "/bin/bash: 2.5.0: No such file or directory\n",
            "Requirement already satisfied: reedsolo==0.3 in /usr/local/lib/python3.7/dist-packages (0.3)\n",
            "/bin/bash: 1.2.0: No such file or directory\n",
            "/bin/bash: 1.16.0: No such file or directory\n",
            "/bin/bash: 7.0.0: No such file or directory\n",
            "Requirement already satisfied: torch==1.0.0 in /usr/local/lib/python3.7/dist-packages (1.0.0)\n",
            "Requirement already satisfied: torchvision==0.2.1 in /usr/local/lib/python3.7/dist-packages (0.2.1)\n",
            "Requirement already satisfied: numpy in /usr/local/lib/python3.7/dist-packages (from torchvision==0.2.1) (1.21.6)\n",
            "Requirement already satisfied: six in /usr/local/lib/python3.7/dist-packages (from torchvision==0.2.1) (1.15.0)\n",
            "Requirement already satisfied: pillow>=4.1.1 in /usr/local/lib/python3.7/dist-packages (from torchvision==0.2.1) (7.1.2)\n",
            "Requirement already satisfied: torch in /usr/local/lib/python3.7/dist-packages (from torchvision==0.2.1) (1.0.0)\n"
          ]
        }
      ],
      "source": [
        "!pip install imageio>=2.4.1,<2.5.0\n",
        "!pip install reedsolo==0.3\n",
        "!pip install scipy>=1.1.0,<1.2.0\n",
        "!pip install tqdm>=4.28.1\n",
        "!pip install numpy>=1.15.4<1.16.0\n",
        "!pip install Pillow>=5.0.0,<7.0.0\n",
        "!pip install torch==1.0.0\n",
        "!pip install torchvision==0.2.1"
      ]
    },
    {
      "cell_type": "code",
      "execution_count": null,
      "metadata": {
        "id": "G8OulSvhUYGs"
      },
      "outputs": [],
      "source": [
        "# -*- coding: utf-8 -*-\n",
        "\n",
        "import zlib\n",
        "from math import exp\n",
        "\n",
        "import torch\n",
        "from reedsolo import RSCodec\n",
        "from torch.nn.functional import conv2d\n",
        "\n",
        "rs = RSCodec(250)\n",
        "\n",
        "\n",
        "def text_to_bits(text):\n",
        "    \"\"\"Convert text to a list of ints in {0, 1}\"\"\"\n",
        "    return bytearray_to_bits(text_to_bytearray(text))\n",
        "\n",
        "def bits_to_text(bits):\n",
        "    \"\"\"Convert a list of ints in {0, 1} to text\"\"\"\n",
        "    return bytearray_to_text(bits_to_bytearray(bits))\n",
        "\n",
        "def bytearray_to_bits(x):\n",
        "    \"\"\"Convert bytearray to a list of bits\"\"\"\n",
        "    result = []\n",
        "    for i in x:\n",
        "        bits = bin(i)[2:]\n",
        "        bits = '00000000'[len(bits):] + bits\n",
        "        result.extend([int(b) for b in bits])\n",
        "\n",
        "    return result\n",
        "\n",
        "\n",
        "def bits_to_bytearray(bits):\n",
        "    \"\"\"Convert a list of bits to a bytearray\"\"\"\n",
        "    ints = []\n",
        "    for b in range(len(bits) // 8):\n",
        "        byte = bits[b * 8:(b + 1) * 8]\n",
        "        ints.append(int(''.join([str(bit) for bit in byte]), 2))\n",
        "\n",
        "    return bytearray(ints)\n",
        "\n",
        "\n",
        "def text_to_bytearray(text):\n",
        "    \"\"\"Compress and add error correction\"\"\"\n",
        "    assert isinstance(text, str), \"expected a string\"\n",
        "    x = zlib.compress(text.encode(\"utf-8\"))\n",
        "    x = rs.encode(bytearray(x))\n",
        "\n",
        "    return x\n",
        "\n",
        "\n",
        "def bytearray_to_text(x):\n",
        "    \"\"\"Apply error correction and decompress\"\"\"\n",
        "    try:\n",
        "        text = rs.decode(x)\n",
        "        text = zlib.decompress(text)\n",
        "        return text.decode(\"utf-8\")\n",
        "    except BaseException:\n",
        "        return False\n",
        "\n",
        "\n",
        "\n",
        "def gaussian(window_size, sigma):\n",
        "    \"\"\"Gaussian window.\n",
        "\n",
        "    https://en.wikipedia.org/wiki/Window_function#Gaussian_window\n",
        "    \"\"\"\n",
        "    _exp = [exp(-(x - window_size // 2) ** 2 / float(2 * sigma ** 2)) for x in range(window_size)]\n",
        "    gauss = torch.Tensor(_exp)\n",
        "    return gauss / gauss.sum()\n",
        "\n",
        "\n",
        "def create_window(window_size, channel):\n",
        "    _1D_window = gaussian(window_size, 1.5).unsqueeze(1)\n",
        "    _2D_window = _1D_window.mm(_1D_window.t()).float().unsqueeze(0).unsqueeze(0)\n",
        "    window = _2D_window.expand(channel, 1, window_size, window_size).contiguous()\n",
        "    return window\n",
        "\n",
        "\n",
        "def _ssim(img1, img2, window, window_size, channel, size_average=True):\n",
        "\n",
        "    padding_size = window_size // 2\n",
        "\n",
        "    mu1 = conv2d(img1, window, padding=padding_size, groups=channel)\n",
        "    mu2 = conv2d(img2, window, padding=padding_size, groups=channel)\n",
        "\n",
        "    mu1_sq = mu1.pow(2)\n",
        "    mu2_sq = mu2.pow(2)\n",
        "    mu1_mu2 = mu1 * mu2\n",
        "\n",
        "    sigma1_sq = conv2d(img1 * img1, window, padding=padding_size, groups=channel) - mu1_sq\n",
        "    sigma2_sq = conv2d(img2 * img2, window, padding=padding_size, groups=channel) - mu2_sq\n",
        "    sigma12 = conv2d(img1 * img2, window, padding=padding_size, groups=channel) - mu1_mu2\n",
        "\n",
        "    C1 = 0.01**2\n",
        "    C2 = 0.03**2\n",
        "\n",
        "    _ssim_quotient = ((2 * mu1_mu2 + C1) * (2 * sigma12 + C2))\n",
        "    _ssim_divident = ((mu1_sq + mu2_sq + C1) * (sigma1_sq + sigma2_sq + C2))\n",
        "\n",
        "    ssim_map = _ssim_quotient / _ssim_divident\n",
        "\n",
        "    if size_average:\n",
        "        return ssim_map.mean()\n",
        "    else:\n",
        "        return ssim_map.mean(1).mean(1).mean(1)\n",
        "\n",
        "\n",
        "def ssim(img1, img2, window_size=11, size_average=True):\n",
        "    (_, channel, _, _) = img1.size()\n",
        "    window = create_window(window_size, channel)\n",
        "\n",
        "    if img1.is_cuda:\n",
        "        window = window.cuda(img1.get_device())\n",
        "    window = window.type_as(img1)\n",
        "\n",
        "    return _ssim(img1, img2, window, window_size, channel, size_average)"
      ]
    },
    {
      "cell_type": "code",
      "execution_count": null,
      "metadata": {
        "id": "cqG3FAQ4759-"
      },
      "outputs": [],
      "source": [
        "# -*- coding: utf-8 -*-\n",
        "import gc\n",
        "import inspect\n",
        "import json\n",
        "import os\n",
        "from collections import Counter\n",
        "\n",
        "import imageio\n",
        "import torch\n",
        "from imageio import imread, imwrite\n",
        "from torch.nn.functional import binary_cross_entropy_with_logits, mse_loss\n",
        "from torch.optim import Adam\n",
        "from tqdm import tqdm\n",
        "\n",
        "\n",
        "METRIC_FIELDS = [\n",
        "    'val.encoder_mse',\n",
        "    'val.decoder_loss',\n",
        "    'val.decoder_acc',\n",
        "    'val.cover_score',\n",
        "    'val.generated_score',\n",
        "    'val.ssim',\n",
        "    'val.psnr',\n",
        "    'val.bpp',\n",
        "    'train.encoder_mse',\n",
        "    'train.decoder_loss',\n",
        "    'train.decoder_acc',\n",
        "    'train.cover_score',\n",
        "    'train.generated_score',\n",
        "]\n",
        "\n",
        "\n",
        "class Steganography(object):\n",
        "\n",
        "    def _get_instance(self, class_or_instance, kwargs):\n",
        "        \"\"\"Returns an instance of the class\"\"\"\n",
        "\n",
        "        if not inspect.isclass(class_or_instance):\n",
        "            return class_or_instance\n",
        "\n",
        "        argspec = inspect.getfullargspec(class_or_instance.__init__).args\n",
        "        argspec.remove('self')\n",
        "        init_args = {arg: kwargs[arg] for arg in argspec}\n",
        "\n",
        "        return class_or_instance(**init_args)\n",
        "\n",
        "    def set_device(self, cuda=True):\n",
        "        \"\"\"Sets the torch device depending on whether cuda is avaiable or not.\"\"\"\n",
        "        if cuda and torch.cuda.is_available():\n",
        "            self.cuda = True\n",
        "            self.device = torch.device('cuda')\n",
        "        else:\n",
        "            self.cuda = False\n",
        "            self.device = torch.device('cpu')\n",
        "\n",
        "        if self.verbose:\n",
        "            if not cuda:\n",
        "                print('Using CPU device')\n",
        "            elif not self.cuda:\n",
        "                print('CUDA is not available. Defaulting to CPU device')\n",
        "            else:\n",
        "                print('Using CUDA device')\n",
        "\n",
        "        self.encoder.to(self.device)\n",
        "        self.decoder.to(self.device)\n",
        "        self.critic.to(self.device)\n",
        "\n",
        "    def __init__(self, data_depth, encoder, decoder, critic,\n",
        "                 cuda=False, verbose=False, log_dir=None, **kwargs):\n",
        "\n",
        "        self.verbose = verbose\n",
        "\n",
        "        self.data_depth = data_depth\n",
        "        kwargs['data_depth'] = data_depth\n",
        "        self.encoder = self._get_instance(encoder, kwargs)\n",
        "        self.decoder = self._get_instance(decoder, kwargs)\n",
        "        self.critic = self._get_instance(critic, kwargs)\n",
        "        self.set_device(cuda)\n",
        "\n",
        "        self.critic_optimizer = None\n",
        "        self.decoder_optimizer = None\n",
        "\n",
        "        # Misc\n",
        "        self.fit_metrics = None\n",
        "        self.history = list()\n",
        "\n",
        "        self.log_dir = log_dir\n",
        "        if log_dir:\n",
        "            os.makedirs(self.log_dir, exist_ok=True)\n",
        "            self.samples_path = os.path.join(self.log_dir, 'samples')\n",
        "            os.makedirs(self.samples_path, exist_ok=True)\n",
        "\n",
        "    def _random_data(self, cover):\n",
        "        \"\"\"Generate random data ready to be hidden inside the cover image.\n",
        "\n",
        "        Args:\n",
        "            cover (image): Image to use as cover.\n",
        "\n",
        "        Returns:\n",
        "            generated (image): Image generated with the encoded message.\n",
        "        \"\"\"\n",
        "        N, _, H, W = cover.size()\n",
        "        return torch.zeros((N, self.data_depth, H, W), device=self.device).random_(0, 2)\n",
        "\n",
        "    def _encode_decode(self, cover, quantize=False):\n",
        "        \"\"\"Encode random data and then decode it.\n",
        "\n",
        "        Args:\n",
        "            cover (image): Image to use as cover.\n",
        "            quantize (bool): whether to quantize the generated image or not.\n",
        "\n",
        "        Returns:\n",
        "            generated (image): Image generated with the encoded message.\n",
        "            payload (bytes): Random data that has been encoded in the image.\n",
        "            decoded (bytes): Data decoded from the generated image.\n",
        "        \"\"\"\n",
        "        payload = self._random_data(cover)\n",
        "        generated = self.encoder(cover, payload)\n",
        "        if quantize:\n",
        "            generated = (255.0 * (generated + 1.0) / 2.0).long()\n",
        "            generated = 2.0 * generated.float() / 255.0 - 1.0\n",
        "\n",
        "        decoded = self.decoder(generated)\n",
        "\n",
        "        return generated, payload, decoded\n",
        "\n",
        "    def _critic(self, image):\n",
        "        \"\"\"Evaluate the image using the critic\"\"\"\n",
        "        return torch.mean(self.critic(image))\n",
        "\n",
        "    def _get_optimizers(self):\n",
        "        _dec_list = list(self.decoder.parameters()) + list(self.encoder.parameters())\n",
        "        critic_optimizer = Adam(self.critic.parameters(), lr=1e-1)\n",
        "        decoder_optimizer = Adam(_dec_list, lr=1e-1)\n",
        "\n",
        "        return critic_optimizer, decoder_optimizer\n",
        "\n",
        "    def _fit_critic(self, train, metrics):\n",
        "        \"\"\"Critic process\"\"\"\n",
        "        for cover, _ in tqdm(train, disable=not self.verbose):\n",
        "            gc.collect()\n",
        "            cover = cover.to(self.device)\n",
        "            payload = self._random_data(cover)\n",
        "            generated = self.encoder(cover, payload)\n",
        "            cover_score = self._critic(cover)\n",
        "            generated_score = self._critic(generated)\n",
        "\n",
        "            self.critic_optimizer.zero_grad()\n",
        "            (cover_score - generated_score).backward(retain_graph=False)\n",
        "            self.critic_optimizer.step()\n",
        "\n",
        "            for p in self.critic.parameters():\n",
        "                p.data.clamp_(-0.1, 0.1)\n",
        "\n",
        "            metrics['train.cover_score'].append(cover_score.item())\n",
        "            metrics['train.generated_score'].append(generated_score.item())\n",
        "\n",
        "    def _fit_coders(self, train, metrics):\n",
        "        \"\"\"Fit the encoder and the decoder on the train images.\"\"\"\n",
        "        for cover, _ in tqdm(train, disable=not self.verbose):\n",
        "            gc.collect()\n",
        "            cover = cover.to(self.device)\n",
        "            generated, payload, decoded = self._encode_decode(cover)\n",
        "            encoder_mse, decoder_loss, decoder_acc = self._coding_scores(\n",
        "                cover, generated, payload, decoded)\n",
        "            generated_score = self._critic(generated)\n",
        "\n",
        "            self.decoder_optimizer.zero_grad()\n",
        "            (100.0 * encoder_mse + decoder_loss + generated_score).backward()\n",
        "            self.decoder_optimizer.step()\n",
        "\n",
        "    def _coding_scores(self, cover, generated, payload, decoded):\n",
        "        encoder_mse = mse_loss(generated, cover)\n",
        "        decoder_loss = binary_cross_entropy_with_logits(decoded, payload)\n",
        "        decoder_acc = (decoded >= 0.0).eq(payload >= 0.5).sum().float() / payload.numel()\n",
        "\n",
        "        return encoder_mse, decoder_loss, decoder_acc\n",
        "\n",
        "    def _validate(self, validate, metrics):\n",
        "        \"\"\"Validation process\"\"\"\n",
        "        for cover, _ in tqdm(validate, disable=not self.verbose):\n",
        "            gc.collect()\n",
        "            cover = cover.to(self.device)\n",
        "            generated, payload, decoded = self._encode_decode(cover, quantize=True)\n",
        "            encoder_mse, decoder_loss, decoder_acc = self._coding_scores(\n",
        "                cover, generated, payload, decoded)\n",
        "            generated_score = self._critic(generated)\n",
        "            cover_score = self._critic(cover)\n",
        "\n",
        "        metrics['val.decoder_loss'].append(decoder_loss.item())\n",
        "        print('Loss:',decoder_loss.item())\n",
        "        metrics['val.decoder_acc'].append(decoder_acc.item())\n",
        "        print('Accuracy:',decoder_acc.item())\n",
        "        metrics['val.ssim'].append(ssim(cover, generated).item())\n",
        "        print('SSIM:',ssim(cover, generated).item())\n",
        "        metrics['val.psnr'].append(10 * torch.log10(4 / encoder_mse).item())\n",
        "        print('PSNR:',10 * torch.log10(4 / encoder_mse).item())\n",
        "        metrics['val.bpp'].append(self.data_depth * (2 * decoder_acc.item() - 1))\n",
        "        print('bpp:',self.data_depth * (2 * decoder_acc.item() - 1))\n",
        "\n",
        "    def _generate_samples(self, samples_path, cover, epoch):\n",
        "        cover = cover.to(self.device)\n",
        "        generated, payload, decoded = self._encode_decode(cover)\n",
        "        samples = generated.size(0)\n",
        "        for sample in range(samples):\n",
        "            cover_path = os.path.join(samples_path, '{}.cover.png'.format(sample))\n",
        "            sample_name = '{}.generated-{:2d}.png'.format(sample, epoch)\n",
        "            sample_path = os.path.join(samples_path, sample_name)\n",
        "\n",
        "            image = (cover[sample].permute(1, 2, 0).detach().cpu().numpy() + 1.0) / 2.0\n",
        "            imageio.imwrite(cover_path, (255.0 * image).astype('uint8'))\n",
        "\n",
        "            sampled = generated[sample].clamp(-1.0, 1.0).permute(1, 2, 0)\n",
        "            sampled = sampled.detach().cpu().numpy() + 1.0\n",
        "\n",
        "            image = sampled / 2.0\n",
        "            imageio.imwrite(sample_path, (255.0 * image).astype('uint8'))\n",
        "\n",
        "    def fit(self, train, validate, epochs=5):\n",
        "        \"\"\"Train a new model with the given ImageLoader class.\"\"\"\n",
        "\n",
        "        if self.critic_optimizer is None:\n",
        "            self.critic_optimizer, self.decoder_optimizer = self._get_optimizers()\n",
        "            self.epochs = 0\n",
        "\n",
        "        if self.log_dir:\n",
        "            sample_cover = next(iter(validate))[0]\n",
        "\n",
        "        # Start training\n",
        "        total = self.epochs + epochs\n",
        "        for epoch in range(1, epochs + 1):\n",
        "            # Count how many epochs we have trained for this steganography\n",
        "            self.epochs += 1\n",
        "\n",
        "            metrics = {field: list() for field in METRIC_FIELDS}\n",
        "\n",
        "            if self.verbose:\n",
        "                print('Epoch {}/{}'.format(self.epochs, total))\n",
        "\n",
        "            self._fit_critic(train, metrics)\n",
        "            self._fit_coders(train, metrics)\n",
        "            self._validate(validate, metrics)\n",
        "\n",
        "            self.fit_metrics = {k: sum(v) / len(v) for k, v in metrics.items() if len(v)}\n",
        "            self.fit_metrics['epoch'] = epoch\n",
        "\n",
        "            if self.log_dir:\n",
        "                self.history.append(self.fit_metrics)\n",
        "\n",
        "                metrics_path = os.path.join(self.log_dir, 'metrics.log')\n",
        "                with open(metrics_path, 'w') as metrics_file:\n",
        "                    json.dump(self.history, metrics_file, indent=4)\n",
        "\n",
        "                save_name = '{}.bpp-{:03f}.p'.format(\n",
        "                    self.epochs, self.fit_metrics['val.bpp'])\n",
        "\n",
        "                self.save(os.path.join(self.log_dir, save_name))\n",
        "                self._generate_samples(self.samples_path, sample_cover, epoch)\n",
        "\n",
        "            # Empty cuda cache (this may help for memory leaks)\n",
        "            if self.cuda:\n",
        "                torch.cuda.empty_cache()\n",
        "\n",
        "            gc.collect()\n",
        "\n",
        "    def _make_payload(self, width, height, depth, text):\n",
        "        \"\"\"\n",
        "        This takes a piece of text and encodes it into a bit vector. It then\n",
        "        fills a matrix of size (width, height) with copies of the bit vector.\n",
        "        \"\"\"\n",
        "        message = text_to_bits(text) + [0] * 32\n",
        "\n",
        "        payload = message\n",
        "        while len(payload) < width * height * depth:\n",
        "            payload += message\n",
        "\n",
        "        payload = payload[:width * height * depth]\n",
        "\n",
        "        return torch.FloatTensor(payload).view(1, depth, height, width)\n",
        "\n",
        "    def encode(self, cover, output, text):\n",
        "        \"\"\"Encode an image.\n",
        "        Args:\n",
        "            cover (str): Path to the image to be used as cover.\n",
        "            output (str): Path where the generated image will be saved.\n",
        "            text (str): Message to hide inside the image.\n",
        "        \"\"\"\n",
        "        cover = imread(cover, pilmode='RGB') / 127.5 - 1.0\n",
        "        cover = torch.FloatTensor(cover).permute(2, 1, 0).unsqueeze(0)\n",
        "\n",
        "        cover_size = cover.size()\n",
        "        # _, _, height, width = cover.size()\n",
        "        payload = self._make_payload(cover_size[3], cover_size[2], self.data_depth, text)\n",
        "\n",
        "        cover = cover.to(self.device)\n",
        "        payload = payload.to(self.device)\n",
        "        generated = self.encoder(cover, payload)[0].clamp(-1.0, 1.0)\n",
        "\n",
        "        generated = (generated.permute(2, 1, 0).detach().cpu().numpy() + 1.0) * 127.5\n",
        "        imwrite(output, generated.astype('uint8'))\n",
        "\n",
        "        if self.verbose:\n",
        "            print('Encoding completed.')\n",
        "\n",
        "    def decode(self, image):\n",
        "\n",
        "        if not os.path.exists(image):\n",
        "            raise ValueError('Unable to read %s.' % image)\n",
        "\n",
        "        # extract a bit vector\n",
        "        image = imread(image, pilmode='RGB') / 255.0\n",
        "        image = torch.FloatTensor(image).permute(2, 1, 0).unsqueeze(0)\n",
        "        image = image.to(self.device)\n",
        "\n",
        "        image = self.decoder(image).view(-1) > 0\n",
        "\n",
        "        # split and decode messages\n",
        "        candidates = Counter()\n",
        "        bits = image.data.cpu().numpy().tolist()\n",
        "        for candidate in bits_to_bytearray(bits).split(b'\\x00\\x00\\x00\\x00'):\n",
        "            candidate = bytearray_to_text(bytearray(candidate))\n",
        "            if candidate:\n",
        "                candidates[candidate] += 1\n",
        "\n",
        "        # choose most common message\n",
        "        if len(candidates) == 0:\n",
        "            raise ValueError('Failed to find message.')\n",
        "\n",
        "        candidate, count = candidates.most_common(1)[0]\n",
        "        return candidate\n",
        "\n",
        "    def save(self, path):\n",
        "        \"\"\"Save the fitted model in the given path. Raises an exception if there is no model.\"\"\"\n",
        "        torch.save(self, path)\n",
        "\n",
        "    @classmethod\n",
        "    def load(cls, architecture=None, path=None, cuda=True, verbose=False):\n",
        "        \"\"\"Loads an instance of Steganography for the given architecture (default pretrained models)\n",
        "        or loads a pretrained model from a given path.\n",
        "\n",
        "        Args:\n",
        "            architecture(str): Name of a pretrained model to be loaded from the default models.\n",
        "            path(str): Path to custom pretrained model. *Architecture must be None.\n",
        "            cuda(bool): Force loaded model to use cuda (if available).\n",
        "            verbose(bool): Force loaded model to use or not verbose.\n",
        "        \"\"\"\n",
        "\n",
        "        if architecture and not path:\n",
        "            model_name = '{}.steg'.format(architecture)\n",
        "            pretrained_path = os.path.join(os.path.dirname(__file__), 'pretrained')\n",
        "            path = os.path.join(pretrained_path, model_name)\n",
        "\n",
        "        elif (architecture is None and path is None) or (architecture and path):\n",
        "            raise ValueError(\n",
        "                'Please provide either an architecture or a path to pretrained model.')\n",
        "\n",
        "        steganography = torch.load(path, map_location='cpu')\n",
        "        steganography.verbose = verbose\n",
        "\n",
        "        steganography.encoder.upgrade_legacy()\n",
        "        steganography.decoder.upgrade_legacy()\n",
        "        steganography.critic.upgrade_legacy()\n",
        "\n",
        "        steganography.set_device(cuda)\n",
        "        return steganography\n"
      ]
    },
    {
      "cell_type": "code",
      "execution_count": null,
      "metadata": {
        "id": "8esUm8F8O5TJ"
      },
      "outputs": [],
      "source": [
        "# -*- coding: utf-8 -*-\n",
        "\n",
        "import torch\n",
        "from torch import nn\n",
        "\n",
        "\n",
        "class Critic(nn.Module):\n",
        "    \"\"\"\n",
        "    The Critic module takes an image and predicts whether it is a cover\n",
        "    image or a steganographic image (N, 1).\n",
        "\n",
        "    Input: (N, 3, H, W)\n",
        "    Output: (N, 1)\n",
        "    \"\"\"\n",
        "\n",
        "    def _conv2d(self, in_channels, out_channels):\n",
        "        return nn.Conv2d(\n",
        "            in_channels=in_channels,\n",
        "            out_channels=out_channels,\n",
        "            kernel_size=3\n",
        "        )\n",
        "\n",
        "    def _build_models(self):\n",
        "        return nn.Sequential(\n",
        "            self._conv2d(3, self.hidden_size),\n",
        "            nn.LeakyReLU(inplace=True),\n",
        "            nn.BatchNorm2d(self.hidden_size),\n",
        "\n",
        "            self._conv2d(self.hidden_size, self.hidden_size),\n",
        "            nn.LeakyReLU(inplace=True),\n",
        "            nn.BatchNorm2d(self.hidden_size),\n",
        "\n",
        "            self._conv2d(self.hidden_size, self.hidden_size),\n",
        "            nn.LeakyReLU(inplace=True),\n",
        "            nn.BatchNorm2d(self.hidden_size),\n",
        "\n",
        "            self._conv2d(self.hidden_size, 1)\n",
        "        )\n",
        "\n",
        "    def __init__(self, hidden_size):\n",
        "        super().__init__()\n",
        "        self.version = '1'\n",
        "        self.hidden_size = hidden_size\n",
        "        self._models = self._build_models()\n",
        "\n",
        "    def upgrade_legacy(self):\n",
        "        \"\"\"Transform legacy pretrained models to make them usable with new code versions.\"\"\"\n",
        "        # Transform to version 1\n",
        "        if not hasattr(self, 'version'):\n",
        "            self._models = self.layers\n",
        "            self.version = '1'\n",
        "\n",
        "    def forward(self, x):\n",
        "        x = self._models(x)\n",
        "        x = torch.mean(x.view(x.size(0), -1), dim=1)\n",
        "\n",
        "        return x"
      ]
    },
    {
      "cell_type": "code",
      "execution_count": null,
      "metadata": {
        "id": "8WkajFrKPYmV"
      },
      "outputs": [],
      "source": [
        "# -*- coding: utf-8 -*-\n",
        "\n",
        "import torch\n",
        "from torch import nn\n",
        "\n",
        "class Encoder(nn.Module):\n",
        "    \"\"\"\n",
        "    The Encoder module takes an cover image and a data tensor and combines\n",
        "    them into a steganographic image.\n",
        "\n",
        "    Input: (N, 3, H, W), (N, D, H, W)\n",
        "    Output: (N, 3, H, W)\n",
        "    \"\"\"\n",
        "\n",
        "    add_image = False\n",
        "\n",
        "    def _conv2d(self, in_channels, out_channels):\n",
        "        return nn.Conv2d(\n",
        "            in_channels=in_channels,\n",
        "            out_channels=out_channels,\n",
        "            kernel_size=3,\n",
        "            padding=1\n",
        "        )\n",
        "\n",
        "    def _build_models(self):\n",
        "        self.features = nn.Sequential(\n",
        "            self._conv2d(3, self.hidden_size),\n",
        "            nn.LeakyReLU(inplace=True),\n",
        "            nn.BatchNorm2d(self.hidden_size),\n",
        "        )\n",
        "        self.layers = nn.Sequential(\n",
        "            self._conv2d(self.hidden_size + self.data_depth, self.hidden_size),\n",
        "            nn.LeakyReLU(inplace=True),\n",
        "            nn.BatchNorm2d(self.hidden_size),\n",
        "            self._conv2d(self.hidden_size, self.hidden_size),\n",
        "            nn.LeakyReLU(inplace=True),\n",
        "            nn.BatchNorm2d(self.hidden_size),\n",
        "            self._conv2d(self.hidden_size, 3),\n",
        "            nn.Tanh(),\n",
        "        )\n",
        "        return self.features, self.layers\n",
        "\n",
        "    def __init__(self, data_depth, hidden_size):\n",
        "        super().__init__()\n",
        "        self.version = '1'\n",
        "        self.data_depth = data_depth\n",
        "        self.hidden_size = hidden_size\n",
        "        self._models = self._build_models()\n",
        "\n",
        "    def upgrade_legacy(self):\n",
        "        \"\"\"Transform legacy pretrained models to make them usable with new code versions.\"\"\"\n",
        "        # Transform to version 1\n",
        "        if not hasattr(self, 'version'):\n",
        "            self.version = '1'\n",
        "\n",
        "    def forward(self, image, data):\n",
        "        x = self._models[0](image)\n",
        "        x_list = [x]\n",
        "\n",
        "        for layer in self._models[1:]:\n",
        "            x = layer(torch.cat(x_list + [data], dim=1))\n",
        "            x_list.append(x)\n",
        "\n",
        "        if self.add_image:\n",
        "            x = image + x\n",
        "\n",
        "        return x\n"
      ]
    },
    {
      "cell_type": "code",
      "execution_count": null,
      "metadata": {
        "id": "xgwPnuoDgWSi"
      },
      "outputs": [],
      "source": [
        "# -*- coding: utf-8 -*-\n",
        "\n",
        "import torch\n",
        "from torch import nn\n",
        "\n",
        "class Decoder(nn.Module):\n",
        "    \"\"\"\n",
        "    The Decoder module takes an steganographic image and attempts to decode\n",
        "    the embedded data tensor.\n",
        "\n",
        "    Input: (N, 3, H, W)\n",
        "    Output: (N, D, H, W)\n",
        "    \"\"\"\n",
        "\n",
        "    def _conv2d(self, in_channels, out_channels):\n",
        "        return nn.Conv2d(\n",
        "            in_channels=in_channels,\n",
        "            out_channels=out_channels,\n",
        "            kernel_size=3,\n",
        "            padding=1\n",
        "        )\n",
        "\n",
        "    def _build_models(self):\n",
        "        self.layers = nn.Sequential(\n",
        "            self._conv2d(3, self.hidden_size),\n",
        "            nn.LeakyReLU(inplace=True),\n",
        "            nn.BatchNorm2d(self.hidden_size),\n",
        "\n",
        "            self._conv2d(self.hidden_size, self.hidden_size),\n",
        "            nn.LeakyReLU(inplace=True),\n",
        "            nn.BatchNorm2d(self.hidden_size),\n",
        "\n",
        "            self._conv2d(self.hidden_size, self.hidden_size),\n",
        "            nn.LeakyReLU(inplace=True),\n",
        "            nn.BatchNorm2d(self.hidden_size),\n",
        "\n",
        "            self._conv2d(self.hidden_size, self.data_depth)\n",
        "        )\n",
        "\n",
        "        return [self.layers]\n",
        "\n",
        "    def __init__(self, data_depth, hidden_size):\n",
        "        super().__init__()\n",
        "        self.version = '1'\n",
        "        self.data_depth = data_depth\n",
        "        self.hidden_size = hidden_size\n",
        "\n",
        "        self._models = self._build_models()\n",
        "\n",
        "    def upgrade_legacy(self):\n",
        "        \"\"\"Transform legacy pretrained models to make them usable with new code versions.\"\"\"\n",
        "        # Transform to version 1\n",
        "        if not hasattr(self, 'version'):\n",
        "            self._models = [self.layers]\n",
        "\n",
        "            self.version = '1'\n",
        "\n",
        "    def forward(self, x):\n",
        "        x = self._models[0](x)\n",
        "\n",
        "        if len(self._models) > 1:\n",
        "            x_list = [x]\n",
        "            for layer in self._models[1:]:\n",
        "                x = layer(torch.cat(x_list, dim=1))\n",
        "                x_list.append(x)\n",
        "\n",
        "        return x\n"
      ]
    },
    {
      "cell_type": "code",
      "execution_count": null,
      "metadata": {
        "id": "IyODGFCHPp15"
      },
      "outputs": [],
      "source": [
        "# -*- coding: utf-8 -*-\n",
        "\n",
        "import numpy as np\n",
        "import torch\n",
        "import torchvision\n",
        "from torchvision import transforms\n",
        "\n",
        "_DEFAULT_MU = [.5, .5, .5]\n",
        "_DEFAULT_SIGMA = [.5, .5, .5]\n",
        "\n",
        "DEFAULT_TRANSFORM = transforms.Compose([\n",
        "    transforms.RandomHorizontalFlip(),\n",
        "    transforms.RandomCrop(360, pad_if_needed=True),\n",
        "    transforms.ToTensor(),\n",
        "    transforms.Normalize(_DEFAULT_MU, _DEFAULT_SIGMA),\n",
        "])\n",
        "\n",
        "\n",
        "class ImageFolder(torchvision.datasets.ImageFolder):\n",
        "    def __init__(self, path, transform, limit=np.inf):\n",
        "        super().__init__(path, transform=transform)\n",
        "        self.limit = limit\n",
        "\n",
        "    def __len__(self):\n",
        "        length = super().__len__()\n",
        "        return min(length, self.limit)\n",
        "\n",
        "\n",
        "class DataLoader(torch.utils.data.DataLoader):\n",
        "\n",
        "    def __init__(self, path, transform=None, limit=np.inf, shuffle=True,\n",
        "                 num_workers=8, batch_size=4, *args, **kwargs):\n",
        "\n",
        "        if transform is None:\n",
        "            transform = DEFAULT_TRANSFORM\n",
        "\n",
        "        super().__init__(\n",
        "            ImageFolder(path, transform, limit),\n",
        "            batch_size=batch_size,\n",
        "            shuffle=shuffle,\n",
        "            num_workers=num_workers,\n",
        "            *args,\n",
        "            **kwargs\n",
        "        )"
      ]
    },
    {
      "cell_type": "code",
      "execution_count": null,
      "metadata": {
        "id": "ziFJkjaCPyha"
      },
      "outputs": [],
      "source": [
        "# Load the data\n",
        "train = DataLoader('div2k/train/')\n",
        "validation = DataLoader('div2k/val/')"
      ]
    },
    {
      "cell_type": "code",
      "execution_count": null,
      "metadata": {
        "colab": {
          "base_uri": "https://localhost:8080/"
        },
        "id": "VWpCGguI77ob",
        "outputId": "79def67b-72e3-48c1-efe5-95cd8f1c15fb"
      },
      "outputs": [
        {
          "name": "stdout",
          "output_type": "stream",
          "text": [
            "Using CUDA device\n"
          ]
        }
      ],
      "source": [
        "\n",
        "# Create the Steganography instance\n",
        "steganography = Steganography(6, Encoder, Decoder, Critic, hidden_size=32, cuda=True, verbose=True)"
      ]
    },
    {
      "cell_type": "code",
      "execution_count": null,
      "metadata": {
        "colab": {
          "base_uri": "https://localhost:8080/"
        },
        "outputId": "5eb441cb-06df-4176-b85a-aeab13553299",
        "id": "k1Q3ZKetYUN5"
      },
      "outputs": [
        {
          "name": "stdout",
          "output_type": "stream",
          "text": [
            "Epoch 1/100\n"
          ]
        },
        {
          "name": "stderr",
          "output_type": "stream",
          "text": [
            "100%|██████████| 200/200 [00:39<00:00,  5.03it/s]\n",
            "100%|██████████| 200/200 [00:35<00:00,  5.56it/s]\n",
            "100%|██████████| 25/25 [00:05<00:00,  4.97it/s]\n"
          ]
        },
        {
          "name": "stdout",
          "output_type": "stream",
          "text": [
            "Loss: 0.693158745765686\n",
            "Accuracy: 0.500396728515625\n",
            "SSIM: 0.17216193675994873\n",
            "PSNR: 9.150909781455994\n",
            "bpp: 0.0047607421875\n",
            "Epoch 2/100\n"
          ]
        },
        {
          "name": "stderr",
          "output_type": "stream",
          "text": [
            "100%|██████████| 200/200 [00:38<00:00,  5.24it/s]\n",
            "100%|██████████| 200/200 [00:35<00:00,  5.56it/s]\n",
            "100%|██████████| 25/25 [00:04<00:00,  5.14it/s]\n"
          ]
        },
        {
          "name": "stdout",
          "output_type": "stream",
          "text": [
            "Loss: 0.693403959274292\n",
            "Accuracy: 0.4998977482318878\n",
            "SSIM: 0.2692328691482544\n",
            "PSNR: 8.941544890403748\n",
            "bpp: -0.0012270212173461914\n",
            "Epoch 3/100\n"
          ]
        },
        {
          "name": "stderr",
          "output_type": "stream",
          "text": [
            "100%|██████████| 200/200 [00:38<00:00,  5.24it/s]\n",
            "100%|██████████| 200/200 [00:35<00:00,  5.60it/s]\n",
            "100%|██████████| 25/25 [00:04<00:00,  5.17it/s]\n"
          ]
        },
        {
          "name": "stdout",
          "output_type": "stream",
          "text": [
            "Loss: 0.6934561729431152\n",
            "Accuracy: 0.5001829266548157\n",
            "SSIM: 0.24037235975265503\n",
            "PSNR: 10.399284362792969\n",
            "bpp: 0.002195119857788086\n",
            "Epoch 4/100\n"
          ]
        },
        {
          "name": "stderr",
          "output_type": "stream",
          "text": [
            "100%|██████████| 200/200 [00:38<00:00,  5.26it/s]\n",
            "100%|██████████| 200/200 [00:35<00:00,  5.56it/s]\n",
            "100%|██████████| 25/25 [00:04<00:00,  5.11it/s]\n"
          ]
        },
        {
          "name": "stdout",
          "output_type": "stream",
          "text": [
            "Loss: 0.6934414505958557\n",
            "Accuracy: 0.49977752566337585\n",
            "SSIM: 0.25257784128189087\n",
            "PSNR: 10.75162410736084\n",
            "bpp: -0.002669692039489746\n",
            "Epoch 5/100\n"
          ]
        },
        {
          "name": "stderr",
          "output_type": "stream",
          "text": [
            "100%|██████████| 200/200 [00:38<00:00,  5.21it/s]\n",
            "100%|██████████| 200/200 [00:36<00:00,  5.55it/s]\n",
            "100%|██████████| 25/25 [00:04<00:00,  5.16it/s]\n"
          ]
        },
        {
          "name": "stdout",
          "output_type": "stream",
          "text": [
            "Loss: 0.6931661367416382\n",
            "Accuracy: 0.4998086988925934\n",
            "SSIM: 0.41238167881965637\n",
            "PSNR: 11.114250421524048\n",
            "bpp: -0.0022956132888793945\n",
            "Epoch 6/100\n"
          ]
        },
        {
          "name": "stderr",
          "output_type": "stream",
          "text": [
            "100%|██████████| 200/200 [00:38<00:00,  5.20it/s]\n",
            "100%|██████████| 200/200 [00:36<00:00,  5.53it/s]\n",
            "100%|██████████| 25/25 [00:04<00:00,  5.10it/s]\n"
          ]
        },
        {
          "name": "stdout",
          "output_type": "stream",
          "text": [
            "Loss: 0.6931872963905334\n",
            "Accuracy: 0.4997347593307495\n",
            "SSIM: 0.3484012484550476\n",
            "PSNR: 10.65383791923523\n",
            "bpp: -0.0031828880310058594\n",
            "Epoch 7/100\n"
          ]
        },
        {
          "name": "stderr",
          "output_type": "stream",
          "text": [
            "100%|██████████| 200/200 [00:38<00:00,  5.21it/s]\n",
            "100%|██████████| 200/200 [00:35<00:00,  5.56it/s]\n",
            "100%|██████████| 25/25 [00:04<00:00,  5.15it/s]\n"
          ]
        },
        {
          "name": "stdout",
          "output_type": "stream",
          "text": [
            "Loss: 0.693156361579895\n",
            "Accuracy: 0.4997653067111969\n",
            "SSIM: 0.37902921438217163\n",
            "PSNR: 11.386600732803345\n",
            "bpp: -0.002816319465637207\n",
            "Epoch 8/100\n"
          ]
        },
        {
          "name": "stderr",
          "output_type": "stream",
          "text": [
            "100%|██████████| 200/200 [00:38<00:00,  5.22it/s]\n",
            "100%|██████████| 200/200 [00:35<00:00,  5.56it/s]\n",
            "100%|██████████| 25/25 [00:04<00:00,  5.20it/s]\n"
          ]
        },
        {
          "name": "stdout",
          "output_type": "stream",
          "text": [
            "Loss: 0.693163275718689\n",
            "Accuracy: 0.499966561794281\n",
            "SSIM: 0.33167049288749695\n",
            "PSNR: 10.29604196548462\n",
            "bpp: -0.0004012584686279297\n",
            "Epoch 9/100\n"
          ]
        },
        {
          "name": "stderr",
          "output_type": "stream",
          "text": [
            "100%|██████████| 200/200 [00:38<00:00,  5.23it/s]\n",
            "100%|██████████| 200/200 [00:35<00:00,  5.59it/s]\n",
            "100%|██████████| 25/25 [00:04<00:00,  5.10it/s]\n"
          ]
        },
        {
          "name": "stdout",
          "output_type": "stream",
          "text": [
            "Loss: 0.6931642293930054\n",
            "Accuracy: 0.49972254037857056\n",
            "SSIM: 0.3994501531124115\n",
            "PSNR: 11.136918067932129\n",
            "bpp: -0.0033295154571533203\n",
            "Epoch 10/100\n"
          ]
        },
        {
          "name": "stderr",
          "output_type": "stream",
          "text": [
            "100%|██████████| 200/200 [00:38<00:00,  5.24it/s]\n",
            "100%|██████████| 200/200 [00:36<00:00,  5.56it/s]\n",
            "100%|██████████| 25/25 [00:04<00:00,  5.09it/s]\n"
          ]
        },
        {
          "name": "stdout",
          "output_type": "stream",
          "text": [
            "Loss: 0.6931688785552979\n",
            "Accuracy: 0.5002539753913879\n",
            "SSIM: 0.14675866067409515\n",
            "PSNR: 8.895954489707947\n",
            "bpp: 0.0030477046966552734\n",
            "Epoch 11/100\n"
          ]
        },
        {
          "name": "stderr",
          "output_type": "stream",
          "text": [
            "100%|██████████| 200/200 [00:38<00:00,  5.21it/s]\n",
            "100%|██████████| 200/200 [00:36<00:00,  5.52it/s]\n",
            "100%|██████████| 25/25 [00:04<00:00,  5.11it/s]\n"
          ]
        },
        {
          "name": "stdout",
          "output_type": "stream",
          "text": [
            "Loss: 0.6931555271148682\n",
            "Accuracy: 0.5000984072685242\n",
            "SSIM: 0.34789159893989563\n",
            "PSNR: 11.077394485473633\n",
            "bpp: 0.001180887222290039\n",
            "Epoch 12/100\n"
          ]
        },
        {
          "name": "stderr",
          "output_type": "stream",
          "text": [
            "100%|██████████| 200/200 [00:38<00:00,  5.23it/s]\n",
            "100%|██████████| 200/200 [00:35<00:00,  5.57it/s]\n",
            "100%|██████████| 25/25 [00:04<00:00,  5.08it/s]\n"
          ]
        },
        {
          "name": "stdout",
          "output_type": "stream",
          "text": [
            "Loss: 0.6931548714637756\n",
            "Accuracy: 0.5001527070999146\n",
            "SSIM: 0.3616385757923126\n",
            "PSNR: 11.454082727432251\n",
            "bpp: 0.0018324851989746094\n",
            "Epoch 13/100\n"
          ]
        },
        {
          "name": "stderr",
          "output_type": "stream",
          "text": [
            "100%|██████████| 200/200 [00:38<00:00,  5.26it/s]\n",
            "100%|██████████| 200/200 [00:36<00:00,  5.55it/s]\n",
            "100%|██████████| 25/25 [00:04<00:00,  5.11it/s]\n"
          ]
        },
        {
          "name": "stdout",
          "output_type": "stream",
          "text": [
            "Loss: 0.6931494474411011\n",
            "Accuracy: 0.5004532933235168\n",
            "SSIM: 0.2709108293056488\n",
            "PSNR: 11.607893705368042\n",
            "bpp: 0.0054395198822021484\n",
            "Epoch 14/100\n"
          ]
        },
        {
          "name": "stderr",
          "output_type": "stream",
          "text": [
            "100%|██████████| 200/200 [00:38<00:00,  5.23it/s]\n",
            "100%|██████████| 200/200 [00:35<00:00,  5.58it/s]\n",
            "100%|██████████| 25/25 [00:04<00:00,  5.05it/s]\n"
          ]
        },
        {
          "name": "stdout",
          "output_type": "stream",
          "text": [
            "Loss: 0.6931540369987488\n",
            "Accuracy: 0.4996926486492157\n",
            "SSIM: 0.3163210153579712\n",
            "PSNR: 11.017953157424927\n",
            "bpp: -0.003688216209411621\n",
            "Epoch 15/100\n"
          ]
        },
        {
          "name": "stderr",
          "output_type": "stream",
          "text": [
            "100%|██████████| 200/200 [00:38<00:00,  5.19it/s]\n",
            "100%|██████████| 200/200 [00:36<00:00,  5.52it/s]\n",
            "100%|██████████| 25/25 [00:04<00:00,  5.18it/s]\n"
          ]
        },
        {
          "name": "stdout",
          "output_type": "stream",
          "text": [
            "Loss: 0.6931505799293518\n",
            "Accuracy: 0.4997948706150055\n",
            "SSIM: 0.19788186252117157\n",
            "PSNR: 8.584456443786621\n",
            "bpp: -0.002461552619934082\n",
            "Epoch 16/100\n"
          ]
        },
        {
          "name": "stderr",
          "output_type": "stream",
          "text": [
            "100%|██████████| 200/200 [00:38<00:00,  5.19it/s]\n",
            "100%|██████████| 200/200 [00:35<00:00,  5.58it/s]\n",
            "100%|██████████| 25/25 [00:04<00:00,  5.11it/s]\n"
          ]
        },
        {
          "name": "stdout",
          "output_type": "stream",
          "text": [
            "Loss: 0.6931506991386414\n",
            "Accuracy: 0.4999903440475464\n",
            "SSIM: 0.26357394456863403\n",
            "PSNR: 10.438740253448486\n",
            "bpp: -0.00011587142944335938\n",
            "Epoch 17/100\n"
          ]
        },
        {
          "name": "stderr",
          "output_type": "stream",
          "text": [
            "100%|██████████| 200/200 [00:38<00:00,  5.18it/s]\n",
            "100%|██████████| 200/200 [00:36<00:00,  5.50it/s]\n",
            "100%|██████████| 25/25 [00:04<00:00,  5.13it/s]\n"
          ]
        },
        {
          "name": "stdout",
          "output_type": "stream",
          "text": [
            "Loss: 0.6931566596031189\n",
            "Accuracy: 0.5000883936882019\n",
            "SSIM: 0.3573594093322754\n",
            "PSNR: 10.23880124092102\n",
            "bpp: 0.0010607242584228516\n",
            "Epoch 18/100\n"
          ]
        },
        {
          "name": "stderr",
          "output_type": "stream",
          "text": [
            "100%|██████████| 200/200 [00:38<00:00,  5.19it/s]\n",
            "100%|██████████| 200/200 [00:36<00:00,  5.53it/s]\n",
            "100%|██████████| 25/25 [00:04<00:00,  5.22it/s]\n"
          ]
        },
        {
          "name": "stdout",
          "output_type": "stream",
          "text": [
            "Loss: 0.6931490302085876\n",
            "Accuracy: 0.5002661943435669\n",
            "SSIM: 0.28629785776138306\n",
            "PSNR: 10.033199787139893\n",
            "bpp: 0.0031943321228027344\n",
            "Epoch 19/100\n"
          ]
        },
        {
          "name": "stderr",
          "output_type": "stream",
          "text": [
            "100%|██████████| 200/200 [00:38<00:00,  5.21it/s]\n",
            "100%|██████████| 200/200 [00:36<00:00,  5.53it/s]\n",
            "100%|██████████| 25/25 [00:04<00:00,  5.21it/s]\n"
          ]
        },
        {
          "name": "stdout",
          "output_type": "stream",
          "text": [
            "Loss: 0.6931499242782593\n",
            "Accuracy: 0.5002961158752441\n",
            "SSIM: 0.2504144012928009\n",
            "PSNR: 9.482490420341492\n",
            "bpp: 0.0035533905029296875\n",
            "Epoch 20/100\n"
          ]
        },
        {
          "name": "stderr",
          "output_type": "stream",
          "text": [
            "100%|██████████| 200/200 [00:38<00:00,  5.21it/s]\n",
            "100%|██████████| 200/200 [00:36<00:00,  5.52it/s]\n",
            "100%|██████████| 25/25 [00:04<00:00,  5.21it/s]\n"
          ]
        },
        {
          "name": "stdout",
          "output_type": "stream",
          "text": [
            "Loss: 0.6931502223014832\n",
            "Accuracy: 0.5003125071525574\n",
            "SSIM: 0.2813316285610199\n",
            "PSNR: 9.788532853126526\n",
            "bpp: 0.0037500858306884766\n",
            "Epoch 21/100\n"
          ]
        },
        {
          "name": "stderr",
          "output_type": "stream",
          "text": [
            "100%|██████████| 200/200 [00:38<00:00,  5.14it/s]\n",
            "100%|██████████| 200/200 [00:36<00:00,  5.50it/s]\n",
            "100%|██████████| 25/25 [00:04<00:00,  5.08it/s]\n"
          ]
        },
        {
          "name": "stdout",
          "output_type": "stream",
          "text": [
            "Loss: 0.6931529641151428\n",
            "Accuracy: 0.500019907951355\n",
            "SSIM: 0.3763717710971832\n",
            "PSNR: 11.212002038955688\n",
            "bpp: 0.00023889541625976562\n",
            "Epoch 22/100\n"
          ]
        },
        {
          "name": "stderr",
          "output_type": "stream",
          "text": [
            "100%|██████████| 200/200 [00:38<00:00,  5.21it/s]\n",
            "100%|██████████| 200/200 [00:36<00:00,  5.52it/s]\n",
            "100%|██████████| 25/25 [00:04<00:00,  5.17it/s]\n"
          ]
        },
        {
          "name": "stdout",
          "output_type": "stream",
          "text": [
            "Loss: 0.693157970905304\n",
            "Accuracy: 0.4998714029788971\n",
            "SSIM: 0.4104316234588623\n",
            "PSNR: 11.547853946685791\n",
            "bpp: -0.0015431642532348633\n",
            "Epoch 23/100\n"
          ]
        },
        {
          "name": "stderr",
          "output_type": "stream",
          "text": [
            "100%|██████████| 200/200 [00:38<00:00,  5.19it/s]\n",
            "100%|██████████| 200/200 [00:36<00:00,  5.55it/s]\n",
            "100%|██████████| 25/25 [00:04<00:00,  5.17it/s]\n"
          ]
        },
        {
          "name": "stdout",
          "output_type": "stream",
          "text": [
            "Loss: 0.6931502223014832\n",
            "Accuracy: 0.49995049834251404\n",
            "SSIM: 0.2637180685997009\n",
            "PSNR: 10.587738752365112\n",
            "bpp: -0.000594019889831543\n",
            "Epoch 24/100\n"
          ]
        },
        {
          "name": "stderr",
          "output_type": "stream",
          "text": [
            "100%|██████████| 200/200 [00:38<00:00,  5.21it/s]\n",
            "100%|██████████| 200/200 [00:36<00:00,  5.53it/s]\n",
            "100%|██████████| 25/25 [00:04<00:00,  5.13it/s]\n"
          ]
        },
        {
          "name": "stdout",
          "output_type": "stream",
          "text": [
            "Loss: 0.6931502223014832\n",
            "Accuracy: 0.5000984072685242\n",
            "SSIM: 0.6138391494750977\n",
            "PSNR: 14.428049325942993\n",
            "bpp: 0.001180887222290039\n",
            "Epoch 25/100\n"
          ]
        },
        {
          "name": "stderr",
          "output_type": "stream",
          "text": [
            "100%|██████████| 200/200 [00:38<00:00,  5.19it/s]\n",
            "100%|██████████| 200/200 [00:36<00:00,  5.55it/s]\n",
            "100%|██████████| 25/25 [00:04<00:00,  5.05it/s]\n"
          ]
        },
        {
          "name": "stdout",
          "output_type": "stream",
          "text": [
            "Loss: 0.6931536793708801\n",
            "Accuracy: 0.4997987449169159\n",
            "SSIM: 0.40293049812316895\n",
            "PSNR: 10.746216773986816\n",
            "bpp: -0.0024150609970092773\n",
            "Epoch 26/100\n"
          ]
        },
        {
          "name": "stderr",
          "output_type": "stream",
          "text": [
            "100%|██████████| 200/200 [00:38<00:00,  5.24it/s]\n",
            "100%|██████████| 200/200 [00:36<00:00,  5.54it/s]\n",
            "100%|██████████| 25/25 [00:05<00:00,  5.00it/s]\n"
          ]
        },
        {
          "name": "stdout",
          "output_type": "stream",
          "text": [
            "Loss: 0.6931623816490173\n",
            "Accuracy: 0.5000507831573486\n",
            "SSIM: 0.37402865290641785\n",
            "PSNR: 9.77954089641571\n",
            "bpp: 0.0006093978881835938\n",
            "Epoch 27/100\n"
          ]
        },
        {
          "name": "stderr",
          "output_type": "stream",
          "text": [
            "100%|██████████| 200/200 [00:38<00:00,  5.22it/s]\n",
            "100%|██████████| 200/200 [00:36<00:00,  5.49it/s]\n",
            "100%|██████████| 25/25 [00:04<00:00,  5.17it/s]\n"
          ]
        },
        {
          "name": "stdout",
          "output_type": "stream",
          "text": [
            "Loss: 0.6931515336036682\n",
            "Accuracy: 0.4999871253967285\n",
            "SSIM: 0.40245363116264343\n",
            "PSNR: 11.640081405639648\n",
            "bpp: -0.0001544952392578125\n",
            "Epoch 28/100\n"
          ]
        },
        {
          "name": "stderr",
          "output_type": "stream",
          "text": [
            "100%|██████████| 200/200 [00:38<00:00,  5.23it/s]\n",
            "100%|██████████| 200/200 [00:36<00:00,  5.54it/s]\n",
            "100%|██████████| 25/25 [00:04<00:00,  5.19it/s]\n"
          ]
        },
        {
          "name": "stdout",
          "output_type": "stream",
          "text": [
            "Loss: 0.6931596994400024\n",
            "Accuracy: 0.5005976557731628\n",
            "SSIM: 0.4007032811641693\n",
            "PSNR: 11.013569831848145\n",
            "bpp: 0.0071718692779541016\n",
            "Epoch 29/100\n"
          ]
        },
        {
          "name": "stderr",
          "output_type": "stream",
          "text": [
            "100%|██████████| 200/200 [00:38<00:00,  5.22it/s]\n",
            "100%|██████████| 200/200 [00:36<00:00,  5.52it/s]\n",
            "100%|██████████| 25/25 [00:04<00:00,  5.03it/s]\n"
          ]
        },
        {
          "name": "stdout",
          "output_type": "stream",
          "text": [
            "Loss: 0.6931593418121338\n",
            "Accuracy: 0.4996611475944519\n",
            "SSIM: 0.42355966567993164\n",
            "PSNR: 11.640400886535645\n",
            "bpp: -0.0040662288665771484\n",
            "Epoch 30/100\n"
          ]
        },
        {
          "name": "stderr",
          "output_type": "stream",
          "text": [
            "100%|██████████| 200/200 [00:38<00:00,  5.24it/s]\n",
            "100%|██████████| 200/200 [00:36<00:00,  5.53it/s]\n",
            "100%|██████████| 25/25 [00:04<00:00,  5.09it/s]\n"
          ]
        },
        {
          "name": "stdout",
          "output_type": "stream",
          "text": [
            "Loss: 0.6931523084640503\n",
            "Accuracy: 0.49996110796928406\n",
            "SSIM: 0.423555850982666\n",
            "PSNR: 11.981250047683716\n",
            "bpp: -0.0004667043685913086\n",
            "Epoch 31/100\n"
          ]
        },
        {
          "name": "stderr",
          "output_type": "stream",
          "text": [
            "100%|██████████| 200/200 [00:38<00:00,  5.23it/s]\n",
            "100%|██████████| 200/200 [00:36<00:00,  5.53it/s]\n",
            "100%|██████████| 25/25 [00:04<00:00,  5.13it/s]\n"
          ]
        },
        {
          "name": "stdout",
          "output_type": "stream",
          "text": [
            "Loss: 0.6931562423706055\n",
            "Accuracy: 0.5003362894058228\n",
            "SSIM: 0.2500593960285187\n",
            "PSNR: 9.235894083976746\n",
            "bpp: 0.004035472869873047\n",
            "Epoch 32/100\n"
          ]
        },
        {
          "name": "stderr",
          "output_type": "stream",
          "text": [
            "100%|██████████| 200/200 [00:38<00:00,  5.23it/s]\n",
            "100%|██████████| 200/200 [00:36<00:00,  5.53it/s]\n",
            "100%|██████████| 25/25 [00:05<00:00,  4.97it/s]\n"
          ]
        },
        {
          "name": "stdout",
          "output_type": "stream",
          "text": [
            "Loss: 0.6931570172309875\n",
            "Accuracy: 0.5001694560050964\n",
            "SSIM: 0.2845495045185089\n",
            "PSNR: 8.019918203353882\n",
            "bpp: 0.0020334720611572266\n",
            "Epoch 33/100\n"
          ]
        },
        {
          "name": "stderr",
          "output_type": "stream",
          "text": [
            "100%|██████████| 200/200 [00:38<00:00,  5.19it/s]\n",
            "100%|██████████| 200/200 [00:36<00:00,  5.55it/s]\n",
            "100%|██████████| 25/25 [00:04<00:00,  5.04it/s]\n"
          ]
        },
        {
          "name": "stdout",
          "output_type": "stream",
          "text": [
            "Loss: 0.6948218941688538\n",
            "Accuracy: 0.49978941679000854\n",
            "SSIM: 0.26870226860046387\n",
            "PSNR: 10.454597473144531\n",
            "bpp: -0.002526998519897461\n",
            "Epoch 34/100\n"
          ]
        },
        {
          "name": "stderr",
          "output_type": "stream",
          "text": [
            "100%|██████████| 200/200 [00:38<00:00,  5.21it/s]\n",
            "100%|██████████| 200/200 [00:36<00:00,  5.52it/s]\n",
            "100%|██████████| 25/25 [00:04<00:00,  5.15it/s]\n"
          ]
        },
        {
          "name": "stdout",
          "output_type": "stream",
          "text": [
            "Loss: 0.6936102509498596\n",
            "Accuracy: 0.4998408555984497\n",
            "SSIM: 0.25650978088378906\n",
            "PSNR: 10.57544469833374\n",
            "bpp: -0.0019097328186035156\n",
            "Epoch 35/100\n"
          ]
        },
        {
          "name": "stderr",
          "output_type": "stream",
          "text": [
            "100%|██████████| 200/200 [00:38<00:00,  5.17it/s]\n",
            "100%|██████████| 200/200 [00:36<00:00,  5.54it/s]\n",
            "100%|██████████| 25/25 [00:04<00:00,  5.09it/s]\n"
          ]
        },
        {
          "name": "stdout",
          "output_type": "stream",
          "text": [
            "Loss: 0.6933422684669495\n",
            "Accuracy: 0.5002970695495605\n",
            "SSIM: 0.3851754069328308\n",
            "PSNR: 11.15748643875122\n",
            "bpp: 0.0035648345947265625\n",
            "Epoch 36/100\n"
          ]
        },
        {
          "name": "stderr",
          "output_type": "stream",
          "text": [
            "100%|██████████| 200/200 [00:38<00:00,  5.23it/s]\n",
            "100%|██████████| 200/200 [00:36<00:00,  5.52it/s]\n",
            "100%|██████████| 25/25 [00:04<00:00,  5.09it/s]\n"
          ]
        },
        {
          "name": "stdout",
          "output_type": "stream",
          "text": [
            "Loss: 0.6932469010353088\n",
            "Accuracy: 0.49988168478012085\n",
            "SSIM: 0.2868090271949768\n",
            "PSNR: 9.8234623670578\n",
            "bpp: -0.0014197826385498047\n",
            "Epoch 37/100\n"
          ]
        },
        {
          "name": "stderr",
          "output_type": "stream",
          "text": [
            "100%|██████████| 200/200 [00:38<00:00,  5.22it/s]\n",
            "100%|██████████| 200/200 [00:35<00:00,  5.57it/s]\n",
            "100%|██████████| 25/25 [00:04<00:00,  5.09it/s]\n"
          ]
        },
        {
          "name": "stdout",
          "output_type": "stream",
          "text": [
            "Loss: 0.6932047605514526\n",
            "Accuracy: 0.5000166893005371\n",
            "SSIM: 0.3616569936275482\n",
            "PSNR: 10.743589401245117\n",
            "bpp: 0.0002002716064453125\n",
            "Epoch 38/100\n"
          ]
        },
        {
          "name": "stderr",
          "output_type": "stream",
          "text": [
            "100%|██████████| 200/200 [00:38<00:00,  5.23it/s]\n",
            "100%|██████████| 200/200 [00:36<00:00,  5.54it/s]\n",
            "100%|██████████| 25/25 [00:04<00:00,  5.11it/s]\n"
          ]
        },
        {
          "name": "stdout",
          "output_type": "stream",
          "text": [
            "Loss: 0.6931657195091248\n",
            "Accuracy: 0.5001266598701477\n",
            "SSIM: 0.4932631552219391\n",
            "PSNR: 11.484031677246094\n",
            "bpp: 0.001519918441772461\n",
            "Epoch 39/100\n"
          ]
        },
        {
          "name": "stderr",
          "output_type": "stream",
          "text": [
            "100%|██████████| 200/200 [00:38<00:00,  5.19it/s]\n",
            "100%|██████████| 200/200 [00:36<00:00,  5.53it/s]\n",
            "100%|██████████| 25/25 [00:04<00:00,  5.03it/s]\n"
          ]
        },
        {
          "name": "stdout",
          "output_type": "stream",
          "text": [
            "Loss: 0.6931737065315247\n",
            "Accuracy: 0.5000414848327637\n",
            "SSIM: 0.4556542932987213\n",
            "PSNR: 11.325619220733643\n",
            "bpp: 0.0004978179931640625\n",
            "Epoch 40/100\n"
          ]
        },
        {
          "name": "stderr",
          "output_type": "stream",
          "text": [
            "100%|██████████| 200/200 [00:38<00:00,  5.19it/s]\n",
            "100%|██████████| 200/200 [00:36<00:00,  5.51it/s]\n",
            "100%|██████████| 25/25 [00:04<00:00,  5.19it/s]\n"
          ]
        },
        {
          "name": "stdout",
          "output_type": "stream",
          "text": [
            "Loss: 0.6931584477424622\n",
            "Accuracy: 0.500199019908905\n",
            "SSIM: 0.380083829164505\n",
            "PSNR: 10.302716493606567\n",
            "bpp: 0.0023882389068603516\n",
            "Epoch 41/100\n"
          ]
        },
        {
          "name": "stderr",
          "output_type": "stream",
          "text": [
            "100%|██████████| 200/200 [00:38<00:00,  5.20it/s]\n",
            "100%|██████████| 200/200 [00:36<00:00,  5.54it/s]\n",
            "100%|██████████| 25/25 [00:04<00:00,  5.01it/s]\n"
          ]
        },
        {
          "name": "stdout",
          "output_type": "stream",
          "text": [
            "Loss: 0.6931763291358948\n",
            "Accuracy: 0.5000035166740417\n",
            "SSIM: 0.43419185280799866\n",
            "PSNR: 10.821999311447144\n",
            "bpp: 4.220008850097656e-05\n",
            "Epoch 42/100\n"
          ]
        },
        {
          "name": "stderr",
          "output_type": "stream",
          "text": [
            "100%|██████████| 200/200 [00:38<00:00,  5.17it/s]\n",
            "100%|██████████| 200/200 [00:36<00:00,  5.50it/s]\n",
            "100%|██████████| 25/25 [00:04<00:00,  5.08it/s]\n"
          ]
        },
        {
          "name": "stdout",
          "output_type": "stream",
          "text": [
            "Loss: 0.6931848526000977\n",
            "Accuracy: 0.5004186034202576\n",
            "SSIM: 0.2952457070350647\n",
            "PSNR: 9.390676617622375\n",
            "bpp: 0.00502324104309082\n",
            "Epoch 43/100\n"
          ]
        },
        {
          "name": "stderr",
          "output_type": "stream",
          "text": [
            "100%|██████████| 200/200 [00:38<00:00,  5.16it/s]\n",
            "100%|██████████| 200/200 [00:36<00:00,  5.47it/s]\n",
            "100%|██████████| 25/25 [00:05<00:00,  4.94it/s]\n"
          ]
        },
        {
          "name": "stdout",
          "output_type": "stream",
          "text": [
            "Loss: 0.6931861042976379\n",
            "Accuracy: 0.4998752474784851\n",
            "SSIM: 0.2973652780056\n",
            "PSNR: 9.889374375343323\n",
            "bpp: -0.001497030258178711\n",
            "Epoch 44/100\n"
          ]
        },
        {
          "name": "stderr",
          "output_type": "stream",
          "text": [
            "100%|██████████| 200/200 [00:38<00:00,  5.21it/s]\n",
            "100%|██████████| 200/200 [00:36<00:00,  5.46it/s]\n",
            "100%|██████████| 25/25 [00:04<00:00,  5.10it/s]\n"
          ]
        },
        {
          "name": "stdout",
          "output_type": "stream",
          "text": [
            "Loss: 0.6932274699211121\n",
            "Accuracy: 0.49994727969169617\n",
            "SSIM: 0.31558576226234436\n",
            "PSNR: 12.382925748825073\n",
            "bpp: -0.0006326436996459961\n",
            "Epoch 45/100\n"
          ]
        },
        {
          "name": "stderr",
          "output_type": "stream",
          "text": [
            "100%|██████████| 200/200 [00:38<00:00,  5.22it/s]\n",
            "100%|██████████| 200/200 [00:36<00:00,  5.52it/s]\n",
            "100%|██████████| 25/25 [00:04<00:00,  5.10it/s]\n"
          ]
        },
        {
          "name": "stdout",
          "output_type": "stream",
          "text": [
            "Loss: 0.6933099627494812\n",
            "Accuracy: 0.49983280897140503\n",
            "SSIM: 0.4635647237300873\n",
            "PSNR: 11.900622844696045\n",
            "bpp: -0.0020062923431396484\n",
            "Epoch 46/100\n"
          ]
        },
        {
          "name": "stderr",
          "output_type": "stream",
          "text": [
            "100%|██████████| 200/200 [00:38<00:00,  5.23it/s]\n",
            "100%|██████████| 200/200 [00:36<00:00,  5.50it/s]\n",
            "100%|██████████| 25/25 [00:05<00:00,  4.93it/s]\n"
          ]
        },
        {
          "name": "stdout",
          "output_type": "stream",
          "text": [
            "Loss: 0.6931960582733154\n",
            "Accuracy: 0.5001327991485596\n",
            "SSIM: 0.31426331400871277\n",
            "PSNR: 11.120136976242065\n",
            "bpp: 0.0015935897827148438\n",
            "Epoch 47/100\n"
          ]
        },
        {
          "name": "stderr",
          "output_type": "stream",
          "text": [
            "100%|██████████| 200/200 [00:38<00:00,  5.18it/s]\n",
            "100%|██████████| 200/200 [00:36<00:00,  5.50it/s]\n",
            "100%|██████████| 25/25 [00:04<00:00,  5.02it/s]\n"
          ]
        },
        {
          "name": "stdout",
          "output_type": "stream",
          "text": [
            "Loss: 0.6931824088096619\n",
            "Accuracy: 0.5000816583633423\n",
            "SSIM: 0.34124958515167236\n",
            "PSNR: 9.969338178634644\n",
            "bpp: 0.0009799003601074219\n",
            "Epoch 48/100\n"
          ]
        },
        {
          "name": "stderr",
          "output_type": "stream",
          "text": [
            "100%|██████████| 200/200 [00:38<00:00,  5.18it/s]\n",
            "100%|██████████| 200/200 [00:36<00:00,  5.49it/s]\n",
            "100%|██████████| 25/25 [00:05<00:00,  4.96it/s]\n"
          ]
        },
        {
          "name": "stdout",
          "output_type": "stream",
          "text": [
            "Loss: 0.6931903958320618\n",
            "Accuracy: 0.4998868405818939\n",
            "SSIM: 0.47855302691459656\n",
            "PSNR: 12.20474123954773\n",
            "bpp: -0.0013579130172729492\n",
            "Epoch 49/100\n"
          ]
        },
        {
          "name": "stderr",
          "output_type": "stream",
          "text": [
            "100%|██████████| 200/200 [00:38<00:00,  5.18it/s]\n",
            "100%|██████████| 200/200 [00:36<00:00,  5.50it/s]\n",
            "100%|██████████| 25/25 [00:04<00:00,  5.04it/s]\n"
          ]
        },
        {
          "name": "stdout",
          "output_type": "stream",
          "text": [
            "Loss: 0.6931909322738647\n",
            "Accuracy: 0.5000713467597961\n",
            "SSIM: 0.3402499258518219\n",
            "PSNR: 10.521759986877441\n",
            "bpp: 0.0008561611175537109\n",
            "Epoch 50/100\n"
          ]
        },
        {
          "name": "stderr",
          "output_type": "stream",
          "text": [
            "100%|██████████| 200/200 [00:38<00:00,  5.16it/s]\n",
            "100%|██████████| 200/200 [00:36<00:00,  5.52it/s]\n",
            "100%|██████████| 25/25 [00:04<00:00,  5.11it/s]\n"
          ]
        },
        {
          "name": "stdout",
          "output_type": "stream",
          "text": [
            "Loss: 0.6931954622268677\n",
            "Accuracy: 0.4999479055404663\n",
            "SSIM: 0.354428768157959\n",
            "PSNR: 10.856480598449707\n",
            "bpp: -0.0006251335144042969\n",
            "Epoch 51/100\n"
          ]
        },
        {
          "name": "stderr",
          "output_type": "stream",
          "text": [
            "100%|██████████| 200/200 [00:38<00:00,  5.19it/s]\n",
            "100%|██████████| 200/200 [00:36<00:00,  5.49it/s]\n",
            "100%|██████████| 25/25 [00:04<00:00,  5.06it/s]\n"
          ]
        },
        {
          "name": "stdout",
          "output_type": "stream",
          "text": [
            "Loss: 0.6931926608085632\n",
            "Accuracy: 0.5000096559524536\n",
            "SSIM: 0.4060021638870239\n",
            "PSNR: 11.465007066726685\n",
            "bpp: 0.00011587142944335938\n",
            "Epoch 52/100\n"
          ]
        },
        {
          "name": "stderr",
          "output_type": "stream",
          "text": [
            "100%|██████████| 200/200 [00:38<00:00,  5.17it/s]\n",
            "100%|██████████| 200/200 [00:36<00:00,  5.50it/s]\n",
            "100%|██████████| 25/25 [00:04<00:00,  5.06it/s]\n"
          ]
        },
        {
          "name": "stdout",
          "output_type": "stream",
          "text": [
            "Loss: 0.6933527588844299\n",
            "Accuracy: 0.5000450015068054\n",
            "SSIM: 0.35635337233543396\n",
            "PSNR: 12.387585639953613\n",
            "bpp: 0.0005400180816650391\n",
            "Epoch 53/100\n"
          ]
        },
        {
          "name": "stderr",
          "output_type": "stream",
          "text": [
            "100%|██████████| 200/200 [00:38<00:00,  5.18it/s]\n",
            "100%|██████████| 200/200 [00:36<00:00,  5.50it/s]\n",
            "100%|██████████| 25/25 [00:04<00:00,  5.09it/s]\n"
          ]
        },
        {
          "name": "stdout",
          "output_type": "stream",
          "text": [
            "Loss: 0.6931973099708557\n",
            "Accuracy: 0.5001173615455627\n",
            "SSIM: 0.2271910011768341\n",
            "PSNR: 10.284547805786133\n",
            "bpp: 0.0014083385467529297\n",
            "Epoch 54/100\n"
          ]
        },
        {
          "name": "stderr",
          "output_type": "stream",
          "text": [
            "100%|██████████| 200/200 [00:38<00:00,  5.16it/s]\n",
            "100%|██████████| 200/200 [00:36<00:00,  5.48it/s]\n",
            "100%|██████████| 25/25 [00:05<00:00,  4.99it/s]\n"
          ]
        },
        {
          "name": "stdout",
          "output_type": "stream",
          "text": [
            "Loss: 0.6932564973831177\n",
            "Accuracy: 0.5004227757453918\n",
            "SSIM: 0.3147675096988678\n",
            "PSNR: 10.163588523864746\n",
            "bpp: 0.0050733089447021484\n",
            "Epoch 55/100\n"
          ]
        },
        {
          "name": "stderr",
          "output_type": "stream",
          "text": [
            "100%|██████████| 200/200 [00:38<00:00,  5.18it/s]\n",
            "100%|██████████| 200/200 [00:36<00:00,  5.50it/s]\n",
            "100%|██████████| 25/25 [00:04<00:00,  5.04it/s]\n"
          ]
        },
        {
          "name": "stdout",
          "output_type": "stream",
          "text": [
            "Loss: 0.6931976675987244\n",
            "Accuracy: 0.4997543692588806\n",
            "SSIM: 0.2653140723705292\n",
            "PSNR: 10.870757102966309\n",
            "bpp: -0.002947568893432617\n",
            "Epoch 56/100\n"
          ]
        },
        {
          "name": "stderr",
          "output_type": "stream",
          "text": [
            "100%|██████████| 200/200 [00:38<00:00,  5.21it/s]\n",
            "100%|██████████| 200/200 [00:36<00:00,  5.51it/s]\n",
            "100%|██████████| 25/25 [00:04<00:00,  5.16it/s]\n"
          ]
        },
        {
          "name": "stdout",
          "output_type": "stream",
          "text": [
            "Loss: 0.6931564807891846\n",
            "Accuracy: 0.4998881220817566\n",
            "SSIM: 0.46873360872268677\n",
            "PSNR: 11.201591491699219\n",
            "bpp: -0.0013425350189208984\n",
            "Epoch 57/100\n"
          ]
        },
        {
          "name": "stderr",
          "output_type": "stream",
          "text": [
            "100%|██████████| 200/200 [00:38<00:00,  5.17it/s]\n",
            "100%|██████████| 200/200 [00:36<00:00,  5.49it/s]\n",
            "100%|██████████| 25/25 [00:04<00:00,  5.08it/s]\n"
          ]
        },
        {
          "name": "stdout",
          "output_type": "stream",
          "text": [
            "Loss: 0.6931828856468201\n",
            "Accuracy: 0.49998101592063904\n",
            "SSIM: 0.45635685324668884\n",
            "PSNR: 10.957013368606567\n",
            "bpp: -0.00022780895233154297\n",
            "Epoch 58/100\n"
          ]
        },
        {
          "name": "stderr",
          "output_type": "stream",
          "text": [
            "100%|██████████| 200/200 [00:38<00:00,  5.18it/s]\n",
            "100%|██████████| 200/200 [00:36<00:00,  5.55it/s]\n",
            "100%|██████████| 25/25 [00:05<00:00,  4.92it/s]\n"
          ]
        },
        {
          "name": "stdout",
          "output_type": "stream",
          "text": [
            "Loss: 0.6931999325752258\n",
            "Accuracy: 0.5003047585487366\n",
            "SSIM: 0.40257367491722107\n",
            "PSNR: 10.472102165222168\n",
            "bpp: 0.003657102584838867\n",
            "Epoch 59/100\n"
          ]
        },
        {
          "name": "stderr",
          "output_type": "stream",
          "text": [
            "100%|██████████| 200/200 [00:38<00:00,  5.16it/s]\n",
            "100%|██████████| 200/200 [00:36<00:00,  5.48it/s]\n",
            "100%|██████████| 25/25 [00:05<00:00,  4.98it/s]\n"
          ]
        },
        {
          "name": "stdout",
          "output_type": "stream",
          "text": [
            "Loss: 0.6931614279747009\n",
            "Accuracy: 0.5001983642578125\n",
            "SSIM: 0.310224711894989\n",
            "PSNR: 10.56054949760437\n",
            "bpp: 0.00238037109375\n",
            "Epoch 60/100\n"
          ]
        },
        {
          "name": "stderr",
          "output_type": "stream",
          "text": [
            "100%|██████████| 200/200 [00:38<00:00,  5.17it/s]\n",
            "100%|██████████| 200/200 [00:36<00:00,  5.49it/s]\n",
            "100%|██████████| 25/25 [00:05<00:00,  4.95it/s]\n"
          ]
        },
        {
          "name": "stdout",
          "output_type": "stream",
          "text": [
            "Loss: 0.6931809186935425\n",
            "Accuracy: 0.5001254081726074\n",
            "SSIM: 0.31941455602645874\n",
            "PSNR: 11.15664005279541\n",
            "bpp: 0.0015048980712890625\n",
            "Epoch 61/100\n"
          ]
        },
        {
          "name": "stderr",
          "output_type": "stream",
          "text": [
            "100%|██████████| 200/200 [00:38<00:00,  5.18it/s]\n",
            "100%|██████████| 200/200 [00:36<00:00,  5.49it/s]\n",
            "100%|██████████| 25/25 [00:04<00:00,  5.03it/s]\n"
          ]
        },
        {
          "name": "stdout",
          "output_type": "stream",
          "text": [
            "Loss: 0.6931856274604797\n",
            "Accuracy: 0.49981287121772766\n",
            "SSIM: 0.4936344623565674\n",
            "PSNR: 9.860577583312988\n",
            "bpp: -0.0022455453872680664\n",
            "Epoch 62/100\n"
          ]
        },
        {
          "name": "stderr",
          "output_type": "stream",
          "text": [
            "100%|██████████| 200/200 [00:38<00:00,  5.17it/s]\n",
            "100%|██████████| 200/200 [00:36<00:00,  5.50it/s]\n",
            "100%|██████████| 25/25 [00:05<00:00,  4.94it/s]\n"
          ]
        },
        {
          "name": "stdout",
          "output_type": "stream",
          "text": [
            "Loss: 0.6931979060173035\n",
            "Accuracy: 0.5000665783882141\n",
            "SSIM: 0.3427858054637909\n",
            "PSNR: 12.250384092330933\n",
            "bpp: 0.0007989406585693359\n",
            "Epoch 63/100\n"
          ]
        },
        {
          "name": "stderr",
          "output_type": "stream",
          "text": [
            "100%|██████████| 200/200 [00:39<00:00,  5.13it/s]\n",
            "100%|██████████| 200/200 [00:36<00:00,  5.48it/s]\n",
            "100%|██████████| 25/25 [00:05<00:00,  4.98it/s]\n"
          ]
        },
        {
          "name": "stdout",
          "output_type": "stream",
          "text": [
            "Loss: 0.6931520104408264\n",
            "Accuracy: 0.5000202655792236\n",
            "SSIM: 0.1844492256641388\n",
            "PSNR: 10.231850147247314\n",
            "bpp: 0.00024318695068359375\n",
            "Epoch 64/100\n"
          ]
        },
        {
          "name": "stderr",
          "output_type": "stream",
          "text": [
            "100%|██████████| 200/200 [00:39<00:00,  5.12it/s]\n",
            "100%|██████████| 200/200 [00:36<00:00,  5.46it/s]\n",
            "100%|██████████| 25/25 [00:05<00:00,  4.83it/s]\n"
          ]
        },
        {
          "name": "stdout",
          "output_type": "stream",
          "text": [
            "Loss: 0.6931506991386414\n",
            "Accuracy: 0.5001047849655151\n",
            "SSIM: 0.38292911648750305\n",
            "PSNR: 10.0669264793396\n",
            "bpp: 0.0012574195861816406\n",
            "Epoch 65/100\n"
          ]
        },
        {
          "name": "stderr",
          "output_type": "stream",
          "text": [
            "100%|██████████| 200/200 [00:39<00:00,  5.07it/s]\n",
            "100%|██████████| 200/200 [00:36<00:00,  5.47it/s]\n",
            "100%|██████████| 25/25 [00:05<00:00,  4.80it/s]\n"
          ]
        },
        {
          "name": "stdout",
          "output_type": "stream",
          "text": [
            "Loss: 0.6931554079055786\n",
            "Accuracy: 0.5002050995826721\n",
            "SSIM: 0.546143114566803\n",
            "PSNR: 13.043490648269653\n",
            "bpp: 0.0024611949920654297\n",
            "Epoch 66/100\n"
          ]
        },
        {
          "name": "stderr",
          "output_type": "stream",
          "text": [
            "100%|██████████| 200/200 [00:39<00:00,  5.12it/s]\n",
            "100%|██████████| 200/200 [00:36<00:00,  5.47it/s]\n",
            "100%|██████████| 25/25 [00:05<00:00,  4.87it/s]\n"
          ]
        },
        {
          "name": "stdout",
          "output_type": "stream",
          "text": [
            "Loss: 0.6931552290916443\n",
            "Accuracy: 0.5001086592674255\n",
            "SSIM: 0.32867231965065\n",
            "PSNR: 10.705939531326294\n",
            "bpp: 0.0013039112091064453\n",
            "Epoch 67/100\n"
          ]
        },
        {
          "name": "stderr",
          "output_type": "stream",
          "text": [
            "100%|██████████| 200/200 [00:38<00:00,  5.19it/s]\n",
            "100%|██████████| 200/200 [00:36<00:00,  5.46it/s]\n",
            "100%|██████████| 25/25 [00:05<00:00,  4.88it/s]\n"
          ]
        },
        {
          "name": "stdout",
          "output_type": "stream",
          "text": [
            "Loss: 0.6931596994400024\n",
            "Accuracy: 0.49983441829681396\n",
            "SSIM: 0.35356593132019043\n",
            "PSNR: 10.233216285705566\n",
            "bpp: -0.001986980438232422\n",
            "Epoch 68/100\n"
          ]
        },
        {
          "name": "stderr",
          "output_type": "stream",
          "text": [
            "100%|██████████| 200/200 [00:38<00:00,  5.14it/s]\n",
            "100%|██████████| 200/200 [00:36<00:00,  5.49it/s]\n",
            "100%|██████████| 25/25 [00:05<00:00,  4.98it/s]\n"
          ]
        },
        {
          "name": "stdout",
          "output_type": "stream",
          "text": [
            "Loss: 0.693149745464325\n",
            "Accuracy: 0.5002549290657043\n",
            "SSIM: 0.4658198654651642\n",
            "PSNR: 12.020385265350342\n",
            "bpp: 0.0030591487884521484\n",
            "Epoch 69/100\n"
          ]
        },
        {
          "name": "stderr",
          "output_type": "stream",
          "text": [
            "100%|██████████| 200/200 [00:38<00:00,  5.15it/s]\n",
            "100%|██████████| 200/200 [00:37<00:00,  5.40it/s]\n",
            "100%|██████████| 25/25 [00:05<00:00,  4.96it/s]\n"
          ]
        },
        {
          "name": "stdout",
          "output_type": "stream",
          "text": [
            "Loss: 0.6931554079055786\n",
            "Accuracy: 0.500076174736023\n",
            "SSIM: 0.3454919755458832\n",
            "PSNR: 10.840847492218018\n",
            "bpp: 0.0009140968322753906\n",
            "Epoch 70/100\n"
          ]
        },
        {
          "name": "stderr",
          "output_type": "stream",
          "text": [
            "100%|██████████| 200/200 [00:38<00:00,  5.16it/s]\n",
            "100%|██████████| 200/200 [00:36<00:00,  5.45it/s]\n",
            "100%|██████████| 25/25 [00:04<00:00,  5.10it/s]\n"
          ]
        },
        {
          "name": "stdout",
          "output_type": "stream",
          "text": [
            "Loss: 0.6931523084640503\n",
            "Accuracy: 0.5003565549850464\n",
            "SSIM: 0.23192593455314636\n",
            "PSNR: 9.50032114982605\n",
            "bpp: 0.004278659820556641\n",
            "Epoch 71/100\n"
          ]
        },
        {
          "name": "stderr",
          "output_type": "stream",
          "text": [
            "100%|██████████| 200/200 [00:38<00:00,  5.15it/s]\n",
            "100%|██████████| 200/200 [00:36<00:00,  5.51it/s]\n",
            "100%|██████████| 25/25 [00:05<00:00,  4.89it/s]\n"
          ]
        },
        {
          "name": "stdout",
          "output_type": "stream",
          "text": [
            "Loss: 0.693156898021698\n",
            "Accuracy: 0.4998569190502167\n",
            "SSIM: 0.5482245087623596\n",
            "PSNR: 12.017149925231934\n",
            "bpp: -0.0017169713973999023\n",
            "Epoch 72/100\n"
          ]
        },
        {
          "name": "stderr",
          "output_type": "stream",
          "text": [
            "100%|██████████| 200/200 [00:38<00:00,  5.16it/s]\n",
            "100%|██████████| 200/200 [00:36<00:00,  5.45it/s]\n",
            "100%|██████████| 25/25 [00:04<00:00,  5.06it/s]\n"
          ]
        },
        {
          "name": "stdout",
          "output_type": "stream",
          "text": [
            "Loss: 0.6931561827659607\n",
            "Accuracy: 0.5000170469284058\n",
            "SSIM: 0.4021812677383423\n",
            "PSNR: 10.947273969650269\n",
            "bpp: 0.00020456314086914062\n",
            "Epoch 73/100\n"
          ]
        },
        {
          "name": "stderr",
          "output_type": "stream",
          "text": [
            "100%|██████████| 200/200 [00:38<00:00,  5.14it/s]\n",
            "100%|██████████| 200/200 [00:36<00:00,  5.49it/s]\n",
            "100%|██████████| 25/25 [00:05<00:00,  4.96it/s]\n"
          ]
        },
        {
          "name": "stdout",
          "output_type": "stream",
          "text": [
            "Loss: 0.6931494474411011\n",
            "Accuracy: 0.5000311732292175\n",
            "SSIM: 0.52745121717453\n",
            "PSNR: 11.871558427810669\n",
            "bpp: 0.00037407875061035156\n",
            "Epoch 74/100\n"
          ]
        },
        {
          "name": "stderr",
          "output_type": "stream",
          "text": [
            "100%|██████████| 200/200 [00:38<00:00,  5.14it/s]\n",
            "100%|██████████| 200/200 [00:36<00:00,  5.47it/s]\n",
            "100%|██████████| 25/25 [00:04<00:00,  5.03it/s]\n"
          ]
        },
        {
          "name": "stdout",
          "output_type": "stream",
          "text": [
            "Loss: 0.6931513547897339\n",
            "Accuracy: 0.4996865391731262\n",
            "SSIM: 0.2562895715236664\n",
            "PSNR: 9.833096861839294\n",
            "bpp: -0.0037615299224853516\n",
            "Epoch 75/100\n"
          ]
        },
        {
          "name": "stderr",
          "output_type": "stream",
          "text": [
            "100%|██████████| 200/200 [00:38<00:00,  5.14it/s]\n",
            "100%|██████████| 200/200 [00:36<00:00,  5.45it/s]\n",
            "100%|██████████| 25/25 [00:04<00:00,  5.10it/s]\n"
          ]
        },
        {
          "name": "stdout",
          "output_type": "stream",
          "text": [
            "Loss: 0.6931486129760742\n",
            "Accuracy: 0.500375509262085\n",
            "SSIM: 0.30980995297431946\n",
            "PSNR: 11.086580753326416\n",
            "bpp: 0.004506111145019531\n",
            "Epoch 76/100\n"
          ]
        },
        {
          "name": "stderr",
          "output_type": "stream",
          "text": [
            "100%|██████████| 200/200 [00:38<00:00,  5.15it/s]\n",
            "100%|██████████| 200/200 [00:36<00:00,  5.48it/s]\n",
            "100%|██████████| 25/25 [00:05<00:00,  4.99it/s]\n"
          ]
        },
        {
          "name": "stdout",
          "output_type": "stream",
          "text": [
            "Loss: 0.6931494474411011\n",
            "Accuracy: 0.500697672367096\n",
            "SSIM: 0.24380698800086975\n",
            "PSNR: 10.575309991836548\n",
            "bpp: 0.008372068405151367\n",
            "Epoch 77/100\n"
          ]
        },
        {
          "name": "stderr",
          "output_type": "stream",
          "text": [
            "100%|██████████| 200/200 [00:39<00:00,  5.13it/s]\n",
            "100%|██████████| 200/200 [00:36<00:00,  5.48it/s]\n",
            "100%|██████████| 25/25 [00:05<00:00,  4.92it/s]\n"
          ]
        },
        {
          "name": "stdout",
          "output_type": "stream",
          "text": [
            "Loss: 0.6931576132774353\n",
            "Accuracy: 0.4996466636657715\n",
            "SSIM: 0.2515966296195984\n",
            "PSNR: 10.301700830459595\n",
            "bpp: -0.0042400360107421875\n",
            "Epoch 78/100\n"
          ]
        },
        {
          "name": "stderr",
          "output_type": "stream",
          "text": [
            "100%|██████████| 200/200 [00:38<00:00,  5.15it/s]\n",
            "100%|██████████| 200/200 [00:36<00:00,  5.42it/s]\n",
            "100%|██████████| 25/25 [00:05<00:00,  4.85it/s]\n"
          ]
        },
        {
          "name": "stdout",
          "output_type": "stream",
          "text": [
            "Loss: 0.6931520104408264\n",
            "Accuracy: 0.5003780722618103\n",
            "SSIM: 0.3134755492210388\n",
            "PSNR: 11.275608539581299\n",
            "bpp: 0.004536867141723633\n",
            "Epoch 79/100\n"
          ]
        },
        {
          "name": "stderr",
          "output_type": "stream",
          "text": [
            "100%|██████████| 200/200 [00:38<00:00,  5.13it/s]\n",
            "100%|██████████| 200/200 [00:36<00:00,  5.48it/s]\n",
            "100%|██████████| 25/25 [00:05<00:00,  4.94it/s]\n"
          ]
        },
        {
          "name": "stdout",
          "output_type": "stream",
          "text": [
            "Loss: 0.6931537985801697\n",
            "Accuracy: 0.49966177344322205\n",
            "SSIM: 0.3098185360431671\n",
            "PSNR: 10.101394653320312\n",
            "bpp: -0.004058718681335449\n",
            "Epoch 80/100\n"
          ]
        },
        {
          "name": "stderr",
          "output_type": "stream",
          "text": [
            "100%|██████████| 200/200 [00:39<00:00,  5.12it/s]\n",
            "100%|██████████| 200/200 [00:36<00:00,  5.45it/s]\n",
            "100%|██████████| 25/25 [00:05<00:00,  4.92it/s]\n"
          ]
        },
        {
          "name": "stdout",
          "output_type": "stream",
          "text": [
            "Loss: 0.6931554675102234\n",
            "Accuracy: 0.49997588992118835\n",
            "SSIM: 0.4445069432258606\n",
            "PSNR: 12.403658628463745\n",
            "bpp: -0.0002893209457397461\n",
            "Epoch 81/100\n"
          ]
        },
        {
          "name": "stderr",
          "output_type": "stream",
          "text": [
            "100%|██████████| 200/200 [00:39<00:00,  5.12it/s]\n",
            "100%|██████████| 200/200 [00:36<00:00,  5.42it/s]\n",
            "100%|██████████| 25/25 [00:05<00:00,  4.80it/s]\n"
          ]
        },
        {
          "name": "stdout",
          "output_type": "stream",
          "text": [
            "Loss: 0.6931592226028442\n",
            "Accuracy: 0.49993857741355896\n",
            "SSIM: 0.4024578928947449\n",
            "PSNR: 12.160766124725342\n",
            "bpp: -0.0007370710372924805\n",
            "Epoch 82/100\n"
          ]
        },
        {
          "name": "stderr",
          "output_type": "stream",
          "text": [
            "100%|██████████| 200/200 [00:39<00:00,  5.12it/s]\n",
            "100%|██████████| 200/200 [00:37<00:00,  5.40it/s]\n",
            "100%|██████████| 25/25 [00:05<00:00,  4.87it/s]\n"
          ]
        },
        {
          "name": "stdout",
          "output_type": "stream",
          "text": [
            "Loss: 0.6931580901145935\n",
            "Accuracy: 0.4997270405292511\n",
            "SSIM: 0.37616127729415894\n",
            "PSNR: 12.5425124168396\n",
            "bpp: -0.0032755136489868164\n",
            "Epoch 83/100\n"
          ]
        },
        {
          "name": "stderr",
          "output_type": "stream",
          "text": [
            "100%|██████████| 200/200 [00:39<00:00,  5.09it/s]\n",
            "100%|██████████| 200/200 [00:36<00:00,  5.45it/s]\n",
            "100%|██████████| 25/25 [00:05<00:00,  4.86it/s]\n"
          ]
        },
        {
          "name": "stdout",
          "output_type": "stream",
          "text": [
            "Loss: 0.6931598782539368\n",
            "Accuracy: 0.5002649426460266\n",
            "SSIM: 0.3643213212490082\n",
            "PSNR: 12.796366214752197\n",
            "bpp: 0.003179311752319336\n",
            "Epoch 84/100\n"
          ]
        },
        {
          "name": "stderr",
          "output_type": "stream",
          "text": [
            "100%|██████████| 200/200 [00:39<00:00,  5.13it/s]\n",
            "100%|██████████| 200/200 [00:37<00:00,  5.39it/s]\n",
            "100%|██████████| 25/25 [00:05<00:00,  4.87it/s]\n"
          ]
        },
        {
          "name": "stdout",
          "output_type": "stream",
          "text": [
            "Loss: 0.6931531429290771\n",
            "Accuracy: 0.5002015829086304\n",
            "SSIM: 0.2920417785644531\n",
            "PSNR: 11.264749765396118\n",
            "bpp: 0.002418994903564453\n",
            "Epoch 85/100\n"
          ]
        },
        {
          "name": "stderr",
          "output_type": "stream",
          "text": [
            "100%|██████████| 200/200 [00:39<00:00,  5.06it/s]\n",
            "100%|██████████| 200/200 [00:36<00:00,  5.41it/s]\n",
            "100%|██████████| 25/25 [00:05<00:00,  4.80it/s]\n"
          ]
        },
        {
          "name": "stdout",
          "output_type": "stream",
          "text": [
            "Loss: 0.6931626796722412\n",
            "Accuracy: 0.4998302459716797\n",
            "SSIM: 0.322265625\n",
            "PSNR: 10.716930627822876\n",
            "bpp: -0.00203704833984375\n",
            "Epoch 86/100\n"
          ]
        },
        {
          "name": "stderr",
          "output_type": "stream",
          "text": [
            "100%|██████████| 200/200 [00:39<00:00,  5.12it/s]\n",
            "100%|██████████| 200/200 [00:36<00:00,  5.45it/s]\n",
            "100%|██████████| 25/25 [00:05<00:00,  4.78it/s]\n"
          ]
        },
        {
          "name": "stdout",
          "output_type": "stream",
          "text": [
            "Loss: 0.6931612491607666\n",
            "Accuracy: 0.5001614093780518\n",
            "SSIM: 0.36773329973220825\n",
            "PSNR: 11.701602935791016\n",
            "bpp: 0.0019369125366210938\n",
            "Epoch 87/100\n"
          ]
        },
        {
          "name": "stderr",
          "output_type": "stream",
          "text": [
            "100%|██████████| 200/200 [00:39<00:00,  5.11it/s]\n",
            "100%|██████████| 200/200 [00:36<00:00,  5.44it/s]\n",
            "100%|██████████| 25/25 [00:05<00:00,  4.89it/s]\n"
          ]
        },
        {
          "name": "stdout",
          "output_type": "stream",
          "text": [
            "Loss: 0.6949889659881592\n",
            "Accuracy: 0.49939462542533875\n",
            "SSIM: 0.40822795033454895\n",
            "PSNR: 12.001539468765259\n",
            "bpp: -0.007264494895935059\n",
            "Epoch 88/100\n"
          ]
        },
        {
          "name": "stderr",
          "output_type": "stream",
          "text": [
            "100%|██████████| 200/200 [00:38<00:00,  5.16it/s]\n",
            "100%|██████████| 200/200 [00:36<00:00,  5.45it/s]\n",
            "100%|██████████| 25/25 [00:05<00:00,  4.95it/s]\n"
          ]
        },
        {
          "name": "stdout",
          "output_type": "stream",
          "text": [
            "Loss: 0.6937161087989807\n",
            "Accuracy: 0.49975502490997314\n",
            "SSIM: 0.5386925339698792\n",
            "PSNR: 12.270126342773438\n",
            "bpp: -0.0029397010803222656\n",
            "Epoch 89/100\n"
          ]
        },
        {
          "name": "stderr",
          "output_type": "stream",
          "text": [
            "100%|██████████| 200/200 [00:39<00:00,  5.13it/s]\n",
            "100%|██████████| 200/200 [00:36<00:00,  5.44it/s]\n",
            "100%|██████████| 25/25 [00:04<00:00,  5.04it/s]\n"
          ]
        },
        {
          "name": "stdout",
          "output_type": "stream",
          "text": [
            "Loss: 0.6934603452682495\n",
            "Accuracy: 0.49965566396713257\n",
            "SSIM: 0.216526597738266\n",
            "PSNR: 9.544820189476013\n",
            "bpp: -0.00413203239440918\n",
            "Epoch 90/100\n"
          ]
        },
        {
          "name": "stderr",
          "output_type": "stream",
          "text": [
            "100%|██████████| 200/200 [00:39<00:00,  5.10it/s]\n",
            "100%|██████████| 200/200 [00:36<00:00,  5.45it/s]\n",
            "100%|██████████| 25/25 [00:05<00:00,  4.90it/s]\n"
          ]
        },
        {
          "name": "stdout",
          "output_type": "stream",
          "text": [
            "Loss: 0.6932717561721802\n",
            "Accuracy: 0.5004896521568298\n",
            "SSIM: 0.36415278911590576\n",
            "PSNR: 9.974693059921265\n",
            "bpp: 0.005875825881958008\n",
            "Epoch 91/100\n"
          ]
        },
        {
          "name": "stderr",
          "output_type": "stream",
          "text": [
            "100%|██████████| 200/200 [00:39<00:00,  5.11it/s]\n",
            "100%|██████████| 200/200 [00:36<00:00,  5.44it/s]\n",
            "100%|██████████| 25/25 [00:05<00:00,  4.94it/s]\n"
          ]
        },
        {
          "name": "stdout",
          "output_type": "stream",
          "text": [
            "Loss: 0.6932207345962524\n",
            "Accuracy: 0.499828964471817\n",
            "SSIM: 0.4766485095024109\n",
            "PSNR: 12.001750469207764\n",
            "bpp: -0.0020524263381958008\n",
            "Epoch 92/100\n"
          ]
        },
        {
          "name": "stderr",
          "output_type": "stream",
          "text": [
            "100%|██████████| 200/200 [00:39<00:00,  5.10it/s]\n",
            "100%|██████████| 200/200 [00:37<00:00,  5.40it/s]\n",
            "100%|██████████| 25/25 [00:05<00:00,  4.99it/s]\n"
          ]
        },
        {
          "name": "stdout",
          "output_type": "stream",
          "text": [
            "Loss: 0.6931719183921814\n",
            "Accuracy: 0.5000601410865784\n",
            "SSIM: 0.374808132648468\n",
            "PSNR: 11.469844579696655\n",
            "bpp: 0.0007216930389404297\n",
            "Epoch 93/100\n"
          ]
        },
        {
          "name": "stderr",
          "output_type": "stream",
          "text": [
            "100%|██████████| 200/200 [00:38<00:00,  5.14it/s]\n",
            "100%|██████████| 200/200 [00:36<00:00,  5.48it/s]\n",
            "100%|██████████| 25/25 [00:05<00:00,  4.98it/s]\n"
          ]
        },
        {
          "name": "stdout",
          "output_type": "stream",
          "text": [
            "Loss: 0.6931623816490173\n",
            "Accuracy: 0.49975886940956116\n",
            "SSIM: 0.25203680992126465\n",
            "PSNR: 10.094314813613892\n",
            "bpp: -0.0028935670852661133\n",
            "Epoch 94/100\n"
          ]
        },
        {
          "name": "stderr",
          "output_type": "stream",
          "text": [
            "100%|██████████| 200/200 [00:39<00:00,  5.04it/s]\n",
            "100%|██████████| 200/200 [00:37<00:00,  5.31it/s]\n",
            "100%|██████████| 25/25 [00:05<00:00,  4.88it/s]\n"
          ]
        },
        {
          "name": "stdout",
          "output_type": "stream",
          "text": [
            "Loss: 0.6931734085083008\n",
            "Accuracy: 0.5002478957176208\n",
            "SSIM: 0.35933980345726013\n",
            "PSNR: 11.405646800994873\n",
            "bpp: 0.0029747486114501953\n",
            "Epoch 95/100\n"
          ]
        },
        {
          "name": "stderr",
          "output_type": "stream",
          "text": [
            "100%|██████████| 200/200 [00:39<00:00,  5.04it/s]\n",
            "100%|██████████| 200/200 [00:36<00:00,  5.51it/s]\n",
            "100%|██████████| 25/25 [00:05<00:00,  4.90it/s]\n"
          ]
        },
        {
          "name": "stdout",
          "output_type": "stream",
          "text": [
            "Loss: 0.6931684017181396\n",
            "Accuracy: 0.5000948309898376\n",
            "SSIM: 0.29517295956611633\n",
            "PSNR: 10.969421863555908\n",
            "bpp: 0.0011379718780517578\n",
            "Epoch 96/100\n"
          ]
        },
        {
          "name": "stderr",
          "output_type": "stream",
          "text": [
            "100%|██████████| 200/200 [00:38<00:00,  5.13it/s]\n",
            "100%|██████████| 200/200 [00:36<00:00,  5.48it/s]\n",
            "100%|██████████| 25/25 [00:05<00:00,  4.91it/s]\n"
          ]
        },
        {
          "name": "stdout",
          "output_type": "stream",
          "text": [
            "Loss: 0.6932068467140198\n",
            "Accuracy: 0.4996080994606018\n",
            "SSIM: 0.45058098435401917\n",
            "PSNR: 11.80178165435791\n",
            "bpp: -0.00470280647277832\n",
            "Epoch 97/100\n"
          ]
        },
        {
          "name": "stderr",
          "output_type": "stream",
          "text": [
            "100%|██████████| 200/200 [00:38<00:00,  5.15it/s]\n",
            "100%|██████████| 200/200 [00:36<00:00,  5.51it/s]\n",
            "100%|██████████| 25/25 [00:05<00:00,  4.87it/s]\n"
          ]
        },
        {
          "name": "stdout",
          "output_type": "stream",
          "text": [
            "Loss: 0.6932423710823059\n",
            "Accuracy: 0.5002241134643555\n",
            "SSIM: 0.6655610799789429\n",
            "PSNR: 16.715335845947266\n",
            "bpp: 0.002689361572265625\n",
            "Epoch 98/100\n"
          ]
        },
        {
          "name": "stderr",
          "output_type": "stream",
          "text": [
            "100%|██████████| 200/200 [00:38<00:00,  5.16it/s]\n",
            "100%|██████████| 200/200 [00:36<00:00,  5.50it/s]\n",
            "100%|██████████| 25/25 [00:05<00:00,  4.97it/s]\n"
          ]
        },
        {
          "name": "stdout",
          "output_type": "stream",
          "text": [
            "Loss: 0.6932055354118347\n",
            "Accuracy: 0.5004488229751587\n",
            "SSIM: 0.29750147461891174\n",
            "PSNR: 10.56799054145813\n",
            "bpp: 0.005385875701904297\n",
            "Epoch 99/100\n"
          ]
        },
        {
          "name": "stderr",
          "output_type": "stream",
          "text": [
            "100%|██████████| 200/200 [00:38<00:00,  5.16it/s]\n",
            "100%|██████████| 200/200 [00:36<00:00,  5.51it/s]\n",
            "100%|██████████| 25/25 [00:04<00:00,  5.07it/s]\n"
          ]
        },
        {
          "name": "stdout",
          "output_type": "stream",
          "text": [
            "Loss: 0.6932186484336853\n",
            "Accuracy: 0.4997260868549347\n",
            "SSIM: 0.32493269443511963\n",
            "PSNR: 11.545538902282715\n",
            "bpp: -0.0032869577407836914\n",
            "Epoch 100/100\n"
          ]
        },
        {
          "name": "stderr",
          "output_type": "stream",
          "text": [
            "100%|██████████| 200/200 [00:38<00:00,  5.17it/s]\n",
            "100%|██████████| 200/200 [00:36<00:00,  5.51it/s]\n",
            "100%|██████████| 25/25 [00:04<00:00,  5.01it/s]\n"
          ]
        },
        {
          "name": "stdout",
          "output_type": "stream",
          "text": [
            "Loss: 0.6932063102722168\n",
            "Accuracy: 0.5003584623336792\n",
            "SSIM: 0.4152628183364868\n",
            "PSNR: 10.958030223846436\n",
            "bpp: 0.004301548004150391\n"
          ]
        }
      ],
      "source": [
        "# Fit on the given data\n",
        "steganography.fit(train, validation, epochs=100)"
      ]
    },
    {
      "cell_type": "code",
      "execution_count": null,
      "metadata": {
        "id": "7HBrX63NzERF"
      },
      "outputs": [],
      "source": [
        "!mkdir models\n",
        "steganography.save('models/basic_100.steg')"
      ]
    },
    {
      "cell_type": "code",
      "execution_count": null,
      "metadata": {
        "id": "fUzBd5z-582a"
      },
      "outputs": [],
      "source": [
        "# -*- coding: utf-8 -*-\n",
        "import gc\n",
        "import inspect\n",
        "import json\n",
        "import os\n",
        "from collections import Counter\n",
        "\n",
        "import imageio\n",
        "import torch\n",
        "from imageio import imread, imwrite\n",
        "from torch.nn.functional import binary_cross_entropy_with_logits, mse_loss\n",
        "from torch.optim import Adam\n",
        "from tqdm import tqdm\n",
        "\n",
        "#DEFAULT_PATH = os.path.join(\n",
        "#    os.path.dirname(os.path.abspath(__file__)),\n",
        "#    'train')\n",
        "\n",
        "METRIC_FIELDS = [\n",
        "    'val.encoder_mse',\n",
        "    'val.decoder_loss',\n",
        "    'val.decoder_acc',\n",
        "    'val.cover_score',\n",
        "    'val.generated_score',\n",
        "    'val.ssim',\n",
        "    'val.psnr',\n",
        "    'val.bpp',\n",
        "    'train.encoder_mse',\n",
        "    'train.decoder_loss',\n",
        "    'train.decoder_acc',\n",
        "    'train.cover_score',\n",
        "    'train.generated_score',\n",
        "]\n",
        "\n",
        "\n",
        "class Steganography(object):\n",
        "\n",
        "    def _get_instance(self, class_or_instance, kwargs):\n",
        "        \"\"\"Returns an instance of the class\"\"\"\n",
        "\n",
        "        if not inspect.isclass(class_or_instance):\n",
        "            return class_or_instance\n",
        "\n",
        "        argspec = inspect.getfullargspec(class_or_instance.__init__).args\n",
        "        argspec.remove('self')\n",
        "        init_args = {arg: kwargs[arg] for arg in argspec}\n",
        "\n",
        "        return class_or_instance(**init_args)\n",
        "\n",
        "    def set_device(self, cuda=True):\n",
        "        \"\"\"Sets the torch device depending on whether cuda is avaiable or not.\"\"\"\n",
        "        if cuda and torch.cuda.is_available():\n",
        "            self.cuda = True\n",
        "            self.device = torch.device('cuda')\n",
        "        else:\n",
        "            self.cuda = False\n",
        "            self.device = torch.device('cpu')\n",
        "\n",
        "        if self.verbose:\n",
        "            if not cuda:\n",
        "                print('Using CPU device')\n",
        "            elif not self.cuda:\n",
        "                print('CUDA is not available. Defaulting to CPU device')\n",
        "            else:\n",
        "                print('Using CUDA device')\n",
        "\n",
        "        self.encoder.to(self.device)\n",
        "        self.decoder.to(self.device)\n",
        "        self.critic.to(self.device)\n",
        "\n",
        "    def __init__(self, data_depth, encoder, decoder, critic,\n",
        "                 cuda=False, verbose=False, log_dir=None, **kwargs):\n",
        "\n",
        "        self.verbose = verbose\n",
        "\n",
        "        self.data_depth = data_depth\n",
        "        kwargs['data_depth'] = data_depth\n",
        "        self.encoder = self._get_instance(encoder, kwargs)\n",
        "        self.decoder = self._get_instance(decoder, kwargs)\n",
        "        self.critic = self._get_instance(critic, kwargs)\n",
        "        self.set_device(cuda)\n",
        "\n",
        "        self.critic_optimizer = None\n",
        "        self.decoder_optimizer = None\n",
        "\n",
        "        # Misc\n",
        "        self.fit_metrics = None\n",
        "        self.history = list()\n",
        "\n",
        "        self.log_dir = log_dir\n",
        "        if log_dir:\n",
        "            os.makedirs(self.log_dir, exist_ok=True)\n",
        "            self.samples_path = os.path.join(self.log_dir, 'samples')\n",
        "            os.makedirs(self.samples_path, exist_ok=True)\n",
        "\n",
        "    def _random_data(self, cover):\n",
        "        \"\"\"Generate random data ready to be hidden inside the cover image.\n",
        "\n",
        "        Args:\n",
        "            cover (image): Image to use as cover.\n",
        "\n",
        "        Returns:\n",
        "            generated (image): Image generated with the encoded message.\n",
        "        \"\"\"\n",
        "        N, _, H, W = cover.size()\n",
        "        return torch.zeros((N, self.data_depth, H, W), device=self.device).random_(0, 2)\n",
        "\n",
        "    def _encode_decode(self, cover, quantize=False):\n",
        "        \"\"\"Encode random data and then decode it.\n",
        "\n",
        "        Args:\n",
        "            cover (image): Image to use as cover.\n",
        "            quantize (bool): whether to quantize the generated image or not.\n",
        "\n",
        "        Returns:\n",
        "            generated (image): Image generated with the encoded message.\n",
        "            payload (bytes): Random data that has been encoded in the image.\n",
        "            decoded (bytes): Data decoded from the generated image.\n",
        "        \"\"\"\n",
        "        payload = self._random_data(cover)\n",
        "        generated = self.encoder(cover, payload)\n",
        "        if quantize:\n",
        "            generated = (255.0 * (generated + 1.0) / 2.0).long()\n",
        "            generated = 2.0 * generated.float() / 255.0 - 1.0\n",
        "\n",
        "        decoded = self.decoder(generated)\n",
        "\n",
        "        return generated, payload, decoded\n",
        "\n",
        "    def _critic(self, image):\n",
        "        \"\"\"Evaluate the image using the critic\"\"\"\n",
        "        return torch.mean(self.critic(image))\n",
        "\n",
        "    def _get_optimizers(self):\n",
        "        _dec_list = list(self.decoder.parameters()) + list(self.encoder.parameters())\n",
        "        critic_optimizer = Adam(self.critic.parameters(), lr=1e-3)\n",
        "        decoder_optimizer = Adam(_dec_list, lr=1e-3)\n",
        "\n",
        "        return critic_optimizer, decoder_optimizer\n",
        "\n",
        "    def _fit_critic(self, train, metrics):\n",
        "        \"\"\"Critic process\"\"\"\n",
        "        for cover, _ in tqdm(train, disable=not self.verbose):\n",
        "            gc.collect()\n",
        "            cover = cover.to(self.device)\n",
        "            payload = self._random_data(cover)\n",
        "            generated = self.encoder(cover, payload)\n",
        "            cover_score = self._critic(cover)\n",
        "            generated_score = self._critic(generated)\n",
        "\n",
        "            self.critic_optimizer.zero_grad()\n",
        "            (cover_score - generated_score).backward(retain_graph=False)\n",
        "            self.critic_optimizer.step()\n",
        "\n",
        "            for p in self.critic.parameters():\n",
        "                p.data.clamp_(-0.1, 0.1)\n",
        "\n",
        "            metrics['train.cover_score'].append(cover_score.item())\n",
        "            metrics['train.generated_score'].append(generated_score.item())\n",
        "\n",
        "    def _fit_coders(self, train, metrics):\n",
        "        \"\"\"Fit the encoder and the decoder on the train images.\"\"\"\n",
        "        for cover, _ in tqdm(train, disable=not self.verbose):\n",
        "            gc.collect()\n",
        "            cover = cover.to(self.device)\n",
        "            generated, payload, decoded = self._encode_decode(cover)\n",
        "            encoder_mse, decoder_loss, decoder_acc = self._coding_scores(\n",
        "                cover, generated, payload, decoded)\n",
        "            generated_score = self._critic(generated)\n",
        "\n",
        "            self.decoder_optimizer.zero_grad()\n",
        "            (100.0 * encoder_mse + decoder_loss + generated_score).backward()\n",
        "            self.decoder_optimizer.step()\n",
        "\n",
        "    def _coding_scores(self, cover, generated, payload, decoded):\n",
        "        encoder_mse = mse_loss(generated, cover)\n",
        "        decoder_loss = binary_cross_entropy_with_logits(decoded, payload)\n",
        "        decoder_acc = (decoded >= 0.0).eq(payload >= 0.5).sum().float() / payload.numel()\n",
        "\n",
        "        return encoder_mse, decoder_loss, decoder_acc\n",
        "\n",
        "    def _validate(self, validate, metrics):\n",
        "        \"\"\"Validation process\"\"\"\n",
        "        for cover, _ in tqdm(validate, disable=not self.verbose):\n",
        "            gc.collect()\n",
        "            cover = cover.to(self.device)\n",
        "            generated, payload, decoded = self._encode_decode(cover, quantize=True)\n",
        "            encoder_mse, decoder_loss, decoder_acc = self._coding_scores(\n",
        "                cover, generated, payload, decoded)\n",
        "            generated_score = self._critic(generated)\n",
        "            cover_score = self._critic(cover)\n",
        "\n",
        "        metrics['val.decoder_loss'].append(decoder_loss.item())\n",
        "        print('Loss:',decoder_loss.item())\n",
        "        metrics['val.decoder_acc'].append(decoder_acc.item())\n",
        "        print('Accuracy:',decoder_acc.item())\n",
        "        metrics['val.ssim'].append(ssim(cover, generated).item())\n",
        "        print('SSIM:',ssim(cover, generated).item())\n",
        "        metrics['val.psnr'].append(10 * torch.log10(4 / encoder_mse).item())\n",
        "        print('PSNR:',10 * torch.log10(4 / encoder_mse).item())\n",
        "        metrics['val.bpp'].append(self.data_depth * (2 * decoder_acc.item() - 1))\n",
        "        print('bpp:',self.data_depth * (2 * decoder_acc.item() - 1))\n",
        "\n",
        "    def _generate_samples(self, samples_path, cover, epoch):\n",
        "        cover = cover.to(self.device)\n",
        "        generated, payload, decoded = self._encode_decode(cover)\n",
        "        samples = generated.size(0)\n",
        "        for sample in range(samples):\n",
        "            cover_path = os.path.join(samples_path, '{}.cover.png'.format(sample))\n",
        "            sample_name = '{}.generated-{:2d}.png'.format(sample, epoch)\n",
        "            sample_path = os.path.join(samples_path, sample_name)\n",
        "\n",
        "            image = (cover[sample].permute(1, 2, 0).detach().cpu().numpy() + 1.0) / 2.0\n",
        "            imageio.imwrite(cover_path, (255.0 * image).astype('uint8'))\n",
        "\n",
        "            sampled = generated[sample].clamp(-1.0, 1.0).permute(1, 2, 0)\n",
        "            sampled = sampled.detach().cpu().numpy() + 1.0\n",
        "\n",
        "            image = sampled / 2.0\n",
        "            imageio.imwrite(sample_path, (255.0 * image).astype('uint8'))\n",
        "\n",
        "    def fit(self, train, validate, epochs=5):\n",
        "        \"\"\"Train a new model with the given ImageLoader class.\"\"\"\n",
        "\n",
        "        if self.critic_optimizer is None:\n",
        "            self.critic_optimizer, self.decoder_optimizer = self._get_optimizers()\n",
        "            self.epochs = 0\n",
        "\n",
        "        if self.log_dir:\n",
        "            sample_cover = next(iter(validate))[0]\n",
        "\n",
        "        # Start training\n",
        "        total = self.epochs + epochs\n",
        "        for epoch in range(1, epochs + 1):\n",
        "            # Count how many epochs we have trained for this steganography\n",
        "            self.epochs += 1\n",
        "\n",
        "            metrics = {field: list() for field in METRIC_FIELDS}\n",
        "\n",
        "            if self.verbose:\n",
        "                print('Epoch {}/{}'.format(self.epochs, total))\n",
        "\n",
        "            self._fit_critic(train, metrics)\n",
        "            self._fit_coders(train, metrics)\n",
        "            self._validate(validate, metrics)\n",
        "\n",
        "            self.fit_metrics = {k: sum(v) / len(v) for k, v in metrics.items() if len(v)}\n",
        "            self.fit_metrics['epoch'] = epoch\n",
        "\n",
        "            if self.log_dir:\n",
        "                self.history.append(self.fit_metrics)\n",
        "\n",
        "                metrics_path = os.path.join(self.log_dir, 'metrics.log')\n",
        "                with open(metrics_path, 'w') as metrics_file:\n",
        "                    json.dump(self.history, metrics_file, indent=4)\n",
        "\n",
        "                save_name = '{}.bpp-{:03f}.p'.format(\n",
        "                    self.epochs, self.fit_metrics['val.bpp'])\n",
        "\n",
        "                self.save(os.path.join(self.log_dir, save_name))\n",
        "                self._generate_samples(self.samples_path, sample_cover, epoch)\n",
        "\n",
        "            # Empty cuda cache (this may help for memory leaks)\n",
        "            if self.cuda:\n",
        "                torch.cuda.empty_cache()\n",
        "\n",
        "            gc.collect()\n",
        "\n",
        "    def _make_payload(self, width, height, depth, text):\n",
        "        \"\"\"\n",
        "        This takes a piece of text and encodes it into a bit vector. It then\n",
        "        fills a matrix of size (width, height) with copies of the bit vector.\n",
        "        \"\"\"\n",
        "        message = text_to_bits(text) + [0] * 32\n",
        "\n",
        "        payload = message\n",
        "        while len(payload) < width * height * depth:\n",
        "            payload += message\n",
        "\n",
        "        payload = payload[:width * height * depth]\n",
        "\n",
        "        return torch.FloatTensor(payload).view(1, depth, height, width)\n",
        "\n",
        "    def encode(self, cover, output, text):\n",
        "        \"\"\"Encode an image.\n",
        "        Args:\n",
        "            cover (str): Path to the image to be used as cover.\n",
        "            output (str): Path where the generated image will be saved.\n",
        "            text (str): Message to hide inside the image.\n",
        "        \"\"\"\n",
        "        cover = imread(cover, pilmode='RGB') / 127.5 - 1.0\n",
        "        cover = torch.FloatTensor(cover).permute(2, 1, 0).unsqueeze(0)\n",
        "\n",
        "        cover_size = cover.size()\n",
        "        # _, _, height, width = cover.size()\n",
        "        payload = self._make_payload(cover_size[3], cover_size[2], self.data_depth, text)\n",
        "\n",
        "        cover = cover.to(self.device)\n",
        "        payload = payload.to(self.device)\n",
        "        generated = self.encoder(cover, payload)[0].clamp(-1.0, 1.0)\n",
        "\n",
        "        generated = (generated.permute(2, 1, 0).detach().cpu().numpy() + 1.0) * 127.5\n",
        "        imwrite(output, generated.astype('uint8'))\n",
        "\n",
        "        if self.verbose:\n",
        "            print('Encoding completed.')\n",
        "\n",
        "    def decode(self, image):\n",
        "\n",
        "        if not os.path.exists(image):\n",
        "            raise ValueError('Unable to read %s.' % image)\n",
        "\n",
        "        # extract a bit vector\n",
        "        image = imread(image, pilmode='RGB') / 255.0\n",
        "        image = torch.FloatTensor(image).permute(2, 1, 0).unsqueeze(0)\n",
        "        image = image.to(self.device)\n",
        "\n",
        "        image = self.decoder(image).view(-1) > 0\n",
        "\n",
        "        # split and decode messages\n",
        "        candidates = Counter()\n",
        "        bits = image.data.cpu().numpy().tolist()\n",
        "        for candidate in bits_to_bytearray(bits).split(b'\\x00\\x00\\x00\\x00'):\n",
        "            candidate = bytearray_to_text(bytearray(candidate))\n",
        "            if candidate:\n",
        "                candidates[candidate] += 1\n",
        "\n",
        "        # choose most common message\n",
        "        if len(candidates) == 0:\n",
        "            raise ValueError('Failed to find message.')\n",
        "\n",
        "        candidate, count = candidates.most_common(1)[0]\n",
        "        return candidate\n",
        "\n",
        "    def save(self, path):\n",
        "        \"\"\"Save the fitted model in the given path. Raises an exception if there is no model.\"\"\"\n",
        "        torch.save(self, path)\n",
        "\n",
        "    @classmethod\n",
        "    def load(cls, architecture=None, path=None, cuda=True, verbose=False):\n",
        "        \"\"\"Loads an instance of Steganography for the given architecture (default pretrained models)\n",
        "        or loads a pretrained model from a given path.\n",
        "\n",
        "        Args:\n",
        "            architecture(str): Name of a pretrained model to be loaded from the default models.\n",
        "            path(str): Path to custom pretrained model. *Architecture must be None.\n",
        "            cuda(bool): Force loaded model to use cuda (if available).\n",
        "            verbose(bool): Force loaded model to use or not verbose.\n",
        "        \"\"\"\n",
        "\n",
        "        if architecture and not path:\n",
        "            model_name = '{}.steg'.format(architecture)\n",
        "            pretrained_path = os.path.join(os.path.dirname(__file__), 'pretrained')\n",
        "            path = os.path.join(pretrained_path, model_name)\n",
        "\n",
        "        elif (architecture is None and path is None) or (architecture and path):\n",
        "            raise ValueError(\n",
        "                'Please provide either an architecture or a path to pretrained model.')\n",
        "\n",
        "        steganography = torch.load(path, map_location='cpu')\n",
        "        steganography.verbose = verbose\n",
        "\n",
        "        steganography.encoder.upgrade_legacy()\n",
        "        steganography.decoder.upgrade_legacy()\n",
        "        steganography.critic.upgrade_legacy()\n",
        "\n",
        "        steganography.set_device(cuda)\n",
        "        return steganography\n"
      ]
    },
    {
      "cell_type": "code",
      "execution_count": null,
      "metadata": {
        "id": "7FKxzaXsyybo"
      },
      "outputs": [],
      "source": [
        "# -*- coding: utf-8 -*-\n",
        "\n",
        "import torch\n",
        "from torch import nn\n",
        "\n",
        "class Encoder(nn.Module):\n",
        "    \"\"\"\n",
        "    The Encoder module takes an cover image and a data tensor and combines\n",
        "    them into a steganographic image.\n",
        "\n",
        "    Input: (N, 3, H, W), (N, D, H, W)\n",
        "    Output: (N, 3, H, W)\n",
        "    \"\"\"\n",
        "\n",
        "    add_image = False\n",
        "\n",
        "    def _conv2d(self, in_channels, out_channels):\n",
        "        return nn.Conv2d(\n",
        "            in_channels=in_channels,\n",
        "            out_channels=out_channels,\n",
        "            kernel_size=3,\n",
        "            padding=1\n",
        "        )\n",
        "\n",
        "    def _build_models(self):\n",
        "        self.features = nn.Sequential(\n",
        "            self._conv2d(3, self.hidden_size),\n",
        "            nn.LeakyReLU(inplace=True),\n",
        "            nn.BatchNorm2d(self.hidden_size),\n",
        "        )\n",
        "        self.layers = nn.Sequential(\n",
        "            self._conv2d(self.hidden_size + self.data_depth, self.hidden_size),\n",
        "            nn.LeakyReLU(inplace=True),\n",
        "            nn.BatchNorm2d(self.hidden_size),\n",
        "            self._conv2d(self.hidden_size, self.hidden_size),\n",
        "            nn.LeakyReLU(inplace=True),\n",
        "            nn.BatchNorm2d(self.hidden_size),\n",
        "            self._conv2d(self.hidden_size, 3),\n",
        "            nn.Tanh(),\n",
        "        )\n",
        "        return self.features, self.layers\n",
        "\n",
        "    def __init__(self, data_depth, hidden_size):\n",
        "        super().__init__()\n",
        "        self.version = '1'\n",
        "        self.data_depth = data_depth\n",
        "        self.hidden_size = hidden_size\n",
        "        self._models = self._build_models()\n",
        "\n",
        "    def upgrade_legacy(self):\n",
        "        \"\"\"Transform legacy pretrained models to make them usable with new code versions.\"\"\"\n",
        "        # Transform to version 1\n",
        "        if not hasattr(self, 'version'):\n",
        "            self.version = '1'\n",
        "\n",
        "    def forward(self, image, data):\n",
        "        x = self._models[0](image)\n",
        "        x_list = [x]\n",
        "\n",
        "        for layer in self._models[1:]:\n",
        "            x = layer(torch.cat(x_list + [data], dim=1))\n",
        "            x_list.append(x)\n",
        "\n",
        "        if self.add_image:\n",
        "            x = image + x\n",
        "\n",
        "        return x\n",
        "\n",
        "class EnhancedEncoder(Encoder):\n",
        "    \"\"\"\n",
        "    The DenseEncoder module takes an cover image and a data tensor and combines\n",
        "    them into a steganographic image.\n",
        "\n",
        "    Input: (N, 3, H, W), (N, D, H, W)\n",
        "    Output: (N, 3, H, W)\n",
        "    \"\"\"\n",
        "\n",
        "    add_image = True\n",
        "\n",
        "    def _build_models(self):\n",
        "        self.conv1 = nn.Sequential(\n",
        "            self._conv2d(3, self.hidden_size),\n",
        "            nn.LeakyReLU(inplace=True),\n",
        "            nn.BatchNorm2d(self.hidden_size),\n",
        "        )\n",
        "        self.conv2 = nn.Sequential(\n",
        "            self._conv2d(self.hidden_size + self.data_depth, self.hidden_size),\n",
        "            nn.LeakyReLU(inplace=True),\n",
        "            nn.BatchNorm2d(self.hidden_size),\n",
        "        )\n",
        "        self.conv3 = nn.Sequential(\n",
        "            self._conv2d(self.hidden_size * 2 + self.data_depth, self.hidden_size),\n",
        "            nn.LeakyReLU(inplace=True),\n",
        "            nn.BatchNorm2d(self.hidden_size),\n",
        "        )\n",
        "        self.conv4 = nn.Sequential(\n",
        "            self._conv2d(self.hidden_size * 3 + self.data_depth, 3)\n",
        "        )\n",
        "\n",
        "        return self.conv1, self.conv2, self.conv3, self.conv4"
      ]
    },
    {
      "cell_type": "code",
      "execution_count": null,
      "metadata": {
        "id": "fD3m-DBDy4C5"
      },
      "outputs": [],
      "source": [
        "# -*- coding: utf-8 -*-\n",
        "\n",
        "import torch\n",
        "from torch import nn\n",
        "\n",
        "class Decoder(nn.Module):\n",
        "    \"\"\"\n",
        "    The Decoder module takes an steganographic image and attempts to decode\n",
        "    the embedded data tensor.\n",
        "\n",
        "    Input: (N, 3, H, W)\n",
        "    Output: (N, D, H, W)\n",
        "    \"\"\"\n",
        "\n",
        "    def _conv2d(self, in_channels, out_channels):\n",
        "        return nn.Conv2d(\n",
        "            in_channels=in_channels,\n",
        "            out_channels=out_channels,\n",
        "            kernel_size=3,\n",
        "            padding=1\n",
        "        )\n",
        "\n",
        "    def _build_models(self):\n",
        "        self.layers = nn.Sequential(\n",
        "            self._conv2d(3, self.hidden_size),\n",
        "            nn.LeakyReLU(inplace=True),\n",
        "            nn.BatchNorm2d(self.hidden_size),\n",
        "\n",
        "            self._conv2d(self.hidden_size, self.hidden_size),\n",
        "            nn.LeakyReLU(inplace=True),\n",
        "            nn.BatchNorm2d(self.hidden_size),\n",
        "\n",
        "            self._conv2d(self.hidden_size, self.hidden_size),\n",
        "            nn.LeakyReLU(inplace=True),\n",
        "            nn.BatchNorm2d(self.hidden_size),\n",
        "\n",
        "            self._conv2d(self.hidden_size, self.data_depth)\n",
        "        )\n",
        "\n",
        "        return [self.layers]\n",
        "\n",
        "    def __init__(self, data_depth, hidden_size):\n",
        "        super().__init__()\n",
        "        self.version = '1'\n",
        "        self.data_depth = data_depth\n",
        "        self.hidden_size = hidden_size\n",
        "\n",
        "        self._models = self._build_models()\n",
        "\n",
        "    def upgrade_legacy(self):\n",
        "        \"\"\"Transform legacy pretrained models to make them usable with new code versions.\"\"\"\n",
        "        # Transform to version 1\n",
        "        if not hasattr(self, 'version'):\n",
        "            self._models = [self.layers]\n",
        "\n",
        "            self.version = '1'\n",
        "\n",
        "    def forward(self, x):\n",
        "        x = self._models[0](x)\n",
        "\n",
        "        if len(self._models) > 1:\n",
        "            x_list = [x]\n",
        "            for layer in self._models[1:]:\n",
        "                x = layer(torch.cat(x_list, dim=1))\n",
        "                x_list.append(x)\n",
        "\n",
        "        return x\n",
        "\n",
        "class EnhancedDecoder(Decoder):\n",
        "    \"\"\"\n",
        "    The DenseDecoder module takes an steganographic image and attempts to decode\n",
        "    the embedded data tensor.\n",
        "\n",
        "    Input: (N, 3, H, W)\n",
        "    Output: (N, D, H, W)\n",
        "    \"\"\"\n",
        "    def _build_models(self):\n",
        "        self.conv1 = nn.Sequential(\n",
        "            self._conv2d(3, self.hidden_size),\n",
        "            nn.LeakyReLU(inplace=True),\n",
        "            nn.BatchNorm2d(self.hidden_size)\n",
        "        )\n",
        "\n",
        "        self.conv2 = nn.Sequential(\n",
        "            self._conv2d(self.hidden_size, self.hidden_size),\n",
        "            nn.LeakyReLU(inplace=True),\n",
        "            nn.BatchNorm2d(self.hidden_size)\n",
        "        )\n",
        "\n",
        "        self.conv3 = nn.Sequential(\n",
        "            self._conv2d(self.hidden_size * 2, self.hidden_size),\n",
        "            nn.LeakyReLU(inplace=True),\n",
        "            nn.BatchNorm2d(self.hidden_size)\n",
        "        )\n",
        "\n",
        "        self.conv4 = nn.Sequential(self._conv2d(self.hidden_size * 3, self.data_depth))\n",
        "\n",
        "        return self.conv1, self.conv2, self.conv3, self.conv4\n",
        "\n",
        "    def upgrade_legacy(self):\n",
        "        \"\"\"Transform legacy pretrained models to make them usable with new code versions.\"\"\"\n",
        "        # Transform to version 1\n",
        "        if not hasattr(self, 'version'):\n",
        "            self._models = [\n",
        "                self.conv1,\n",
        "                self.conv2,\n",
        "                self.conv3,\n",
        "                self.conv4\n",
        "            ]\n",
        "\n",
        "            self.version = '1'\n"
      ]
    },
    {
      "cell_type": "code",
      "execution_count": null,
      "metadata": {
        "colab": {
          "base_uri": "https://localhost:8080/"
        },
        "id": "1Iy9qO4PzAJB",
        "outputId": "83035825-eb41-4c21-b8a8-1252ea0d12b1"
      },
      "outputs": [
        {
          "name": "stdout",
          "output_type": "stream",
          "text": [
            "Using CUDA device\n"
          ]
        }
      ],
      "source": [
        "\n",
        "# Create the Steganography instance\n",
        "steganography = Steganography(6, EnhancedEncoder, EnhancedDecoder, Critic, hidden_size=32, cuda=True, verbose=True)"
      ]
    },
    {
      "cell_type": "code",
      "execution_count": null,
      "metadata": {
        "colab": {
          "base_uri": "https://localhost:8080/"
        },
        "outputId": "7773648c-2fa4-48fd-d969-4fb5986d6a7a",
        "id": "X0dsZIBNYb96"
      },
      "outputs": [
        {
          "name": "stdout",
          "output_type": "stream",
          "text": [
            "Epoch 1/100\n"
          ]
        },
        {
          "name": "stderr",
          "output_type": "stream",
          "text": [
            "100%|██████████| 200/200 [00:40<00:00,  4.98it/s]\n",
            "100%|██████████| 200/200 [00:36<00:00,  5.41it/s]\n",
            "100%|██████████| 25/25 [00:05<00:00,  4.76it/s]\n"
          ]
        },
        {
          "name": "stdout",
          "output_type": "stream",
          "text": [
            "Loss: 0.5609376430511475\n",
            "Accuracy: 0.6978851556777954\n",
            "SSIM: 0.9003749489784241\n",
            "PSNR: 36.97379112243652\n",
            "bpp: 2.374621868133545\n",
            "Epoch 2/100\n"
          ]
        },
        {
          "name": "stderr",
          "output_type": "stream",
          "text": [
            "100%|██████████| 200/200 [00:40<00:00,  4.97it/s]\n",
            "100%|██████████| 200/200 [00:37<00:00,  5.38it/s]\n",
            "100%|██████████| 25/25 [00:05<00:00,  4.79it/s]\n"
          ]
        },
        {
          "name": "stdout",
          "output_type": "stream",
          "text": [
            "Loss: 0.5260322093963623\n",
            "Accuracy: 0.675945520401001\n",
            "SSIM: 0.9398126602172852\n",
            "PSNR: 37.76282787322998\n",
            "bpp: 2.1113462448120117\n",
            "Epoch 3/100\n"
          ]
        },
        {
          "name": "stderr",
          "output_type": "stream",
          "text": [
            "100%|██████████| 200/200 [00:40<00:00,  4.94it/s]\n",
            "100%|██████████| 200/200 [00:37<00:00,  5.33it/s]\n",
            "100%|██████████| 25/25 [00:05<00:00,  4.72it/s]\n"
          ]
        },
        {
          "name": "stdout",
          "output_type": "stream",
          "text": [
            "Loss: 0.5011802911758423\n",
            "Accuracy: 0.6885130405426025\n",
            "SSIM: 0.9350634217262268\n",
            "PSNR: 36.58221244812012\n",
            "bpp: 2.2621564865112305\n",
            "Epoch 4/100\n"
          ]
        },
        {
          "name": "stderr",
          "output_type": "stream",
          "text": [
            "100%|██████████| 200/200 [00:40<00:00,  4.96it/s]\n",
            "100%|██████████| 200/200 [00:37<00:00,  5.35it/s]\n",
            "100%|██████████| 25/25 [00:05<00:00,  4.79it/s]\n"
          ]
        },
        {
          "name": "stdout",
          "output_type": "stream",
          "text": [
            "Loss: 0.45065394043922424\n",
            "Accuracy: 0.7203009128570557\n",
            "SSIM: 0.8694489598274231\n",
            "PSNR: 39.28822040557861\n",
            "bpp: 2.643610954284668\n",
            "Epoch 5/100\n"
          ]
        },
        {
          "name": "stderr",
          "output_type": "stream",
          "text": [
            "100%|██████████| 200/200 [00:40<00:00,  4.97it/s]\n",
            "100%|██████████| 200/200 [00:37<00:00,  5.35it/s]\n",
            "100%|██████████| 25/25 [00:05<00:00,  4.84it/s]\n"
          ]
        },
        {
          "name": "stdout",
          "output_type": "stream",
          "text": [
            "Loss: 0.46366408467292786\n",
            "Accuracy: 0.7102658748626709\n",
            "SSIM: 0.9002443552017212\n",
            "PSNR: 39.0832781791687\n",
            "bpp: 2.523190498352051\n",
            "Epoch 6/100\n"
          ]
        },
        {
          "name": "stderr",
          "output_type": "stream",
          "text": [
            "100%|██████████| 200/200 [00:40<00:00,  4.95it/s]\n",
            "100%|██████████| 200/200 [00:37<00:00,  5.34it/s]\n",
            "100%|██████████| 25/25 [00:05<00:00,  4.74it/s]\n"
          ]
        },
        {
          "name": "stdout",
          "output_type": "stream",
          "text": [
            "Loss: 0.4700341522693634\n",
            "Accuracy: 0.707728922367096\n",
            "SSIM: 0.9148204326629639\n",
            "PSNR: 36.311867237091064\n",
            "bpp: 2.4927470684051514\n",
            "Epoch 7/100\n"
          ]
        },
        {
          "name": "stderr",
          "output_type": "stream",
          "text": [
            "100%|██████████| 200/200 [00:40<00:00,  4.96it/s]\n",
            "100%|██████████| 200/200 [00:37<00:00,  5.33it/s]\n",
            "100%|██████████| 25/25 [00:05<00:00,  4.81it/s]\n"
          ]
        },
        {
          "name": "stdout",
          "output_type": "stream",
          "text": [
            "Loss: 0.46184301376342773\n",
            "Accuracy: 0.708862841129303\n",
            "SSIM: 0.8918730616569519\n",
            "PSNR: 38.86155366897583\n",
            "bpp: 2.5063540935516357\n",
            "Epoch 8/100\n"
          ]
        },
        {
          "name": "stderr",
          "output_type": "stream",
          "text": [
            "100%|██████████| 200/200 [00:40<00:00,  4.93it/s]\n",
            "100%|██████████| 200/200 [00:37<00:00,  5.38it/s]\n",
            "100%|██████████| 25/25 [00:05<00:00,  4.85it/s]\n"
          ]
        },
        {
          "name": "stdout",
          "output_type": "stream",
          "text": [
            "Loss: 0.5233152508735657\n",
            "Accuracy: 0.6782690286636353\n",
            "SSIM: 0.9529269337654114\n",
            "PSNR: 37.83334255218506\n",
            "bpp: 2.139228343963623\n",
            "Epoch 9/100\n"
          ]
        },
        {
          "name": "stderr",
          "output_type": "stream",
          "text": [
            "100%|██████████| 200/200 [00:40<00:00,  4.95it/s]\n",
            "100%|██████████| 200/200 [00:37<00:00,  5.36it/s]\n",
            "100%|██████████| 25/25 [00:05<00:00,  4.70it/s]\n"
          ]
        },
        {
          "name": "stdout",
          "output_type": "stream",
          "text": [
            "Loss: 0.4193917214870453\n",
            "Accuracy: 0.7291248440742493\n",
            "SSIM: 0.86089688539505\n",
            "PSNR: 37.67592906951904\n",
            "bpp: 2.749498128890991\n",
            "Epoch 10/100\n"
          ]
        },
        {
          "name": "stderr",
          "output_type": "stream",
          "text": [
            "100%|██████████| 200/200 [00:40<00:00,  4.93it/s]\n",
            "100%|██████████| 200/200 [00:37<00:00,  5.34it/s]\n",
            "100%|██████████| 25/25 [00:05<00:00,  4.81it/s]\n"
          ]
        },
        {
          "name": "stdout",
          "output_type": "stream",
          "text": [
            "Loss: 0.4353581964969635\n",
            "Accuracy: 0.7229748368263245\n",
            "SSIM: 0.8846636414527893\n",
            "PSNR: 39.22959327697754\n",
            "bpp: 2.6756980419158936\n",
            "Epoch 11/100\n"
          ]
        },
        {
          "name": "stderr",
          "output_type": "stream",
          "text": [
            "100%|██████████| 200/200 [00:40<00:00,  4.93it/s]\n",
            "100%|██████████| 200/200 [00:37<00:00,  5.40it/s]\n",
            "100%|██████████| 25/25 [00:05<00:00,  4.92it/s]\n"
          ]
        },
        {
          "name": "stdout",
          "output_type": "stream",
          "text": [
            "Loss: 0.4427378177642822\n",
            "Accuracy: 0.7175450325012207\n",
            "SSIM: 0.9083206057548523\n",
            "PSNR: 38.758203983306885\n",
            "bpp: 2.6105403900146484\n",
            "Epoch 12/100\n"
          ]
        },
        {
          "name": "stderr",
          "output_type": "stream",
          "text": [
            "100%|██████████| 200/200 [00:40<00:00,  4.91it/s]\n",
            "100%|██████████| 200/200 [00:37<00:00,  5.34it/s]\n",
            "100%|██████████| 25/25 [00:05<00:00,  4.74it/s]\n"
          ]
        },
        {
          "name": "stdout",
          "output_type": "stream",
          "text": [
            "Loss: 0.41912510991096497\n",
            "Accuracy: 0.7460934519767761\n",
            "SSIM: 0.8926478028297424\n",
            "PSNR: 38.93585920333862\n",
            "bpp: 2.9531214237213135\n",
            "Epoch 13/100\n"
          ]
        },
        {
          "name": "stderr",
          "output_type": "stream",
          "text": [
            "100%|██████████| 200/200 [00:40<00:00,  4.93it/s]\n",
            "100%|██████████| 200/200 [00:37<00:00,  5.36it/s]\n",
            "100%|██████████| 25/25 [00:05<00:00,  4.77it/s]\n"
          ]
        },
        {
          "name": "stdout",
          "output_type": "stream",
          "text": [
            "Loss: 0.3745344579219818\n",
            "Accuracy: 0.7696666121482849\n",
            "SSIM: 0.8720524907112122\n",
            "PSNR: 37.97908067703247\n",
            "bpp: 3.235999345779419\n",
            "Epoch 14/100\n"
          ]
        },
        {
          "name": "stderr",
          "output_type": "stream",
          "text": [
            "100%|██████████| 200/200 [00:40<00:00,  4.95it/s]\n",
            "100%|██████████| 200/200 [00:37<00:00,  5.35it/s]\n",
            "100%|██████████| 25/25 [00:05<00:00,  4.78it/s]\n"
          ]
        },
        {
          "name": "stdout",
          "output_type": "stream",
          "text": [
            "Loss: 0.3512090742588043\n",
            "Accuracy: 0.7801819443702698\n",
            "SSIM: 0.861953616142273\n",
            "PSNR: 37.869694232940674\n",
            "bpp: 3.3621833324432373\n",
            "Epoch 15/100\n"
          ]
        },
        {
          "name": "stderr",
          "output_type": "stream",
          "text": [
            "100%|██████████| 200/200 [00:40<00:00,  4.95it/s]\n",
            "100%|██████████| 200/200 [00:37<00:00,  5.36it/s]\n",
            "100%|██████████| 25/25 [00:05<00:00,  4.83it/s]\n"
          ]
        },
        {
          "name": "stdout",
          "output_type": "stream",
          "text": [
            "Loss: 0.3551957905292511\n",
            "Accuracy: 0.7776103019714355\n",
            "SSIM: 0.8873428106307983\n",
            "PSNR: 37.737183570861816\n",
            "bpp: 3.3313236236572266\n",
            "Epoch 16/100\n"
          ]
        },
        {
          "name": "stderr",
          "output_type": "stream",
          "text": [
            "100%|██████████| 200/200 [00:40<00:00,  4.90it/s]\n",
            "100%|██████████| 200/200 [00:37<00:00,  5.38it/s]\n",
            "100%|██████████| 25/25 [00:05<00:00,  4.83it/s]\n"
          ]
        },
        {
          "name": "stdout",
          "output_type": "stream",
          "text": [
            "Loss: 0.374128133058548\n",
            "Accuracy: 0.7661294341087341\n",
            "SSIM: 0.8781755566596985\n",
            "PSNR: 35.12872934341431\n",
            "bpp: 3.1935532093048096\n",
            "Epoch 17/100\n"
          ]
        },
        {
          "name": "stderr",
          "output_type": "stream",
          "text": [
            "100%|██████████| 200/200 [00:40<00:00,  4.91it/s]\n",
            "100%|██████████| 200/200 [00:37<00:00,  5.33it/s]\n",
            "100%|██████████| 25/25 [00:05<00:00,  4.83it/s]\n"
          ]
        },
        {
          "name": "stdout",
          "output_type": "stream",
          "text": [
            "Loss: 0.31694716215133667\n",
            "Accuracy: 0.7990734577178955\n",
            "SSIM: 0.8028157353401184\n",
            "PSNR: 38.52468729019165\n",
            "bpp: 3.588881492614746\n",
            "Epoch 18/100\n"
          ]
        },
        {
          "name": "stderr",
          "output_type": "stream",
          "text": [
            "100%|██████████| 200/200 [00:40<00:00,  4.93it/s]\n",
            "100%|██████████| 200/200 [00:37<00:00,  5.33it/s]\n",
            "100%|██████████| 25/25 [00:05<00:00,  4.44it/s]\n"
          ]
        },
        {
          "name": "stdout",
          "output_type": "stream",
          "text": [
            "Loss: 0.3776693642139435\n",
            "Accuracy: 0.7659915089607239\n",
            "SSIM: 0.9094690084457397\n",
            "PSNR: 37.43439197540283\n",
            "bpp: 3.1918981075286865\n",
            "Epoch 19/100\n"
          ]
        },
        {
          "name": "stderr",
          "output_type": "stream",
          "text": [
            "100%|██████████| 200/200 [00:40<00:00,  4.93it/s]\n",
            "100%|██████████| 200/200 [00:37<00:00,  5.37it/s]\n",
            "100%|██████████| 25/25 [00:05<00:00,  4.73it/s]\n"
          ]
        },
        {
          "name": "stdout",
          "output_type": "stream",
          "text": [
            "Loss: 0.3758305311203003\n",
            "Accuracy: 0.7685883045196533\n",
            "SSIM: 0.8873171210289001\n",
            "PSNR: 38.476622104644775\n",
            "bpp: 3.22305965423584\n",
            "Epoch 20/100\n"
          ]
        },
        {
          "name": "stderr",
          "output_type": "stream",
          "text": [
            "100%|██████████| 200/200 [00:40<00:00,  4.92it/s]\n",
            "100%|██████████| 200/200 [00:37<00:00,  5.31it/s]\n",
            "100%|██████████| 25/25 [00:05<00:00,  4.77it/s]\n"
          ]
        },
        {
          "name": "stdout",
          "output_type": "stream",
          "text": [
            "Loss: 0.34015706181526184\n",
            "Accuracy: 0.7854796648025513\n",
            "SSIM: 0.8998652696609497\n",
            "PSNR: 38.68051290512085\n",
            "bpp: 3.4257559776306152\n",
            "Epoch 21/100\n"
          ]
        },
        {
          "name": "stderr",
          "output_type": "stream",
          "text": [
            "100%|██████████| 200/200 [00:40<00:00,  4.92it/s]\n",
            "100%|██████████| 200/200 [00:37<00:00,  5.34it/s]\n",
            "100%|██████████| 25/25 [00:05<00:00,  4.81it/s]\n"
          ]
        },
        {
          "name": "stdout",
          "output_type": "stream",
          "text": [
            "Loss: 0.3353465497493744\n",
            "Accuracy: 0.796531617641449\n",
            "SSIM: 0.8914086818695068\n",
            "PSNR: 38.37794065475464\n",
            "bpp: 3.5583794116973877\n",
            "Epoch 22/100\n"
          ]
        },
        {
          "name": "stderr",
          "output_type": "stream",
          "text": [
            "100%|██████████| 200/200 [00:40<00:00,  4.92it/s]\n",
            "100%|██████████| 200/200 [00:37<00:00,  5.34it/s]\n",
            "100%|██████████| 25/25 [00:05<00:00,  4.77it/s]\n"
          ]
        },
        {
          "name": "stdout",
          "output_type": "stream",
          "text": [
            "Loss: 0.34073540568351746\n",
            "Accuracy: 0.8029018640518188\n",
            "SSIM: 0.8693156838417053\n",
            "PSNR: 38.60921621322632\n",
            "bpp: 3.634822368621826\n",
            "Epoch 23/100\n"
          ]
        },
        {
          "name": "stderr",
          "output_type": "stream",
          "text": [
            "100%|██████████| 200/200 [00:40<00:00,  4.89it/s]\n",
            "100%|██████████| 200/200 [00:37<00:00,  5.34it/s]\n",
            "100%|██████████| 25/25 [00:05<00:00,  4.74it/s]\n"
          ]
        },
        {
          "name": "stdout",
          "output_type": "stream",
          "text": [
            "Loss: 0.26930466294288635\n",
            "Accuracy: 0.8482044339179993\n",
            "SSIM: 0.8377780914306641\n",
            "PSNR: 37.375569343566895\n",
            "bpp: 4.178453207015991\n",
            "Epoch 24/100\n"
          ]
        },
        {
          "name": "stderr",
          "output_type": "stream",
          "text": [
            "100%|██████████| 200/200 [00:40<00:00,  4.92it/s]\n",
            "100%|██████████| 200/200 [00:37<00:00,  5.30it/s]\n",
            "100%|██████████| 25/25 [00:05<00:00,  4.75it/s]\n"
          ]
        },
        {
          "name": "stdout",
          "output_type": "stream",
          "text": [
            "Loss: 0.30049559473991394\n",
            "Accuracy: 0.8404359817504883\n",
            "SSIM: 0.8124850392341614\n",
            "PSNR: 37.31842279434204\n",
            "bpp: 4.085231781005859\n",
            "Epoch 25/100\n"
          ]
        },
        {
          "name": "stderr",
          "output_type": "stream",
          "text": [
            "100%|██████████| 200/200 [00:40<00:00,  4.91it/s]\n",
            "100%|██████████| 200/200 [00:37<00:00,  5.30it/s]\n",
            "100%|██████████| 25/25 [00:05<00:00,  4.70it/s]\n"
          ]
        },
        {
          "name": "stdout",
          "output_type": "stream",
          "text": [
            "Loss: 0.2972261309623718\n",
            "Accuracy: 0.8331263065338135\n",
            "SSIM: 0.8846533894538879\n",
            "PSNR: 37.21827507019043\n",
            "bpp: 3.9975156784057617\n",
            "Epoch 26/100\n"
          ]
        },
        {
          "name": "stderr",
          "output_type": "stream",
          "text": [
            "100%|██████████| 200/200 [00:40<00:00,  4.93it/s]\n",
            "100%|██████████| 200/200 [00:37<00:00,  5.34it/s]\n",
            "100%|██████████| 25/25 [00:05<00:00,  4.69it/s]\n"
          ]
        },
        {
          "name": "stdout",
          "output_type": "stream",
          "text": [
            "Loss: 0.2717245817184448\n",
            "Accuracy: 0.8443746566772461\n",
            "SSIM: 0.8452575206756592\n",
            "PSNR: 37.032976150512695\n",
            "bpp: 4.132495880126953\n",
            "Epoch 27/100\n"
          ]
        },
        {
          "name": "stderr",
          "output_type": "stream",
          "text": [
            "100%|██████████| 200/200 [00:40<00:00,  4.90it/s]\n",
            "100%|██████████| 200/200 [00:37<00:00,  5.33it/s]\n",
            "100%|██████████| 25/25 [00:05<00:00,  4.82it/s]\n"
          ]
        },
        {
          "name": "stdout",
          "output_type": "stream",
          "text": [
            "Loss: 0.2761393189430237\n",
            "Accuracy: 0.8457468748092651\n",
            "SSIM: 0.8744648694992065\n",
            "PSNR: 35.864906311035156\n",
            "bpp: 4.148962497711182\n",
            "Epoch 28/100\n"
          ]
        },
        {
          "name": "stderr",
          "output_type": "stream",
          "text": [
            "100%|██████████| 200/200 [00:40<00:00,  4.89it/s]\n",
            "100%|██████████| 200/200 [00:37<00:00,  5.35it/s]\n",
            "100%|██████████| 25/25 [00:05<00:00,  4.72it/s]\n"
          ]
        },
        {
          "name": "stdout",
          "output_type": "stream",
          "text": [
            "Loss: 0.2526267170906067\n",
            "Accuracy: 0.8591528534889221\n",
            "SSIM: 0.8351109027862549\n",
            "PSNR: 37.737224102020264\n",
            "bpp: 4.309834241867065\n",
            "Epoch 29/100\n"
          ]
        },
        {
          "name": "stderr",
          "output_type": "stream",
          "text": [
            "100%|██████████| 200/200 [00:40<00:00,  4.89it/s]\n",
            "100%|██████████| 200/200 [00:37<00:00,  5.35it/s]\n",
            "100%|██████████| 25/25 [00:05<00:00,  4.71it/s]\n"
          ]
        },
        {
          "name": "stdout",
          "output_type": "stream",
          "text": [
            "Loss: 0.3167228400707245\n",
            "Accuracy: 0.8247556686401367\n",
            "SSIM: 0.8974131941795349\n",
            "PSNR: 35.47971487045288\n",
            "bpp: 3.8970680236816406\n",
            "Epoch 30/100\n"
          ]
        },
        {
          "name": "stderr",
          "output_type": "stream",
          "text": [
            "100%|██████████| 200/200 [00:40<00:00,  4.90it/s]\n",
            "100%|██████████| 200/200 [00:37<00:00,  5.31it/s]\n",
            "100%|██████████| 25/25 [00:05<00:00,  4.84it/s]\n"
          ]
        },
        {
          "name": "stdout",
          "output_type": "stream",
          "text": [
            "Loss: 0.2652044892311096\n",
            "Accuracy: 0.849446713924408\n",
            "SSIM: 0.8874003887176514\n",
            "PSNR: 37.51137733459473\n",
            "bpp: 4.1933605670928955\n",
            "Epoch 31/100\n"
          ]
        },
        {
          "name": "stderr",
          "output_type": "stream",
          "text": [
            "100%|██████████| 200/200 [00:40<00:00,  4.90it/s]\n",
            "100%|██████████| 200/200 [00:37<00:00,  5.30it/s]\n",
            "100%|██████████| 25/25 [00:05<00:00,  4.71it/s]\n"
          ]
        },
        {
          "name": "stdout",
          "output_type": "stream",
          "text": [
            "Loss: 0.30008530616760254\n",
            "Accuracy: 0.8403539657592773\n",
            "SSIM: 0.8467836976051331\n",
            "PSNR: 38.04671764373779\n",
            "bpp: 4.084247589111328\n",
            "Epoch 32/100\n"
          ]
        },
        {
          "name": "stderr",
          "output_type": "stream",
          "text": [
            "100%|██████████| 200/200 [00:41<00:00,  4.80it/s]\n",
            "100%|██████████| 200/200 [00:37<00:00,  5.28it/s]\n",
            "100%|██████████| 25/25 [00:05<00:00,  4.81it/s]\n"
          ]
        },
        {
          "name": "stdout",
          "output_type": "stream",
          "text": [
            "Loss: 0.3000921308994293\n",
            "Accuracy: 0.8286043405532837\n",
            "SSIM: 0.8742584586143494\n",
            "PSNR: 37.59864091873169\n",
            "bpp: 3.9432520866394043\n",
            "Epoch 33/100\n"
          ]
        },
        {
          "name": "stderr",
          "output_type": "stream",
          "text": [
            "100%|██████████| 200/200 [00:40<00:00,  4.89it/s]\n",
            "100%|██████████| 200/200 [00:37<00:00,  5.35it/s]\n",
            "100%|██████████| 25/25 [00:05<00:00,  4.75it/s]\n"
          ]
        },
        {
          "name": "stdout",
          "output_type": "stream",
          "text": [
            "Loss: 0.29843077063560486\n",
            "Accuracy: 0.8305298089981079\n",
            "SSIM: 0.9236274361610413\n",
            "PSNR: 35.87620973587036\n",
            "bpp: 3.966357707977295\n",
            "Epoch 34/100\n"
          ]
        },
        {
          "name": "stderr",
          "output_type": "stream",
          "text": [
            "100%|██████████| 200/200 [00:41<00:00,  4.86it/s]\n",
            "100%|██████████| 200/200 [00:38<00:00,  5.17it/s]\n",
            "100%|██████████| 25/25 [00:05<00:00,  4.67it/s]\n"
          ]
        },
        {
          "name": "stdout",
          "output_type": "stream",
          "text": [
            "Loss: 0.3098411560058594\n",
            "Accuracy: 0.8245370388031006\n",
            "SSIM: 0.8938009738922119\n",
            "PSNR: 37.72501468658447\n",
            "bpp: 3.894444465637207\n",
            "Epoch 35/100\n"
          ]
        },
        {
          "name": "stderr",
          "output_type": "stream",
          "text": [
            "100%|██████████| 200/200 [00:40<00:00,  4.88it/s]\n",
            "100%|██████████| 200/200 [00:37<00:00,  5.37it/s]\n",
            "100%|██████████| 25/25 [00:05<00:00,  4.71it/s]\n"
          ]
        },
        {
          "name": "stdout",
          "output_type": "stream",
          "text": [
            "Loss: 0.24324515461921692\n",
            "Accuracy: 0.8591688871383667\n",
            "SSIM: 0.8103639483451843\n",
            "PSNR: 36.48054122924805\n",
            "bpp: 4.3100266456604\n",
            "Epoch 36/100\n"
          ]
        },
        {
          "name": "stderr",
          "output_type": "stream",
          "text": [
            "100%|██████████| 200/200 [00:40<00:00,  4.88it/s]\n",
            "100%|██████████| 200/200 [00:37<00:00,  5.35it/s]\n",
            "100%|██████████| 25/25 [00:05<00:00,  4.64it/s]\n"
          ]
        },
        {
          "name": "stdout",
          "output_type": "stream",
          "text": [
            "Loss: 0.2816573679447174\n",
            "Accuracy: 0.8384429812431335\n",
            "SSIM: 0.8933167457580566\n",
            "PSNR: 35.50504922866821\n",
            "bpp: 4.0613157749176025\n",
            "Epoch 37/100\n"
          ]
        },
        {
          "name": "stderr",
          "output_type": "stream",
          "text": [
            "100%|██████████| 200/200 [00:43<00:00,  4.65it/s]\n",
            "100%|██████████| 200/200 [00:40<00:00,  4.89it/s]\n",
            "100%|██████████| 25/25 [00:05<00:00,  4.35it/s]\n"
          ]
        },
        {
          "name": "stdout",
          "output_type": "stream",
          "text": [
            "Loss: 0.2638525664806366\n",
            "Accuracy: 0.8524736166000366\n",
            "SSIM: 0.8939295411109924\n",
            "PSNR: 37.5571608543396\n",
            "bpp: 4.2296833992004395\n",
            "Epoch 38/100\n"
          ]
        },
        {
          "name": "stderr",
          "output_type": "stream",
          "text": [
            "100%|██████████| 200/200 [00:43<00:00,  4.63it/s]\n",
            "100%|██████████| 200/200 [00:39<00:00,  5.03it/s]\n",
            "100%|██████████| 25/25 [00:05<00:00,  4.41it/s]\n"
          ]
        },
        {
          "name": "stdout",
          "output_type": "stream",
          "text": [
            "Loss: 0.27742329239845276\n",
            "Accuracy: 0.8391322493553162\n",
            "SSIM: 0.8912490606307983\n",
            "PSNR: 37.10185766220093\n",
            "bpp: 4.069586992263794\n",
            "Epoch 39/100\n"
          ]
        },
        {
          "name": "stderr",
          "output_type": "stream",
          "text": [
            "100%|██████████| 200/200 [00:42<00:00,  4.66it/s]\n",
            "100%|██████████| 200/200 [00:39<00:00,  5.07it/s]\n",
            "100%|██████████| 25/25 [00:05<00:00,  4.44it/s]\n"
          ]
        },
        {
          "name": "stdout",
          "output_type": "stream",
          "text": [
            "Loss: 0.2454782873392105\n",
            "Accuracy: 0.8570431470870972\n",
            "SSIM: 0.8743610382080078\n",
            "PSNR: 37.89047718048096\n",
            "bpp: 4.284517765045166\n",
            "Epoch 40/100\n"
          ]
        },
        {
          "name": "stderr",
          "output_type": "stream",
          "text": [
            "100%|██████████| 200/200 [00:42<00:00,  4.74it/s]\n",
            "100%|██████████| 200/200 [00:39<00:00,  5.06it/s]\n",
            "100%|██████████| 25/25 [00:05<00:00,  4.45it/s]\n"
          ]
        },
        {
          "name": "stdout",
          "output_type": "stream",
          "text": [
            "Loss: 0.24957603216171265\n",
            "Accuracy: 0.8591361045837402\n",
            "SSIM: 0.8732853531837463\n",
            "PSNR: 37.966673374176025\n",
            "bpp: 4.309633255004883\n",
            "Epoch 41/100\n"
          ]
        },
        {
          "name": "stderr",
          "output_type": "stream",
          "text": [
            "100%|██████████| 200/200 [00:42<00:00,  4.75it/s]\n",
            "100%|██████████| 200/200 [00:39<00:00,  5.10it/s]\n",
            "100%|██████████| 25/25 [00:05<00:00,  4.45it/s]\n"
          ]
        },
        {
          "name": "stdout",
          "output_type": "stream",
          "text": [
            "Loss: 0.25008317828178406\n",
            "Accuracy: 0.8575803637504578\n",
            "SSIM: 0.866172194480896\n",
            "PSNR: 37.87145376205444\n",
            "bpp: 4.290964365005493\n",
            "Epoch 42/100\n"
          ]
        },
        {
          "name": "stderr",
          "output_type": "stream",
          "text": [
            "100%|██████████| 200/200 [00:42<00:00,  4.74it/s]\n",
            "100%|██████████| 200/200 [00:38<00:00,  5.14it/s]\n",
            "100%|██████████| 25/25 [00:05<00:00,  4.70it/s]\n"
          ]
        },
        {
          "name": "stdout",
          "output_type": "stream",
          "text": [
            "Loss: 0.25137028098106384\n",
            "Accuracy: 0.8571785092353821\n",
            "SSIM: 0.8835869431495667\n",
            "PSNR: 37.97050952911377\n",
            "bpp: 4.286142110824585\n",
            "Epoch 43/100\n"
          ]
        },
        {
          "name": "stderr",
          "output_type": "stream",
          "text": [
            "100%|██████████| 200/200 [00:41<00:00,  4.78it/s]\n",
            "100%|██████████| 200/200 [00:39<00:00,  5.05it/s]\n",
            "100%|██████████| 25/25 [00:05<00:00,  4.19it/s]\n"
          ]
        },
        {
          "name": "stdout",
          "output_type": "stream",
          "text": [
            "Loss: 0.2816208600997925\n",
            "Accuracy: 0.8479780554771423\n",
            "SSIM: 0.8367535471916199\n",
            "PSNR: 36.1943793296814\n",
            "bpp: 4.175736665725708\n",
            "Epoch 44/100\n"
          ]
        },
        {
          "name": "stderr",
          "output_type": "stream",
          "text": [
            "100%|██████████| 200/200 [00:43<00:00,  4.57it/s]\n",
            "100%|██████████| 200/200 [00:40<00:00,  4.90it/s]\n",
            "100%|██████████| 25/25 [00:05<00:00,  4.20it/s]\n"
          ]
        },
        {
          "name": "stdout",
          "output_type": "stream",
          "text": [
            "Loss: 0.26019686460494995\n",
            "Accuracy: 0.8503793478012085\n",
            "SSIM: 0.904159665107727\n",
            "PSNR: 37.40176200866699\n",
            "bpp: 4.204552173614502\n",
            "Epoch 45/100\n"
          ]
        },
        {
          "name": "stderr",
          "output_type": "stream",
          "text": [
            "100%|██████████| 200/200 [00:43<00:00,  4.59it/s]\n",
            "100%|██████████| 200/200 [00:40<00:00,  4.96it/s]\n",
            "100%|██████████| 25/25 [00:05<00:00,  4.27it/s]\n"
          ]
        },
        {
          "name": "stdout",
          "output_type": "stream",
          "text": [
            "Loss: 0.2589617371559143\n",
            "Accuracy: 0.8609416484832764\n",
            "SSIM: 0.80194491147995\n",
            "PSNR: 38.061461448669434\n",
            "bpp: 4.331299781799316\n",
            "Epoch 46/100\n"
          ]
        },
        {
          "name": "stderr",
          "output_type": "stream",
          "text": [
            "100%|██████████| 200/200 [00:43<00:00,  4.62it/s]\n",
            "100%|██████████| 200/200 [00:39<00:00,  5.12it/s]\n",
            "100%|██████████| 25/25 [00:05<00:00,  4.77it/s]\n"
          ]
        },
        {
          "name": "stdout",
          "output_type": "stream",
          "text": [
            "Loss: 0.27259284257888794\n",
            "Accuracy: 0.8471338152885437\n",
            "SSIM: 0.9082651138305664\n",
            "PSNR: 37.58834362030029\n",
            "bpp: 4.165605783462524\n",
            "Epoch 47/100\n"
          ]
        },
        {
          "name": "stderr",
          "output_type": "stream",
          "text": [
            "100%|██████████| 200/200 [00:41<00:00,  4.85it/s]\n",
            "100%|██████████| 200/200 [00:38<00:00,  5.17it/s]\n",
            "100%|██████████| 25/25 [00:05<00:00,  4.56it/s]\n"
          ]
        },
        {
          "name": "stdout",
          "output_type": "stream",
          "text": [
            "Loss: 0.22920525074005127\n",
            "Accuracy: 0.8684767484664917\n",
            "SSIM: 0.8472957015037537\n",
            "PSNR: 38.428711891174316\n",
            "bpp: 4.4217209815979\n",
            "Epoch 48/100\n"
          ]
        },
        {
          "name": "stderr",
          "output_type": "stream",
          "text": [
            "100%|██████████| 200/200 [00:41<00:00,  4.84it/s]\n",
            "100%|██████████| 200/200 [00:37<00:00,  5.32it/s]\n",
            "100%|██████████| 25/25 [00:05<00:00,  4.74it/s]\n"
          ]
        },
        {
          "name": "stdout",
          "output_type": "stream",
          "text": [
            "Loss: 0.3291136920452118\n",
            "Accuracy: 0.8292987942695618\n",
            "SSIM: 0.8430322408676147\n",
            "PSNR: 36.35442018508911\n",
            "bpp: 3.951585531234741\n",
            "Epoch 49/100\n"
          ]
        },
        {
          "name": "stderr",
          "output_type": "stream",
          "text": [
            "100%|██████████| 200/200 [00:41<00:00,  4.86it/s]\n",
            "100%|██████████| 200/200 [00:37<00:00,  5.31it/s]\n",
            "100%|██████████| 25/25 [00:05<00:00,  4.71it/s]\n"
          ]
        },
        {
          "name": "stdout",
          "output_type": "stream",
          "text": [
            "Loss: 0.2901305854320526\n",
            "Accuracy: 0.8357111811637878\n",
            "SSIM: 0.8960392475128174\n",
            "PSNR: 36.81106090545654\n",
            "bpp: 4.028534173965454\n",
            "Epoch 50/100\n"
          ]
        },
        {
          "name": "stderr",
          "output_type": "stream",
          "text": [
            "100%|██████████| 200/200 [00:41<00:00,  4.86it/s]\n",
            "100%|██████████| 200/200 [00:37<00:00,  5.32it/s]\n",
            "100%|██████████| 25/25 [00:05<00:00,  4.63it/s]\n"
          ]
        },
        {
          "name": "stdout",
          "output_type": "stream",
          "text": [
            "Loss: 0.24534155428409576\n",
            "Accuracy: 0.859849214553833\n",
            "SSIM: 0.8377214074134827\n",
            "PSNR: 36.37333154678345\n",
            "bpp: 4.318190574645996\n",
            "Epoch 51/100\n"
          ]
        },
        {
          "name": "stderr",
          "output_type": "stream",
          "text": [
            "100%|██████████| 200/200 [00:41<00:00,  4.83it/s]\n",
            "100%|██████████| 200/200 [00:37<00:00,  5.30it/s]\n",
            "100%|██████████| 25/25 [00:05<00:00,  4.67it/s]\n"
          ]
        },
        {
          "name": "stdout",
          "output_type": "stream",
          "text": [
            "Loss: 0.2547841966152191\n",
            "Accuracy: 0.8591476678848267\n",
            "SSIM: 0.8783731460571289\n",
            "PSNR: 38.26177358627319\n",
            "bpp: 4.30977201461792\n",
            "Epoch 52/100\n"
          ]
        },
        {
          "name": "stderr",
          "output_type": "stream",
          "text": [
            "100%|██████████| 200/200 [00:41<00:00,  4.85it/s]\n",
            "100%|██████████| 200/200 [00:37<00:00,  5.32it/s]\n",
            "100%|██████████| 25/25 [00:05<00:00,  4.65it/s]\n"
          ]
        },
        {
          "name": "stdout",
          "output_type": "stream",
          "text": [
            "Loss: 0.29068291187286377\n",
            "Accuracy: 0.836622953414917\n",
            "SSIM: 0.9210006594657898\n",
            "PSNR: 37.4606990814209\n",
            "bpp: 4.039475440979004\n",
            "Epoch 53/100\n"
          ]
        },
        {
          "name": "stderr",
          "output_type": "stream",
          "text": [
            "100%|██████████| 200/200 [00:41<00:00,  4.84it/s]\n",
            "100%|██████████| 200/200 [00:37<00:00,  5.30it/s]\n",
            "100%|██████████| 25/25 [00:05<00:00,  4.81it/s]\n"
          ]
        },
        {
          "name": "stdout",
          "output_type": "stream",
          "text": [
            "Loss: 0.24595968425273895\n",
            "Accuracy: 0.8604841828346252\n",
            "SSIM: 0.9183255434036255\n",
            "PSNR: 37.46408700942993\n",
            "bpp: 4.325810194015503\n",
            "Epoch 54/100\n"
          ]
        },
        {
          "name": "stderr",
          "output_type": "stream",
          "text": [
            "100%|██████████| 200/200 [00:41<00:00,  4.85it/s]\n",
            "100%|██████████| 200/200 [00:37<00:00,  5.31it/s]\n",
            "100%|██████████| 25/25 [00:05<00:00,  4.71it/s]\n"
          ]
        },
        {
          "name": "stdout",
          "output_type": "stream",
          "text": [
            "Loss: 0.28173813223838806\n",
            "Accuracy: 0.8427169919013977\n",
            "SSIM: 0.9027354121208191\n",
            "PSNR: 37.22946882247925\n",
            "bpp: 4.1126039028167725\n",
            "Epoch 55/100\n"
          ]
        },
        {
          "name": "stderr",
          "output_type": "stream",
          "text": [
            "100%|██████████| 200/200 [00:41<00:00,  4.84it/s]\n",
            "100%|██████████| 200/200 [00:37<00:00,  5.35it/s]\n",
            "100%|██████████| 25/25 [00:05<00:00,  4.89it/s]\n"
          ]
        },
        {
          "name": "stdout",
          "output_type": "stream",
          "text": [
            "Loss: 0.21997994184494019\n",
            "Accuracy: 0.8734375238418579\n",
            "SSIM: 0.8203275799751282\n",
            "PSNR: 37.715086936950684\n",
            "bpp: 4.481250286102295\n",
            "Epoch 56/100\n"
          ]
        },
        {
          "name": "stderr",
          "output_type": "stream",
          "text": [
            "100%|██████████| 200/200 [00:40<00:00,  4.91it/s]\n",
            "100%|██████████| 200/200 [00:37<00:00,  5.36it/s]\n",
            "100%|██████████| 25/25 [00:05<00:00,  4.83it/s]\n"
          ]
        },
        {
          "name": "stdout",
          "output_type": "stream",
          "text": [
            "Loss: 0.2535551190376282\n",
            "Accuracy: 0.8592599034309387\n",
            "SSIM: 0.8888499140739441\n",
            "PSNR: 37.18061685562134\n",
            "bpp: 4.311118841171265\n",
            "Epoch 57/100\n"
          ]
        },
        {
          "name": "stderr",
          "output_type": "stream",
          "text": [
            "100%|██████████| 200/200 [00:40<00:00,  4.91it/s]\n",
            "100%|██████████| 200/200 [00:37<00:00,  5.39it/s]\n",
            "100%|██████████| 25/25 [00:05<00:00,  4.83it/s]\n"
          ]
        },
        {
          "name": "stdout",
          "output_type": "stream",
          "text": [
            "Loss: 0.2536608576774597\n",
            "Accuracy: 0.8685686588287354\n",
            "SSIM: 0.8916983604431152\n",
            "PSNR: 37.50364542007446\n",
            "bpp: 4.422823905944824\n",
            "Epoch 58/100\n"
          ]
        },
        {
          "name": "stderr",
          "output_type": "stream",
          "text": [
            "100%|██████████| 200/200 [00:40<00:00,  4.93it/s]\n",
            "100%|██████████| 200/200 [00:37<00:00,  5.38it/s]\n",
            "100%|██████████| 25/25 [00:05<00:00,  4.83it/s]\n"
          ]
        },
        {
          "name": "stdout",
          "output_type": "stream",
          "text": [
            "Loss: 0.3283969759941101\n",
            "Accuracy: 0.8314657211303711\n",
            "SSIM: 0.8540680408477783\n",
            "PSNR: 35.37891387939453\n",
            "bpp: 3.977588653564453\n",
            "Epoch 59/100\n"
          ]
        },
        {
          "name": "stderr",
          "output_type": "stream",
          "text": [
            "100%|██████████| 200/200 [00:40<00:00,  4.90it/s]\n",
            "100%|██████████| 200/200 [00:37<00:00,  5.32it/s]\n",
            "100%|██████████| 25/25 [00:05<00:00,  4.69it/s]\n"
          ]
        },
        {
          "name": "stdout",
          "output_type": "stream",
          "text": [
            "Loss: 0.276462197303772\n",
            "Accuracy: 0.8583506941795349\n",
            "SSIM: 0.8934355974197388\n",
            "PSNR: 36.681063175201416\n",
            "bpp: 4.300208330154419\n",
            "Epoch 60/100\n"
          ]
        },
        {
          "name": "stderr",
          "output_type": "stream",
          "text": [
            "100%|██████████| 200/200 [00:40<00:00,  4.90it/s]\n",
            "100%|██████████| 200/200 [00:37<00:00,  5.34it/s]\n",
            "100%|██████████| 25/25 [00:05<00:00,  4.70it/s]\n"
          ]
        },
        {
          "name": "stdout",
          "output_type": "stream",
          "text": [
            "Loss: 0.2339087873697281\n",
            "Accuracy: 0.8831230401992798\n",
            "SSIM: 0.881541907787323\n",
            "PSNR: 37.37328290939331\n",
            "bpp: 4.597476482391357\n",
            "Epoch 61/100\n"
          ]
        },
        {
          "name": "stderr",
          "output_type": "stream",
          "text": [
            "100%|██████████| 200/200 [00:40<00:00,  4.91it/s]\n",
            "100%|██████████| 200/200 [00:37<00:00,  5.37it/s]\n",
            "100%|██████████| 25/25 [00:05<00:00,  4.74it/s]\n"
          ]
        },
        {
          "name": "stdout",
          "output_type": "stream",
          "text": [
            "Loss: 0.25699105858802795\n",
            "Accuracy: 0.871711015701294\n",
            "SSIM: 0.8853397965431213\n",
            "PSNR: 36.274592876434326\n",
            "bpp: 4.460532188415527\n",
            "Epoch 62/100\n"
          ]
        },
        {
          "name": "stderr",
          "output_type": "stream",
          "text": [
            "100%|██████████| 200/200 [00:40<00:00,  4.91it/s]\n",
            "100%|██████████| 200/200 [00:37<00:00,  5.38it/s]\n",
            "100%|██████████| 25/25 [00:05<00:00,  4.78it/s]\n"
          ]
        },
        {
          "name": "stdout",
          "output_type": "stream",
          "text": [
            "Loss: 0.2310638129711151\n",
            "Accuracy: 0.8839483857154846\n",
            "SSIM: 0.8704569935798645\n",
            "PSNR: 36.74762725830078\n",
            "bpp: 4.607380628585815\n",
            "Epoch 63/100\n"
          ]
        },
        {
          "name": "stderr",
          "output_type": "stream",
          "text": [
            "100%|██████████| 200/200 [00:40<00:00,  4.91it/s]\n",
            "100%|██████████| 200/200 [00:37<00:00,  5.39it/s]\n",
            "100%|██████████| 25/25 [00:05<00:00,  4.74it/s]\n"
          ]
        },
        {
          "name": "stdout",
          "output_type": "stream",
          "text": [
            "Loss: 0.18583257496356964\n",
            "Accuracy: 0.911078929901123\n",
            "SSIM: 0.8200758695602417\n",
            "PSNR: 37.94487476348877\n",
            "bpp: 4.932947158813477\n",
            "Epoch 64/100\n"
          ]
        },
        {
          "name": "stderr",
          "output_type": "stream",
          "text": [
            "100%|██████████| 200/200 [00:40<00:00,  4.91it/s]\n",
            "100%|██████████| 200/200 [00:37<00:00,  5.39it/s]\n",
            "100%|██████████| 25/25 [00:05<00:00,  4.78it/s]\n"
          ]
        },
        {
          "name": "stdout",
          "output_type": "stream",
          "text": [
            "Loss: 0.21485789120197296\n",
            "Accuracy: 0.895447850227356\n",
            "SSIM: 0.8760101795196533\n",
            "PSNR: 36.33522033691406\n",
            "bpp: 4.7453742027282715\n",
            "Epoch 65/100\n"
          ]
        },
        {
          "name": "stderr",
          "output_type": "stream",
          "text": [
            "100%|██████████| 200/200 [00:40<00:00,  4.90it/s]\n",
            "100%|██████████| 200/200 [00:37<00:00,  5.37it/s]\n",
            "100%|██████████| 25/25 [00:05<00:00,  4.84it/s]\n"
          ]
        },
        {
          "name": "stdout",
          "output_type": "stream",
          "text": [
            "Loss: 0.18853437900543213\n",
            "Accuracy: 0.914921224117279\n",
            "SSIM: 0.8801464438438416\n",
            "PSNR: 36.461501121520996\n",
            "bpp: 4.979054689407349\n",
            "Epoch 66/100\n"
          ]
        },
        {
          "name": "stderr",
          "output_type": "stream",
          "text": [
            "100%|██████████| 200/200 [00:41<00:00,  4.88it/s]\n",
            "100%|██████████| 200/200 [00:37<00:00,  5.37it/s]\n",
            "100%|██████████| 25/25 [00:05<00:00,  4.74it/s]\n"
          ]
        },
        {
          "name": "stdout",
          "output_type": "stream",
          "text": [
            "Loss: 0.24623745679855347\n",
            "Accuracy: 0.8921032547950745\n",
            "SSIM: 0.8742750287055969\n",
            "PSNR: 35.01931667327881\n",
            "bpp: 4.7052390575408936\n",
            "Epoch 67/100\n"
          ]
        },
        {
          "name": "stderr",
          "output_type": "stream",
          "text": [
            "100%|██████████| 200/200 [00:40<00:00,  4.89it/s]\n",
            "100%|██████████| 200/200 [00:37<00:00,  5.36it/s]\n",
            "100%|██████████| 25/25 [00:05<00:00,  4.84it/s]\n"
          ]
        },
        {
          "name": "stdout",
          "output_type": "stream",
          "text": [
            "Loss: 0.20223315060138702\n",
            "Accuracy: 0.9090782403945923\n",
            "SSIM: 0.900485634803772\n",
            "PSNR: 36.26122236251831\n",
            "bpp: 4.908938884735107\n",
            "Epoch 68/100\n"
          ]
        },
        {
          "name": "stderr",
          "output_type": "stream",
          "text": [
            "100%|██████████| 200/200 [00:40<00:00,  4.88it/s]\n",
            "100%|██████████| 200/200 [00:37<00:00,  5.34it/s]\n",
            "100%|██████████| 25/25 [00:05<00:00,  4.74it/s]\n"
          ]
        },
        {
          "name": "stdout",
          "output_type": "stream",
          "text": [
            "Loss: 0.17257127165794373\n",
            "Accuracy: 0.9227530360221863\n",
            "SSIM: 0.826195478439331\n",
            "PSNR: 36.83504581451416\n",
            "bpp: 5.073036432266235\n",
            "Epoch 69/100\n"
          ]
        },
        {
          "name": "stderr",
          "output_type": "stream",
          "text": [
            "100%|██████████| 200/200 [00:41<00:00,  4.87it/s]\n",
            "100%|██████████| 200/200 [00:37<00:00,  5.36it/s]\n",
            "100%|██████████| 25/25 [00:05<00:00,  4.79it/s]\n"
          ]
        },
        {
          "name": "stdout",
          "output_type": "stream",
          "text": [
            "Loss: 0.3003530502319336\n",
            "Accuracy: 0.872563362121582\n",
            "SSIM: 0.9119058847427368\n",
            "PSNR: 36.32152318954468\n",
            "bpp: 4.470760345458984\n",
            "Epoch 70/100\n"
          ]
        },
        {
          "name": "stderr",
          "output_type": "stream",
          "text": [
            "100%|██████████| 200/200 [00:40<00:00,  4.90it/s]\n",
            "100%|██████████| 200/200 [00:37<00:00,  5.34it/s]\n",
            "100%|██████████| 25/25 [00:05<00:00,  4.49it/s]\n"
          ]
        },
        {
          "name": "stdout",
          "output_type": "stream",
          "text": [
            "Loss: 0.19031091034412384\n",
            "Accuracy: 0.9175893664360046\n",
            "SSIM: 0.8466407656669617\n",
            "PSNR: 36.21782064437866\n",
            "bpp: 5.011072397232056\n",
            "Epoch 71/100\n"
          ]
        },
        {
          "name": "stderr",
          "output_type": "stream",
          "text": [
            "100%|██████████| 200/200 [00:41<00:00,  4.80it/s]\n",
            "100%|██████████| 200/200 [00:37<00:00,  5.28it/s]\n",
            "100%|██████████| 25/25 [00:05<00:00,  4.72it/s]\n"
          ]
        },
        {
          "name": "stdout",
          "output_type": "stream",
          "text": [
            "Loss: 0.16110001504421234\n",
            "Accuracy: 0.9291377067565918\n",
            "SSIM: 0.831005334854126\n",
            "PSNR: 37.15400695800781\n",
            "bpp: 5.149652481079102\n",
            "Epoch 72/100\n"
          ]
        },
        {
          "name": "stderr",
          "output_type": "stream",
          "text": [
            "100%|██████████| 200/200 [00:40<00:00,  4.89it/s]\n",
            "100%|██████████| 200/200 [00:37<00:00,  5.38it/s]\n",
            "100%|██████████| 25/25 [00:05<00:00,  4.87it/s]\n"
          ]
        },
        {
          "name": "stdout",
          "output_type": "stream",
          "text": [
            "Loss: 0.2549862861633301\n",
            "Accuracy: 0.8821106553077698\n",
            "SSIM: 0.9018552303314209\n",
            "PSNR: 34.778850078582764\n",
            "bpp: 4.585327863693237\n",
            "Epoch 73/100\n"
          ]
        },
        {
          "name": "stderr",
          "output_type": "stream",
          "text": [
            "100%|██████████| 200/200 [00:40<00:00,  4.90it/s]\n",
            "100%|██████████| 200/200 [00:37<00:00,  5.36it/s]\n",
            "100%|██████████| 25/25 [00:05<00:00,  4.70it/s]\n"
          ]
        },
        {
          "name": "stdout",
          "output_type": "stream",
          "text": [
            "Loss: 0.1361382007598877\n",
            "Accuracy: 0.9435709118843079\n",
            "SSIM: 0.7529585957527161\n",
            "PSNR: 36.45906209945679\n",
            "bpp: 5.322850942611694\n",
            "Epoch 74/100\n"
          ]
        },
        {
          "name": "stderr",
          "output_type": "stream",
          "text": [
            "100%|██████████| 200/200 [00:41<00:00,  4.87it/s]\n",
            "100%|██████████| 200/200 [00:37<00:00,  5.32it/s]\n",
            "100%|██████████| 25/25 [00:05<00:00,  4.69it/s]\n"
          ]
        },
        {
          "name": "stdout",
          "output_type": "stream",
          "text": [
            "Loss: 0.18170928955078125\n",
            "Accuracy: 0.9190567135810852\n",
            "SSIM: 0.8382129073143005\n",
            "PSNR: 36.98911190032959\n",
            "bpp: 5.0286805629730225\n",
            "Epoch 75/100\n"
          ]
        },
        {
          "name": "stderr",
          "output_type": "stream",
          "text": [
            "100%|██████████| 200/200 [00:41<00:00,  4.83it/s]\n",
            "100%|██████████| 200/200 [00:38<00:00,  5.19it/s]\n",
            "100%|██████████| 25/25 [00:05<00:00,  4.52it/s]\n"
          ]
        },
        {
          "name": "stdout",
          "output_type": "stream",
          "text": [
            "Loss: 0.2541952133178711\n",
            "Accuracy: 0.9015027284622192\n",
            "SSIM: 0.7792112827301025\n",
            "PSNR: 36.51333570480347\n",
            "bpp: 4.818032741546631\n",
            "Epoch 76/100\n"
          ]
        },
        {
          "name": "stderr",
          "output_type": "stream",
          "text": [
            "100%|██████████| 200/200 [00:41<00:00,  4.81it/s]\n",
            "100%|██████████| 200/200 [00:37<00:00,  5.28it/s]\n",
            "100%|██████████| 25/25 [00:05<00:00,  4.65it/s]\n"
          ]
        },
        {
          "name": "stdout",
          "output_type": "stream",
          "text": [
            "Loss: 0.19361667335033417\n",
            "Accuracy: 0.9169167876243591\n",
            "SSIM: 0.8669577836990356\n",
            "PSNR: 37.69080400466919\n",
            "bpp: 5.00300145149231\n",
            "Epoch 77/100\n"
          ]
        },
        {
          "name": "stderr",
          "output_type": "stream",
          "text": [
            "100%|██████████| 200/200 [00:41<00:00,  4.78it/s]\n",
            "100%|██████████| 200/200 [00:37<00:00,  5.30it/s]\n",
            "100%|██████████| 25/25 [00:05<00:00,  4.69it/s]\n"
          ]
        },
        {
          "name": "stdout",
          "output_type": "stream",
          "text": [
            "Loss: 0.21967749297618866\n",
            "Accuracy: 0.9068415760993958\n",
            "SSIM: 0.8550418019294739\n",
            "PSNR: 36.852614879608154\n",
            "bpp: 4.882098913192749\n",
            "Epoch 78/100\n"
          ]
        },
        {
          "name": "stderr",
          "output_type": "stream",
          "text": [
            "100%|██████████| 200/200 [00:41<00:00,  4.83it/s]\n",
            "100%|██████████| 200/200 [00:37<00:00,  5.31it/s]\n",
            "100%|██████████| 25/25 [00:05<00:00,  4.59it/s]\n"
          ]
        },
        {
          "name": "stdout",
          "output_type": "stream",
          "text": [
            "Loss: 0.30028825998306274\n",
            "Accuracy: 0.8718920350074768\n",
            "SSIM: 0.8820968270301819\n",
            "PSNR: 34.49381113052368\n",
            "bpp: 4.462704420089722\n",
            "Epoch 79/100\n"
          ]
        },
        {
          "name": "stderr",
          "output_type": "stream",
          "text": [
            "100%|██████████| 200/200 [00:41<00:00,  4.81it/s]\n",
            "100%|██████████| 200/200 [00:37<00:00,  5.30it/s]\n",
            "100%|██████████| 25/25 [00:05<00:00,  4.70it/s]\n"
          ]
        },
        {
          "name": "stdout",
          "output_type": "stream",
          "text": [
            "Loss: 0.18309052288532257\n",
            "Accuracy: 0.9180831909179688\n",
            "SSIM: 0.8419144749641418\n",
            "PSNR: 36.365554332733154\n",
            "bpp: 5.016998291015625\n",
            "Epoch 80/100\n"
          ]
        },
        {
          "name": "stderr",
          "output_type": "stream",
          "text": [
            "100%|██████████| 200/200 [00:41<00:00,  4.80it/s]\n",
            "100%|██████████| 200/200 [00:37<00:00,  5.30it/s]\n",
            "100%|██████████| 25/25 [00:05<00:00,  4.63it/s]\n"
          ]
        },
        {
          "name": "stdout",
          "output_type": "stream",
          "text": [
            "Loss: 0.19288073480129242\n",
            "Accuracy: 0.912121593952179\n",
            "SSIM: 0.8822020292282104\n",
            "PSNR: 36.38742923736572\n",
            "bpp: 4.9454591274261475\n",
            "Epoch 81/100\n"
          ]
        },
        {
          "name": "stderr",
          "output_type": "stream",
          "text": [
            "100%|██████████| 200/200 [00:41<00:00,  4.79it/s]\n",
            "100%|██████████| 200/200 [00:37<00:00,  5.29it/s]\n",
            "100%|██████████| 25/25 [00:05<00:00,  4.52it/s]\n"
          ]
        },
        {
          "name": "stdout",
          "output_type": "stream",
          "text": [
            "Loss: 0.1534803807735443\n",
            "Accuracy: 0.9350006580352783\n",
            "SSIM: 0.8255879282951355\n",
            "PSNR: 38.18794250488281\n",
            "bpp: 5.22000789642334\n",
            "Epoch 82/100\n"
          ]
        },
        {
          "name": "stderr",
          "output_type": "stream",
          "text": [
            "100%|██████████| 200/200 [00:41<00:00,  4.77it/s]\n",
            "100%|██████████| 200/200 [00:37<00:00,  5.29it/s]\n",
            "100%|██████████| 25/25 [00:05<00:00,  4.61it/s]\n"
          ]
        },
        {
          "name": "stdout",
          "output_type": "stream",
          "text": [
            "Loss: 0.20237143337726593\n",
            "Accuracy: 0.9176263213157654\n",
            "SSIM: 0.8583377003669739\n",
            "PSNR: 36.720075607299805\n",
            "bpp: 5.011515855789185\n",
            "Epoch 83/100\n"
          ]
        },
        {
          "name": "stderr",
          "output_type": "stream",
          "text": [
            "100%|██████████| 200/200 [00:41<00:00,  4.77it/s]\n",
            "100%|██████████| 200/200 [00:37<00:00,  5.29it/s]\n",
            "100%|██████████| 25/25 [00:05<00:00,  4.60it/s]\n"
          ]
        },
        {
          "name": "stdout",
          "output_type": "stream",
          "text": [
            "Loss: 0.17466481029987335\n",
            "Accuracy: 0.9211088418960571\n",
            "SSIM: 0.8365662693977356\n",
            "PSNR: 37.581796646118164\n",
            "bpp: 5.0533061027526855\n",
            "Epoch 84/100\n"
          ]
        },
        {
          "name": "stderr",
          "output_type": "stream",
          "text": [
            "100%|██████████| 200/200 [00:41<00:00,  4.79it/s]\n",
            "100%|██████████| 200/200 [00:37<00:00,  5.29it/s]\n",
            "100%|██████████| 25/25 [00:05<00:00,  4.64it/s]\n"
          ]
        },
        {
          "name": "stdout",
          "output_type": "stream",
          "text": [
            "Loss: 0.17157037556171417\n",
            "Accuracy: 0.9289975762367249\n",
            "SSIM: 0.8394518494606018\n",
            "PSNR: 37.45224952697754\n",
            "bpp: 5.147970914840698\n",
            "Epoch 85/100\n"
          ]
        },
        {
          "name": "stderr",
          "output_type": "stream",
          "text": [
            "100%|██████████| 200/200 [00:41<00:00,  4.79it/s]\n",
            "100%|██████████| 200/200 [00:37<00:00,  5.29it/s]\n",
            "100%|██████████| 25/25 [00:05<00:00,  4.59it/s]\n"
          ]
        },
        {
          "name": "stdout",
          "output_type": "stream",
          "text": [
            "Loss: 0.1719505488872528\n",
            "Accuracy: 0.9283716082572937\n",
            "SSIM: 0.8152030110359192\n",
            "PSNR: 36.85389995574951\n",
            "bpp: 5.140459299087524\n",
            "Epoch 86/100\n"
          ]
        },
        {
          "name": "stderr",
          "output_type": "stream",
          "text": [
            "100%|██████████| 200/200 [00:41<00:00,  4.78it/s]\n",
            "100%|██████████| 200/200 [00:37<00:00,  5.32it/s]\n",
            "100%|██████████| 25/25 [00:05<00:00,  4.56it/s]\n"
          ]
        },
        {
          "name": "stdout",
          "output_type": "stream",
          "text": [
            "Loss: 0.16537965834140778\n",
            "Accuracy: 0.9286304116249084\n",
            "SSIM: 0.8496332168579102\n",
            "PSNR: 36.80922985076904\n",
            "bpp: 5.143564939498901\n",
            "Epoch 87/100\n"
          ]
        },
        {
          "name": "stderr",
          "output_type": "stream",
          "text": [
            "100%|██████████| 200/200 [00:41<00:00,  4.79it/s]\n",
            "100%|██████████| 200/200 [00:37<00:00,  5.30it/s]\n",
            "100%|██████████| 25/25 [00:05<00:00,  4.59it/s]\n"
          ]
        },
        {
          "name": "stdout",
          "output_type": "stream",
          "text": [
            "Loss: 0.22918322682380676\n",
            "Accuracy: 0.9001880884170532\n",
            "SSIM: 0.8328244090080261\n",
            "PSNR: 35.022709369659424\n",
            "bpp: 4.802257061004639\n",
            "Epoch 88/100\n"
          ]
        },
        {
          "name": "stderr",
          "output_type": "stream",
          "text": [
            "100%|██████████| 200/200 [00:41<00:00,  4.77it/s]\n",
            "100%|██████████| 200/200 [00:37<00:00,  5.29it/s]\n",
            "100%|██████████| 25/25 [00:05<00:00,  4.59it/s]\n"
          ]
        },
        {
          "name": "stdout",
          "output_type": "stream",
          "text": [
            "Loss: 0.21206091344356537\n",
            "Accuracy: 0.9087172150611877\n",
            "SSIM: 0.8650364875793457\n",
            "PSNR: 35.00600576400757\n",
            "bpp: 4.904606580734253\n",
            "Epoch 89/100\n"
          ]
        },
        {
          "name": "stderr",
          "output_type": "stream",
          "text": [
            "100%|██████████| 200/200 [00:42<00:00,  4.76it/s]\n",
            "100%|██████████| 200/200 [00:37<00:00,  5.28it/s]\n",
            "100%|██████████| 25/25 [00:05<00:00,  4.49it/s]\n"
          ]
        },
        {
          "name": "stdout",
          "output_type": "stream",
          "text": [
            "Loss: 0.25803735852241516\n",
            "Accuracy: 0.884745717048645\n",
            "SSIM: 0.9238615036010742\n",
            "PSNR: 35.761404037475586\n",
            "bpp: 4.61694860458374\n",
            "Epoch 90/100\n"
          ]
        },
        {
          "name": "stderr",
          "output_type": "stream",
          "text": [
            "100%|██████████| 200/200 [00:42<00:00,  4.75it/s]\n",
            "100%|██████████| 200/200 [00:37<00:00,  5.28it/s]\n",
            "100%|██████████| 25/25 [00:05<00:00,  4.49it/s]\n"
          ]
        },
        {
          "name": "stdout",
          "output_type": "stream",
          "text": [
            "Loss: 0.27690669894218445\n",
            "Accuracy: 0.8725987076759338\n",
            "SSIM: 0.8568848967552185\n",
            "PSNR: 33.19824457168579\n",
            "bpp: 4.471184492111206\n",
            "Epoch 91/100\n"
          ]
        },
        {
          "name": "stderr",
          "output_type": "stream",
          "text": [
            "100%|██████████| 200/200 [00:41<00:00,  4.77it/s]\n",
            "100%|██████████| 200/200 [00:37<00:00,  5.26it/s]\n",
            "100%|██████████| 25/25 [00:05<00:00,  4.49it/s]\n"
          ]
        },
        {
          "name": "stdout",
          "output_type": "stream",
          "text": [
            "Loss: 0.291970431804657\n",
            "Accuracy: 0.8750883936882019\n",
            "SSIM: 0.9181586503982544\n",
            "PSNR: 36.09663009643555\n",
            "bpp: 4.501060724258423\n",
            "Epoch 92/100\n"
          ]
        },
        {
          "name": "stderr",
          "output_type": "stream",
          "text": [
            "100%|██████████| 200/200 [00:42<00:00,  4.74it/s]\n",
            "100%|██████████| 200/200 [00:38<00:00,  5.26it/s]\n",
            "100%|██████████| 25/25 [00:05<00:00,  4.52it/s]\n"
          ]
        },
        {
          "name": "stdout",
          "output_type": "stream",
          "text": [
            "Loss: 0.18701569736003876\n",
            "Accuracy: 0.9256986379623413\n",
            "SSIM: 0.8023667335510254\n",
            "PSNR: 37.76261806488037\n",
            "bpp: 5.108383655548096\n",
            "Epoch 93/100\n"
          ]
        },
        {
          "name": "stderr",
          "output_type": "stream",
          "text": [
            "100%|██████████| 200/200 [00:42<00:00,  4.76it/s]\n",
            "100%|██████████| 200/200 [00:38<00:00,  5.26it/s]\n",
            "100%|██████████| 25/25 [00:05<00:00,  4.66it/s]\n"
          ]
        },
        {
          "name": "stdout",
          "output_type": "stream",
          "text": [
            "Loss: 0.17335917055606842\n",
            "Accuracy: 0.9262185096740723\n",
            "SSIM: 0.8207590579986572\n",
            "PSNR: 38.19645404815674\n",
            "bpp: 5.114622116088867\n",
            "Epoch 94/100\n"
          ]
        },
        {
          "name": "stderr",
          "output_type": "stream",
          "text": [
            "100%|██████████| 200/200 [00:41<00:00,  4.79it/s]\n",
            "100%|██████████| 200/200 [00:37<00:00,  5.28it/s]\n",
            "100%|██████████| 25/25 [00:05<00:00,  4.61it/s]\n"
          ]
        },
        {
          "name": "stdout",
          "output_type": "stream",
          "text": [
            "Loss: 0.2144855409860611\n",
            "Accuracy: 0.9033654928207397\n",
            "SSIM: 0.8835183382034302\n",
            "PSNR: 35.51535129547119\n",
            "bpp: 4.840385913848877\n",
            "Epoch 95/100\n"
          ]
        },
        {
          "name": "stderr",
          "output_type": "stream",
          "text": [
            "100%|██████████| 200/200 [00:41<00:00,  4.77it/s]\n",
            "100%|██████████| 200/200 [00:37<00:00,  5.28it/s]\n",
            "100%|██████████| 25/25 [00:05<00:00,  4.60it/s]\n"
          ]
        },
        {
          "name": "stdout",
          "output_type": "stream",
          "text": [
            "Loss: 0.19807331264019012\n",
            "Accuracy: 0.9183056950569153\n",
            "SSIM: 0.8457114696502686\n",
            "PSNR: 37.020227909088135\n",
            "bpp: 5.019668340682983\n",
            "Epoch 96/100\n"
          ]
        },
        {
          "name": "stderr",
          "output_type": "stream",
          "text": [
            "100%|██████████| 200/200 [00:42<00:00,  4.74it/s]\n",
            "100%|██████████| 200/200 [00:37<00:00,  5.28it/s]\n",
            "100%|██████████| 25/25 [00:05<00:00,  4.57it/s]\n"
          ]
        },
        {
          "name": "stdout",
          "output_type": "stream",
          "text": [
            "Loss: 0.20536105334758759\n",
            "Accuracy: 0.9065740704536438\n",
            "SSIM: 0.8699265122413635\n",
            "PSNR: 35.79024314880371\n",
            "bpp: 4.878888845443726\n",
            "Epoch 97/100\n"
          ]
        },
        {
          "name": "stderr",
          "output_type": "stream",
          "text": [
            "100%|██████████| 200/200 [00:42<00:00,  4.75it/s]\n",
            "100%|██████████| 200/200 [00:38<00:00,  5.26it/s]\n",
            "100%|██████████| 25/25 [00:05<00:00,  4.62it/s]\n"
          ]
        },
        {
          "name": "stdout",
          "output_type": "stream",
          "text": [
            "Loss: 0.18926210701465607\n",
            "Accuracy: 0.9185114502906799\n",
            "SSIM: 0.8198993802070618\n",
            "PSNR: 36.62461519241333\n",
            "bpp: 5.022137403488159\n",
            "Epoch 98/100\n"
          ]
        },
        {
          "name": "stderr",
          "output_type": "stream",
          "text": [
            "100%|██████████| 200/200 [00:42<00:00,  4.76it/s]\n",
            "100%|██████████| 200/200 [00:37<00:00,  5.27it/s]\n",
            "100%|██████████| 25/25 [00:05<00:00,  4.50it/s]\n"
          ]
        },
        {
          "name": "stdout",
          "output_type": "stream",
          "text": [
            "Loss: 0.17030128836631775\n",
            "Accuracy: 0.9285513162612915\n",
            "SSIM: 0.8765718936920166\n",
            "PSNR: 37.35104560852051\n",
            "bpp: 5.142615795135498\n",
            "Epoch 99/100\n"
          ]
        },
        {
          "name": "stderr",
          "output_type": "stream",
          "text": [
            "100%|██████████| 200/200 [00:42<00:00,  4.74it/s]\n",
            "100%|██████████| 200/200 [00:38<00:00,  5.26it/s]\n",
            "100%|██████████| 25/25 [00:05<00:00,  4.50it/s]\n"
          ]
        },
        {
          "name": "stdout",
          "output_type": "stream",
          "text": [
            "Loss: 0.2884438931941986\n",
            "Accuracy: 0.8905404210090637\n",
            "SSIM: 0.8322693109512329\n",
            "PSNR: 34.78038311004639\n",
            "bpp: 4.686485052108765\n",
            "Epoch 100/100\n"
          ]
        },
        {
          "name": "stderr",
          "output_type": "stream",
          "text": [
            "100%|██████████| 200/200 [00:42<00:00,  4.75it/s]\n",
            "100%|██████████| 200/200 [00:37<00:00,  5.26it/s]\n",
            "100%|██████████| 25/25 [00:05<00:00,  4.54it/s]\n"
          ]
        },
        {
          "name": "stdout",
          "output_type": "stream",
          "text": [
            "Loss: 0.2407342940568924\n",
            "Accuracy: 0.9003703594207764\n",
            "SSIM: 0.8802366256713867\n",
            "PSNR: 34.83315467834473\n",
            "bpp: 4.804444313049316\n"
          ]
        }
      ],
      "source": [
        "# Fit on the given data\n",
        "steganography.fit(train, validation, epochs=100)"
      ]
    },
    {
      "cell_type": "code",
      "execution_count": null,
      "metadata": {
        "id": "kgubID_JzL9-"
      },
      "outputs": [],
      "source": [
        "# Fit on the given data\n",
        "steganography.fit(train, validation, epochs=100)"
      ]
    },
    {
      "cell_type": "code",
      "execution_count": null,
      "metadata": {
        "id": "TUo_H_wIpLqQ"
      },
      "outputs": [],
      "source": [
        "# Load the model\n",
        "# from steganogan import SteganoGAN\n",
        "steganography = steganography.load(path='models/basic_100.steg')"
      ]
    },
    {
      "cell_type": "code",
      "execution_count": null,
      "metadata": {
        "colab": {
          "base_uri": "https://localhost:8080/"
        },
        "id": "XPBJgfRipWwM",
        "outputId": "9267a9a7-2c0b-4f41-99d7-136df1f0ecde"
      },
      "outputs": [
        {
          "name": "stdout",
          "output_type": "stream",
          "text": [
            "Enter data:aa\n",
            "\n",
            "Encoded data and output image generated\n",
            "\n"
          ]
        }
      ],
      "source": [
        "data = input(\"Enter data:\")\n",
        "print(\"\\r\")\n",
        "steganography.encode('input.png', 'output.png', data)\n",
        "print(\"Encoded data and output image generated\")\n",
        "print(\"\\r\")"
      ]
    },
    {
      "cell_type": "code",
      "execution_count": null,
      "metadata": {
        "colab": {
          "base_uri": "https://localhost:8080/",
          "height": 392
        },
        "id": "A7B67D3zpZ_W",
        "outputId": "b338e763-a27c-4b16-abbb-f0647193ec86"
      },
      "outputs": [
        {
          "name": "stdout",
          "output_type": "stream",
          "text": [
            "Decoding data from the image.....\n",
            "\r\n"
          ]
        },
        {
          "ename": "ValueError",
          "evalue": "ignored",
          "output_type": "error",
          "traceback": [
            "\u001b[0;31m---------------------------------------------------------------------------\u001b[0m",
            "\u001b[0;31mValueError\u001b[0m                                Traceback (most recent call last)",
            "\u001b[0;32m<ipython-input-16-e4295293850a>\u001b[0m in \u001b[0;36m<module>\u001b[0;34m()\u001b[0m\n\u001b[1;32m      1\u001b[0m \u001b[0mprint\u001b[0m\u001b[0;34m(\u001b[0m\u001b[0;34m\"Decoding data from the image.....\"\u001b[0m\u001b[0;34m)\u001b[0m\u001b[0;34m\u001b[0m\u001b[0;34m\u001b[0m\u001b[0m\n\u001b[1;32m      2\u001b[0m \u001b[0mprint\u001b[0m\u001b[0;34m(\u001b[0m\u001b[0;34m\"\\r\"\u001b[0m\u001b[0;34m)\u001b[0m\u001b[0;34m\u001b[0m\u001b[0;34m\u001b[0m\u001b[0m\n\u001b[0;32m----> 3\u001b[0;31m \u001b[0mdecoded_data\u001b[0m \u001b[0;34m=\u001b[0m \u001b[0msteganography\u001b[0m\u001b[0;34m.\u001b[0m\u001b[0mdecode\u001b[0m\u001b[0;34m(\u001b[0m\u001b[0;34m'output.png'\u001b[0m\u001b[0;34m)\u001b[0m\u001b[0;34m\u001b[0m\u001b[0;34m\u001b[0m\u001b[0m\n\u001b[0m\u001b[1;32m      4\u001b[0m \u001b[0mprint\u001b[0m\u001b[0;34m(\u001b[0m\u001b[0;34m\"Decoded data:\"\u001b[0m\u001b[0;34m)\u001b[0m\u001b[0;34m\u001b[0m\u001b[0;34m\u001b[0m\u001b[0m\n\u001b[1;32m      5\u001b[0m \u001b[0mprint\u001b[0m\u001b[0;34m(\u001b[0m\u001b[0;34m\"\\r\"\u001b[0m\u001b[0;34m)\u001b[0m\u001b[0;34m\u001b[0m\u001b[0;34m\u001b[0m\u001b[0m\n",
            "\u001b[0;32m<ipython-input-10-985afba47fa2>\u001b[0m in \u001b[0;36mdecode\u001b[0;34m(self, image)\u001b[0m\n\u001b[1;32m    328\u001b[0m         \u001b[0;31m# choose most common message\u001b[0m\u001b[0;34m\u001b[0m\u001b[0;34m\u001b[0m\u001b[0;34m\u001b[0m\u001b[0m\n\u001b[1;32m    329\u001b[0m         \u001b[0;32mif\u001b[0m \u001b[0mlen\u001b[0m\u001b[0;34m(\u001b[0m\u001b[0mcandidates\u001b[0m\u001b[0;34m)\u001b[0m \u001b[0;34m==\u001b[0m \u001b[0;36m0\u001b[0m\u001b[0;34m:\u001b[0m\u001b[0;34m\u001b[0m\u001b[0;34m\u001b[0m\u001b[0m\n\u001b[0;32m--> 330\u001b[0;31m             \u001b[0;32mraise\u001b[0m \u001b[0mValueError\u001b[0m\u001b[0;34m(\u001b[0m\u001b[0;34m'Failed to find message.'\u001b[0m\u001b[0;34m)\u001b[0m\u001b[0;34m\u001b[0m\u001b[0;34m\u001b[0m\u001b[0m\n\u001b[0m\u001b[1;32m    331\u001b[0m \u001b[0;34m\u001b[0m\u001b[0m\n\u001b[1;32m    332\u001b[0m         \u001b[0mcandidate\u001b[0m\u001b[0;34m,\u001b[0m \u001b[0mcount\u001b[0m \u001b[0;34m=\u001b[0m \u001b[0mcandidates\u001b[0m\u001b[0;34m.\u001b[0m\u001b[0mmost_common\u001b[0m\u001b[0;34m(\u001b[0m\u001b[0;36m1\u001b[0m\u001b[0;34m)\u001b[0m\u001b[0;34m[\u001b[0m\u001b[0;36m0\u001b[0m\u001b[0;34m]\u001b[0m\u001b[0;34m\u001b[0m\u001b[0;34m\u001b[0m\u001b[0m\n",
            "\u001b[0;31mValueError\u001b[0m: Failed to find message."
          ]
        }
      ],
      "source": [
        "print(\"Decoding data from the image.....\")\n",
        "print(\"\\r\")\n",
        "decoded_data = steganography.decode('output.png')\n",
        "print(\"Decoded data:\")\n",
        "print(\"\\r\")\n",
        "print(decoded_data)"
      ]
    },
    {
      "cell_type": "code",
      "execution_count": null,
      "metadata": {
        "id": "F7y69mkJtT8S"
      },
      "outputs": [],
      "source": [
        "# Load the model\n",
        "# from steganogan import SteganoGAN\n",
        "steganography = steganography.load(path='models/enhanced_100.steg')"
      ]
    },
    {
      "cell_type": "code",
      "execution_count": null,
      "metadata": {
        "colab": {
          "base_uri": "https://localhost:8080/"
        },
        "id": "qYOFz9gNtXSD",
        "outputId": "0e5b0f3f-e368-4971-b04b-321bc1bd4a0d"
      },
      "outputs": [
        {
          "name": "stdout",
          "output_type": "stream",
          "text": [
            "Enter data:abc\n",
            "\n",
            "Encoded data and output image generated\n",
            "\n"
          ]
        }
      ],
      "source": [
        "data = input(\"Enter data:\")\n",
        "print(\"\\r\")\n",
        "steganography.encode('input.png', 'output.png', data)\n",
        "print(\"Encoded data and output image generated\")\n",
        "print(\"\\r\")"
      ]
    },
    {
      "cell_type": "code",
      "execution_count": null,
      "metadata": {
        "colab": {
          "base_uri": "https://localhost:8080/"
        },
        "id": "3MvRKp0LtZNa",
        "outputId": "4eed0b87-3162-45a1-8acc-14bb2317cc6f"
      },
      "outputs": [
        {
          "name": "stdout",
          "output_type": "stream",
          "text": [
            "Decoding data from the image.....\n",
            "\n",
            "Decoded data:\n",
            "\n",
            "abc\n"
          ]
        }
      ],
      "source": [
        "print(\"Decoding data from the image.....\")\n",
        "print(\"\\r\")\n",
        "decoded_data = steganography.decode('output.png')\n",
        "print(\"Decoded data:\")\n",
        "print(\"\\r\")\n",
        "print(decoded_data)"
      ]
    }
  ],
  "metadata": {
    "accelerator": "GPU",
    "colab": {
      "machine_shape": "hm",
      "provenance": []
    },
    "kernelspec": {
      "display_name": "Python 3",
      "name": "python3"
    },
    "language_info": {
      "name": "python"
    }
  },
  "nbformat": 4,
  "nbformat_minor": 0
}